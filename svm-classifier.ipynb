{
 "cells": [
  {
   "cell_type": "code",
   "execution_count": 1,
   "id": "bc1e3dc5",
   "metadata": {
    "_cell_guid": "b1076dfc-b9ad-4769-8c92-a6c4dae69d19",
    "_uuid": "8f2839f25d086af736a60e9eeb907d3b93b6e0e5",
    "execution": {
     "iopub.execute_input": "2023-04-10T05:26:54.988008Z",
     "iopub.status.busy": "2023-04-10T05:26:54.987329Z",
     "iopub.status.idle": "2023-04-10T05:26:55.002472Z",
     "shell.execute_reply": "2023-04-10T05:26:55.000918Z"
    },
    "papermill": {
     "duration": 0.031765,
     "end_time": "2023-04-10T05:26:55.006641",
     "exception": false,
     "start_time": "2023-04-10T05:26:54.974876",
     "status": "completed"
    },
    "tags": []
   },
   "outputs": [],
   "source": [
    "import numpy as np # linear algebra"
   ]
  },
  {
   "cell_type": "code",
   "execution_count": 2,
   "id": "cb326f29",
   "metadata": {
    "execution": {
     "iopub.execute_input": "2023-04-10T05:26:55.024051Z",
     "iopub.status.busy": "2023-04-10T05:26:55.023192Z",
     "iopub.status.idle": "2023-04-10T05:26:55.037416Z",
     "shell.execute_reply": "2023-04-10T05:26:55.035901Z"
    },
    "papermill": {
     "duration": 0.026871,
     "end_time": "2023-04-10T05:26:55.041010",
     "exception": false,
     "start_time": "2023-04-10T05:26:55.014139",
     "status": "completed"
    },
    "tags": []
   },
   "outputs": [],
   "source": [
    "class SVM_classifier():\n",
    "\n",
    "\n",
    "  # initiating the hyperparameters\n",
    "  def __init__(self, learning_rate, no_of_iterations, lambda_parameter):\n",
    "\n",
    "    self.learning_rate = learning_rate\n",
    "    self.no_of_iterations = no_of_iterations\n",
    "    self.lambda_parameter = lambda_parameter\n",
    "\n",
    "\n",
    "  \n",
    "  # fitting the dataset to SVM Classifier\n",
    "  def fit(self, X, Y):\n",
    "\n",
    "    # m  --> number of Data points --> number of rows\n",
    "    # n  --> number of input features --> number of columns\n",
    "    self.m, self.n = X.shape\n",
    "\n",
    "    # initiating the weight value and bias value\n",
    "\n",
    "    self.w = np.zeros(self.n)\n",
    "\n",
    "    self.b = 0\n",
    "\n",
    "    self.X = X\n",
    "\n",
    "    self.Y = Y\n",
    "\n",
    "    # implementing Gradient Descent algorithm for Optimization\n",
    "\n",
    "    for i in range(self.no_of_iterations):\n",
    "      self.update_weights()\n",
    "\n",
    "\n",
    "\n",
    "  # function for updating the weight and bias value\n",
    "  def update_weights(self):\n",
    "\n",
    "    # label encoding\n",
    "    y_label = np.where(self.Y <= 0, -1, 1)\n",
    "\n",
    "\n",
    "\n",
    "    # gradients ( dw, db)\n",
    "    for index, x_i in enumerate(self.X):\n",
    "\n",
    "      condition = y_label[index] * (np.dot(x_i, self.w) - self.b) >= 1\n",
    "\n",
    "      if (condition == True):\n",
    "\n",
    "        dw = 2 * self.lambda_parameter * self.w\n",
    "        db = 0\n",
    "\n",
    "      else:\n",
    "\n",
    "        dw = 2 * self.lambda_parameter * self.w - np.dot(x_i, y_label[index])\n",
    "        db = y_label[index]\n",
    "\n",
    "\n",
    "      self.w = self.w - self.learning_rate * dw\n",
    "\n",
    "      self.b = self.b - self.learning_rate * db\n",
    "\n",
    "\n",
    "\n",
    "  # predict the label for a given input value\n",
    "  def predict(self, X):\n",
    "\n",
    "    output = np.dot(X, self.w) - self.b\n",
    "    \n",
    "    predicted_labels = np.sign(output)\n",
    "\n",
    "    y_hat = np.where(predicted_labels <= -1, 0, 1)\n",
    "\n",
    "    return y_hat"
   ]
  },
  {
   "cell_type": "code",
   "execution_count": 3,
   "id": "833d1c22",
   "metadata": {
    "execution": {
     "iopub.execute_input": "2023-04-10T05:26:55.057807Z",
     "iopub.status.busy": "2023-04-10T05:26:55.056941Z",
     "iopub.status.idle": "2023-04-10T05:26:55.062898Z",
     "shell.execute_reply": "2023-04-10T05:26:55.061910Z"
    },
    "papermill": {
     "duration": 0.017578,
     "end_time": "2023-04-10T05:26:55.065679",
     "exception": false,
     "start_time": "2023-04-10T05:26:55.048101",
     "status": "completed"
    },
    "tags": []
   },
   "outputs": [],
   "source": [
    "model = SVM_classifier(learning_rate = 0.001,no_of_iterations = 1000,lambda_parameter = 0.01)"
   ]
  },
  {
   "cell_type": "code",
   "execution_count": 4,
   "id": "a71abb68",
   "metadata": {
    "execution": {
     "iopub.execute_input": "2023-04-10T05:26:55.083252Z",
     "iopub.status.busy": "2023-04-10T05:26:55.082333Z",
     "iopub.status.idle": "2023-04-10T05:26:56.178018Z",
     "shell.execute_reply": "2023-04-10T05:26:56.176151Z"
    },
    "papermill": {
     "duration": 1.108783,
     "end_time": "2023-04-10T05:26:56.181443",
     "exception": false,
     "start_time": "2023-04-10T05:26:55.072660",
     "status": "completed"
    },
    "tags": []
   },
   "outputs": [],
   "source": [
    "import numpy as np\n",
    "import pandas as pd\n",
    "from sklearn.preprocessing import StandardScaler\n",
    "from sklearn.model_selection import train_test_split\n",
    "from sklearn.metrics import accuracy_score"
   ]
  },
  {
   "cell_type": "code",
   "execution_count": 5,
   "id": "abe492f4",
   "metadata": {
    "execution": {
     "iopub.execute_input": "2023-04-10T05:26:56.198872Z",
     "iopub.status.busy": "2023-04-10T05:26:56.198059Z",
     "iopub.status.idle": "2023-04-10T05:26:56.218637Z",
     "shell.execute_reply": "2023-04-10T05:26:56.217296Z"
    },
    "papermill": {
     "duration": 0.033258,
     "end_time": "2023-04-10T05:26:56.221708",
     "exception": false,
     "start_time": "2023-04-10T05:26:56.188450",
     "status": "completed"
    },
    "tags": []
   },
   "outputs": [],
   "source": [
    "# loading the diabetes dataset to a pandas DataFrame\n",
    "diabetes_data = pd.read_csv('/kaggle/input/diabetes/diabetes.csv') "
   ]
  },
  {
   "cell_type": "code",
   "execution_count": 6,
   "id": "6afbfb3d",
   "metadata": {
    "execution": {
     "iopub.execute_input": "2023-04-10T05:26:56.238531Z",
     "iopub.status.busy": "2023-04-10T05:26:56.238082Z",
     "iopub.status.idle": "2023-04-10T05:26:56.274321Z",
     "shell.execute_reply": "2023-04-10T05:26:56.272946Z"
    },
    "papermill": {
     "duration": 0.048913,
     "end_time": "2023-04-10T05:26:56.278088",
     "exception": false,
     "start_time": "2023-04-10T05:26:56.229175",
     "status": "completed"
    },
    "tags": []
   },
   "outputs": [
    {
     "data": {
      "text/html": [
       "<div>\n",
       "<style scoped>\n",
       "    .dataframe tbody tr th:only-of-type {\n",
       "        vertical-align: middle;\n",
       "    }\n",
       "\n",
       "    .dataframe tbody tr th {\n",
       "        vertical-align: top;\n",
       "    }\n",
       "\n",
       "    .dataframe thead th {\n",
       "        text-align: right;\n",
       "    }\n",
       "</style>\n",
       "<table border=\"1\" class=\"dataframe\">\n",
       "  <thead>\n",
       "    <tr style=\"text-align: right;\">\n",
       "      <th></th>\n",
       "      <th>Pregnancies</th>\n",
       "      <th>Glucose</th>\n",
       "      <th>BloodPressure</th>\n",
       "      <th>SkinThickness</th>\n",
       "      <th>Insulin</th>\n",
       "      <th>BMI</th>\n",
       "      <th>DiabetesPedigreeFunction</th>\n",
       "      <th>Age</th>\n",
       "      <th>Outcome</th>\n",
       "    </tr>\n",
       "  </thead>\n",
       "  <tbody>\n",
       "    <tr>\n",
       "      <th>0</th>\n",
       "      <td>6</td>\n",
       "      <td>148</td>\n",
       "      <td>72</td>\n",
       "      <td>35</td>\n",
       "      <td>0</td>\n",
       "      <td>33.6</td>\n",
       "      <td>0.627</td>\n",
       "      <td>50</td>\n",
       "      <td>1</td>\n",
       "    </tr>\n",
       "    <tr>\n",
       "      <th>1</th>\n",
       "      <td>1</td>\n",
       "      <td>85</td>\n",
       "      <td>66</td>\n",
       "      <td>29</td>\n",
       "      <td>0</td>\n",
       "      <td>26.6</td>\n",
       "      <td>0.351</td>\n",
       "      <td>31</td>\n",
       "      <td>0</td>\n",
       "    </tr>\n",
       "    <tr>\n",
       "      <th>2</th>\n",
       "      <td>8</td>\n",
       "      <td>183</td>\n",
       "      <td>64</td>\n",
       "      <td>0</td>\n",
       "      <td>0</td>\n",
       "      <td>23.3</td>\n",
       "      <td>0.672</td>\n",
       "      <td>32</td>\n",
       "      <td>1</td>\n",
       "    </tr>\n",
       "    <tr>\n",
       "      <th>3</th>\n",
       "      <td>1</td>\n",
       "      <td>89</td>\n",
       "      <td>66</td>\n",
       "      <td>23</td>\n",
       "      <td>94</td>\n",
       "      <td>28.1</td>\n",
       "      <td>0.167</td>\n",
       "      <td>21</td>\n",
       "      <td>0</td>\n",
       "    </tr>\n",
       "    <tr>\n",
       "      <th>4</th>\n",
       "      <td>0</td>\n",
       "      <td>137</td>\n",
       "      <td>40</td>\n",
       "      <td>35</td>\n",
       "      <td>168</td>\n",
       "      <td>43.1</td>\n",
       "      <td>2.288</td>\n",
       "      <td>33</td>\n",
       "      <td>1</td>\n",
       "    </tr>\n",
       "    <tr>\n",
       "      <th>5</th>\n",
       "      <td>5</td>\n",
       "      <td>116</td>\n",
       "      <td>74</td>\n",
       "      <td>0</td>\n",
       "      <td>0</td>\n",
       "      <td>25.6</td>\n",
       "      <td>0.201</td>\n",
       "      <td>30</td>\n",
       "      <td>0</td>\n",
       "    </tr>\n",
       "    <tr>\n",
       "      <th>6</th>\n",
       "      <td>3</td>\n",
       "      <td>78</td>\n",
       "      <td>50</td>\n",
       "      <td>32</td>\n",
       "      <td>88</td>\n",
       "      <td>31.0</td>\n",
       "      <td>0.248</td>\n",
       "      <td>26</td>\n",
       "      <td>1</td>\n",
       "    </tr>\n",
       "    <tr>\n",
       "      <th>7</th>\n",
       "      <td>10</td>\n",
       "      <td>115</td>\n",
       "      <td>0</td>\n",
       "      <td>0</td>\n",
       "      <td>0</td>\n",
       "      <td>35.3</td>\n",
       "      <td>0.134</td>\n",
       "      <td>29</td>\n",
       "      <td>0</td>\n",
       "    </tr>\n",
       "    <tr>\n",
       "      <th>8</th>\n",
       "      <td>2</td>\n",
       "      <td>197</td>\n",
       "      <td>70</td>\n",
       "      <td>45</td>\n",
       "      <td>543</td>\n",
       "      <td>30.5</td>\n",
       "      <td>0.158</td>\n",
       "      <td>53</td>\n",
       "      <td>1</td>\n",
       "    </tr>\n",
       "    <tr>\n",
       "      <th>9</th>\n",
       "      <td>8</td>\n",
       "      <td>125</td>\n",
       "      <td>96</td>\n",
       "      <td>0</td>\n",
       "      <td>0</td>\n",
       "      <td>0.0</td>\n",
       "      <td>0.232</td>\n",
       "      <td>54</td>\n",
       "      <td>1</td>\n",
       "    </tr>\n",
       "    <tr>\n",
       "      <th>10</th>\n",
       "      <td>4</td>\n",
       "      <td>110</td>\n",
       "      <td>92</td>\n",
       "      <td>0</td>\n",
       "      <td>0</td>\n",
       "      <td>37.6</td>\n",
       "      <td>0.191</td>\n",
       "      <td>30</td>\n",
       "      <td>0</td>\n",
       "    </tr>\n",
       "    <tr>\n",
       "      <th>11</th>\n",
       "      <td>10</td>\n",
       "      <td>168</td>\n",
       "      <td>74</td>\n",
       "      <td>0</td>\n",
       "      <td>0</td>\n",
       "      <td>38.0</td>\n",
       "      <td>0.537</td>\n",
       "      <td>34</td>\n",
       "      <td>1</td>\n",
       "    </tr>\n",
       "    <tr>\n",
       "      <th>12</th>\n",
       "      <td>10</td>\n",
       "      <td>139</td>\n",
       "      <td>80</td>\n",
       "      <td>0</td>\n",
       "      <td>0</td>\n",
       "      <td>27.1</td>\n",
       "      <td>1.441</td>\n",
       "      <td>57</td>\n",
       "      <td>0</td>\n",
       "    </tr>\n",
       "    <tr>\n",
       "      <th>13</th>\n",
       "      <td>1</td>\n",
       "      <td>189</td>\n",
       "      <td>60</td>\n",
       "      <td>23</td>\n",
       "      <td>846</td>\n",
       "      <td>30.1</td>\n",
       "      <td>0.398</td>\n",
       "      <td>59</td>\n",
       "      <td>1</td>\n",
       "    </tr>\n",
       "    <tr>\n",
       "      <th>14</th>\n",
       "      <td>5</td>\n",
       "      <td>166</td>\n",
       "      <td>72</td>\n",
       "      <td>19</td>\n",
       "      <td>175</td>\n",
       "      <td>25.8</td>\n",
       "      <td>0.587</td>\n",
       "      <td>51</td>\n",
       "      <td>1</td>\n",
       "    </tr>\n",
       "    <tr>\n",
       "      <th>15</th>\n",
       "      <td>7</td>\n",
       "      <td>100</td>\n",
       "      <td>0</td>\n",
       "      <td>0</td>\n",
       "      <td>0</td>\n",
       "      <td>30.0</td>\n",
       "      <td>0.484</td>\n",
       "      <td>32</td>\n",
       "      <td>1</td>\n",
       "    </tr>\n",
       "    <tr>\n",
       "      <th>16</th>\n",
       "      <td>0</td>\n",
       "      <td>118</td>\n",
       "      <td>84</td>\n",
       "      <td>47</td>\n",
       "      <td>230</td>\n",
       "      <td>45.8</td>\n",
       "      <td>0.551</td>\n",
       "      <td>31</td>\n",
       "      <td>1</td>\n",
       "    </tr>\n",
       "    <tr>\n",
       "      <th>17</th>\n",
       "      <td>7</td>\n",
       "      <td>107</td>\n",
       "      <td>74</td>\n",
       "      <td>0</td>\n",
       "      <td>0</td>\n",
       "      <td>29.6</td>\n",
       "      <td>0.254</td>\n",
       "      <td>31</td>\n",
       "      <td>1</td>\n",
       "    </tr>\n",
       "    <tr>\n",
       "      <th>18</th>\n",
       "      <td>1</td>\n",
       "      <td>103</td>\n",
       "      <td>30</td>\n",
       "      <td>38</td>\n",
       "      <td>83</td>\n",
       "      <td>43.3</td>\n",
       "      <td>0.183</td>\n",
       "      <td>33</td>\n",
       "      <td>0</td>\n",
       "    </tr>\n",
       "    <tr>\n",
       "      <th>19</th>\n",
       "      <td>1</td>\n",
       "      <td>115</td>\n",
       "      <td>70</td>\n",
       "      <td>30</td>\n",
       "      <td>96</td>\n",
       "      <td>34.6</td>\n",
       "      <td>0.529</td>\n",
       "      <td>32</td>\n",
       "      <td>1</td>\n",
       "    </tr>\n",
       "  </tbody>\n",
       "</table>\n",
       "</div>"
      ],
      "text/plain": [
       "    Pregnancies  Glucose  BloodPressure  SkinThickness  Insulin   BMI  \\\n",
       "0             6      148             72             35        0  33.6   \n",
       "1             1       85             66             29        0  26.6   \n",
       "2             8      183             64              0        0  23.3   \n",
       "3             1       89             66             23       94  28.1   \n",
       "4             0      137             40             35      168  43.1   \n",
       "5             5      116             74              0        0  25.6   \n",
       "6             3       78             50             32       88  31.0   \n",
       "7            10      115              0              0        0  35.3   \n",
       "8             2      197             70             45      543  30.5   \n",
       "9             8      125             96              0        0   0.0   \n",
       "10            4      110             92              0        0  37.6   \n",
       "11           10      168             74              0        0  38.0   \n",
       "12           10      139             80              0        0  27.1   \n",
       "13            1      189             60             23      846  30.1   \n",
       "14            5      166             72             19      175  25.8   \n",
       "15            7      100              0              0        0  30.0   \n",
       "16            0      118             84             47      230  45.8   \n",
       "17            7      107             74              0        0  29.6   \n",
       "18            1      103             30             38       83  43.3   \n",
       "19            1      115             70             30       96  34.6   \n",
       "\n",
       "    DiabetesPedigreeFunction  Age  Outcome  \n",
       "0                      0.627   50        1  \n",
       "1                      0.351   31        0  \n",
       "2                      0.672   32        1  \n",
       "3                      0.167   21        0  \n",
       "4                      2.288   33        1  \n",
       "5                      0.201   30        0  \n",
       "6                      0.248   26        1  \n",
       "7                      0.134   29        0  \n",
       "8                      0.158   53        1  \n",
       "9                      0.232   54        1  \n",
       "10                     0.191   30        0  \n",
       "11                     0.537   34        1  \n",
       "12                     1.441   57        0  \n",
       "13                     0.398   59        1  \n",
       "14                     0.587   51        1  \n",
       "15                     0.484   32        1  \n",
       "16                     0.551   31        1  \n",
       "17                     0.254   31        1  \n",
       "18                     0.183   33        0  \n",
       "19                     0.529   32        1  "
      ]
     },
     "execution_count": 6,
     "metadata": {},
     "output_type": "execute_result"
    }
   ],
   "source": [
    "diabetes_data.head(20)"
   ]
  },
  {
   "cell_type": "code",
   "execution_count": 7,
   "id": "bb589e38",
   "metadata": {
    "execution": {
     "iopub.execute_input": "2023-04-10T05:26:56.296584Z",
     "iopub.status.busy": "2023-04-10T05:26:56.295259Z",
     "iopub.status.idle": "2023-04-10T05:26:56.303982Z",
     "shell.execute_reply": "2023-04-10T05:26:56.302438Z"
    },
    "papermill": {
     "duration": 0.021655,
     "end_time": "2023-04-10T05:26:56.307239",
     "exception": false,
     "start_time": "2023-04-10T05:26:56.285584",
     "status": "completed"
    },
    "tags": []
   },
   "outputs": [
    {
     "data": {
      "text/plain": [
       "(768, 9)"
      ]
     },
     "execution_count": 7,
     "metadata": {},
     "output_type": "execute_result"
    }
   ],
   "source": [
    "diabetes_data.shape\n",
    "# .shape in pandas tells us the width and the height of the dataset ."
   ]
  },
  {
   "cell_type": "code",
   "execution_count": 8,
   "id": "a72aa1bc",
   "metadata": {
    "execution": {
     "iopub.execute_input": "2023-04-10T05:26:56.326892Z",
     "iopub.status.busy": "2023-04-10T05:26:56.325614Z",
     "iopub.status.idle": "2023-04-10T05:26:56.386934Z",
     "shell.execute_reply": "2023-04-10T05:26:56.385559Z"
    },
    "papermill": {
     "duration": 0.07454,
     "end_time": "2023-04-10T05:26:56.389755",
     "exception": false,
     "start_time": "2023-04-10T05:26:56.315215",
     "status": "completed"
    },
    "tags": []
   },
   "outputs": [
    {
     "data": {
      "text/html": [
       "<div>\n",
       "<style scoped>\n",
       "    .dataframe tbody tr th:only-of-type {\n",
       "        vertical-align: middle;\n",
       "    }\n",
       "\n",
       "    .dataframe tbody tr th {\n",
       "        vertical-align: top;\n",
       "    }\n",
       "\n",
       "    .dataframe thead th {\n",
       "        text-align: right;\n",
       "    }\n",
       "</style>\n",
       "<table border=\"1\" class=\"dataframe\">\n",
       "  <thead>\n",
       "    <tr style=\"text-align: right;\">\n",
       "      <th></th>\n",
       "      <th>Pregnancies</th>\n",
       "      <th>Glucose</th>\n",
       "      <th>BloodPressure</th>\n",
       "      <th>SkinThickness</th>\n",
       "      <th>Insulin</th>\n",
       "      <th>BMI</th>\n",
       "      <th>DiabetesPedigreeFunction</th>\n",
       "      <th>Age</th>\n",
       "      <th>Outcome</th>\n",
       "    </tr>\n",
       "  </thead>\n",
       "  <tbody>\n",
       "    <tr>\n",
       "      <th>count</th>\n",
       "      <td>768.000000</td>\n",
       "      <td>768.000000</td>\n",
       "      <td>768.000000</td>\n",
       "      <td>768.000000</td>\n",
       "      <td>768.000000</td>\n",
       "      <td>768.000000</td>\n",
       "      <td>768.000000</td>\n",
       "      <td>768.000000</td>\n",
       "      <td>768.000000</td>\n",
       "    </tr>\n",
       "    <tr>\n",
       "      <th>mean</th>\n",
       "      <td>3.845052</td>\n",
       "      <td>120.894531</td>\n",
       "      <td>69.105469</td>\n",
       "      <td>20.536458</td>\n",
       "      <td>79.799479</td>\n",
       "      <td>31.992578</td>\n",
       "      <td>0.471876</td>\n",
       "      <td>33.240885</td>\n",
       "      <td>0.348958</td>\n",
       "    </tr>\n",
       "    <tr>\n",
       "      <th>std</th>\n",
       "      <td>3.369578</td>\n",
       "      <td>31.972618</td>\n",
       "      <td>19.355807</td>\n",
       "      <td>15.952218</td>\n",
       "      <td>115.244002</td>\n",
       "      <td>7.884160</td>\n",
       "      <td>0.331329</td>\n",
       "      <td>11.760232</td>\n",
       "      <td>0.476951</td>\n",
       "    </tr>\n",
       "    <tr>\n",
       "      <th>min</th>\n",
       "      <td>0.000000</td>\n",
       "      <td>0.000000</td>\n",
       "      <td>0.000000</td>\n",
       "      <td>0.000000</td>\n",
       "      <td>0.000000</td>\n",
       "      <td>0.000000</td>\n",
       "      <td>0.078000</td>\n",
       "      <td>21.000000</td>\n",
       "      <td>0.000000</td>\n",
       "    </tr>\n",
       "    <tr>\n",
       "      <th>25%</th>\n",
       "      <td>1.000000</td>\n",
       "      <td>99.000000</td>\n",
       "      <td>62.000000</td>\n",
       "      <td>0.000000</td>\n",
       "      <td>0.000000</td>\n",
       "      <td>27.300000</td>\n",
       "      <td>0.243750</td>\n",
       "      <td>24.000000</td>\n",
       "      <td>0.000000</td>\n",
       "    </tr>\n",
       "    <tr>\n",
       "      <th>50%</th>\n",
       "      <td>3.000000</td>\n",
       "      <td>117.000000</td>\n",
       "      <td>72.000000</td>\n",
       "      <td>23.000000</td>\n",
       "      <td>30.500000</td>\n",
       "      <td>32.000000</td>\n",
       "      <td>0.372500</td>\n",
       "      <td>29.000000</td>\n",
       "      <td>0.000000</td>\n",
       "    </tr>\n",
       "    <tr>\n",
       "      <th>75%</th>\n",
       "      <td>6.000000</td>\n",
       "      <td>140.250000</td>\n",
       "      <td>80.000000</td>\n",
       "      <td>32.000000</td>\n",
       "      <td>127.250000</td>\n",
       "      <td>36.600000</td>\n",
       "      <td>0.626250</td>\n",
       "      <td>41.000000</td>\n",
       "      <td>1.000000</td>\n",
       "    </tr>\n",
       "    <tr>\n",
       "      <th>max</th>\n",
       "      <td>17.000000</td>\n",
       "      <td>199.000000</td>\n",
       "      <td>122.000000</td>\n",
       "      <td>99.000000</td>\n",
       "      <td>846.000000</td>\n",
       "      <td>67.100000</td>\n",
       "      <td>2.420000</td>\n",
       "      <td>81.000000</td>\n",
       "      <td>1.000000</td>\n",
       "    </tr>\n",
       "  </tbody>\n",
       "</table>\n",
       "</div>"
      ],
      "text/plain": [
       "       Pregnancies     Glucose  BloodPressure  SkinThickness     Insulin  \\\n",
       "count   768.000000  768.000000     768.000000     768.000000  768.000000   \n",
       "mean      3.845052  120.894531      69.105469      20.536458   79.799479   \n",
       "std       3.369578   31.972618      19.355807      15.952218  115.244002   \n",
       "min       0.000000    0.000000       0.000000       0.000000    0.000000   \n",
       "25%       1.000000   99.000000      62.000000       0.000000    0.000000   \n",
       "50%       3.000000  117.000000      72.000000      23.000000   30.500000   \n",
       "75%       6.000000  140.250000      80.000000      32.000000  127.250000   \n",
       "max      17.000000  199.000000     122.000000      99.000000  846.000000   \n",
       "\n",
       "              BMI  DiabetesPedigreeFunction         Age     Outcome  \n",
       "count  768.000000                768.000000  768.000000  768.000000  \n",
       "mean    31.992578                  0.471876   33.240885    0.348958  \n",
       "std      7.884160                  0.331329   11.760232    0.476951  \n",
       "min      0.000000                  0.078000   21.000000    0.000000  \n",
       "25%     27.300000                  0.243750   24.000000    0.000000  \n",
       "50%     32.000000                  0.372500   29.000000    0.000000  \n",
       "75%     36.600000                  0.626250   41.000000    1.000000  \n",
       "max     67.100000                  2.420000   81.000000    1.000000  "
      ]
     },
     "execution_count": 8,
     "metadata": {},
     "output_type": "execute_result"
    }
   ],
   "source": [
    "# getting the statistical measures of the dataset\n",
    "diabetes_data.describe()"
   ]
  },
  {
   "cell_type": "code",
   "execution_count": 9,
   "id": "97b9f5f1",
   "metadata": {
    "execution": {
     "iopub.execute_input": "2023-04-10T05:26:56.408177Z",
     "iopub.status.busy": "2023-04-10T05:26:56.407646Z",
     "iopub.status.idle": "2023-04-10T05:26:56.416955Z",
     "shell.execute_reply": "2023-04-10T05:26:56.415687Z"
    },
    "papermill": {
     "duration": 0.021443,
     "end_time": "2023-04-10T05:26:56.419441",
     "exception": false,
     "start_time": "2023-04-10T05:26:56.397998",
     "status": "completed"
    },
    "tags": []
   },
   "outputs": [
    {
     "data": {
      "text/plain": [
       "0    500\n",
       "1    268\n",
       "Name: Outcome, dtype: int64"
      ]
     },
     "execution_count": 9,
     "metadata": {},
     "output_type": "execute_result"
    }
   ],
   "source": [
    "diabetes_data[\"Outcome\"].value_counts()\n",
    "# with total of 768\n",
    "# 1 -------> 268\n",
    "# 0 -------> 500"
   ]
  },
  {
   "cell_type": "code",
   "execution_count": 10,
   "id": "792969a3",
   "metadata": {
    "execution": {
     "iopub.execute_input": "2023-04-10T05:26:56.438345Z",
     "iopub.status.busy": "2023-04-10T05:26:56.437549Z",
     "iopub.status.idle": "2023-04-10T05:26:56.445456Z",
     "shell.execute_reply": "2023-04-10T05:26:56.444420Z"
    },
    "papermill": {
     "duration": 0.020722,
     "end_time": "2023-04-10T05:26:56.448289",
     "exception": false,
     "start_time": "2023-04-10T05:26:56.427567",
     "status": "completed"
    },
    "tags": []
   },
   "outputs": [],
   "source": [
    "features = diabetes_data.drop(columns='Outcome',axis=1)\n",
    "# to drop the Outcoem columns axis = 1 means ---> column axis .\n",
    "target = diabetes_data[\"Outcome\"]"
   ]
  },
  {
   "cell_type": "code",
   "execution_count": 11,
   "id": "3259872c",
   "metadata": {
    "execution": {
     "iopub.execute_input": "2023-04-10T05:26:56.469427Z",
     "iopub.status.busy": "2023-04-10T05:26:56.468444Z",
     "iopub.status.idle": "2023-04-10T05:26:56.482274Z",
     "shell.execute_reply": "2023-04-10T05:26:56.480263Z"
    },
    "papermill": {
     "duration": 0.03065,
     "end_time": "2023-04-10T05:26:56.487074",
     "exception": false,
     "start_time": "2023-04-10T05:26:56.456424",
     "status": "completed"
    },
    "tags": []
   },
   "outputs": [
    {
     "name": "stdout",
     "output_type": "stream",
     "text": [
      "     Pregnancies  Glucose  BloodPressure  SkinThickness  Insulin   BMI  \\\n",
      "0              6      148             72             35        0  33.6   \n",
      "1              1       85             66             29        0  26.6   \n",
      "2              8      183             64              0        0  23.3   \n",
      "3              1       89             66             23       94  28.1   \n",
      "4              0      137             40             35      168  43.1   \n",
      "..           ...      ...            ...            ...      ...   ...   \n",
      "763           10      101             76             48      180  32.9   \n",
      "764            2      122             70             27        0  36.8   \n",
      "765            5      121             72             23      112  26.2   \n",
      "766            1      126             60              0        0  30.1   \n",
      "767            1       93             70             31        0  30.4   \n",
      "\n",
      "     DiabetesPedigreeFunction  Age  \n",
      "0                       0.627   50  \n",
      "1                       0.351   31  \n",
      "2                       0.672   32  \n",
      "3                       0.167   21  \n",
      "4                       2.288   33  \n",
      "..                        ...  ...  \n",
      "763                     0.171   63  \n",
      "764                     0.340   27  \n",
      "765                     0.245   30  \n",
      "766                     0.349   47  \n",
      "767                     0.315   23  \n",
      "\n",
      "[768 rows x 8 columns]\n"
     ]
    }
   ],
   "source": [
    "print(features)"
   ]
  },
  {
   "cell_type": "code",
   "execution_count": 12,
   "id": "d2e35c75",
   "metadata": {
    "execution": {
     "iopub.execute_input": "2023-04-10T05:26:56.507516Z",
     "iopub.status.busy": "2023-04-10T05:26:56.506094Z",
     "iopub.status.idle": "2023-04-10T05:26:56.515030Z",
     "shell.execute_reply": "2023-04-10T05:26:56.513246Z"
    },
    "papermill": {
     "duration": 0.021992,
     "end_time": "2023-04-10T05:26:56.517603",
     "exception": false,
     "start_time": "2023-04-10T05:26:56.495611",
     "status": "completed"
    },
    "tags": []
   },
   "outputs": [
    {
     "name": "stdout",
     "output_type": "stream",
     "text": [
      "0      1\n",
      "1      0\n",
      "2      1\n",
      "3      0\n",
      "4      1\n",
      "      ..\n",
      "763    0\n",
      "764    0\n",
      "765    0\n",
      "766    1\n",
      "767    0\n",
      "Name: Outcome, Length: 768, dtype: int64\n"
     ]
    }
   ],
   "source": [
    "print(target)"
   ]
  },
  {
   "cell_type": "code",
   "execution_count": 13,
   "id": "e62ddcbd",
   "metadata": {
    "execution": {
     "iopub.execute_input": "2023-04-10T05:26:56.536704Z",
     "iopub.status.busy": "2023-04-10T05:26:56.535613Z",
     "iopub.status.idle": "2023-04-10T05:26:56.542189Z",
     "shell.execute_reply": "2023-04-10T05:26:56.540716Z"
    },
    "papermill": {
     "duration": 0.019238,
     "end_time": "2023-04-10T05:26:56.544943",
     "exception": false,
     "start_time": "2023-04-10T05:26:56.525705",
     "status": "completed"
    },
    "tags": []
   },
   "outputs": [],
   "source": [
    "scaler = StandardScaler()"
   ]
  },
  {
   "cell_type": "code",
   "execution_count": 14,
   "id": "eb848ebe",
   "metadata": {
    "execution": {
     "iopub.execute_input": "2023-04-10T05:26:56.563875Z",
     "iopub.status.busy": "2023-04-10T05:26:56.563375Z",
     "iopub.status.idle": "2023-04-10T05:26:56.579351Z",
     "shell.execute_reply": "2023-04-10T05:26:56.577989Z"
    },
    "papermill": {
     "duration": 0.029341,
     "end_time": "2023-04-10T05:26:56.582542",
     "exception": false,
     "start_time": "2023-04-10T05:26:56.553201",
     "status": "completed"
    },
    "tags": []
   },
   "outputs": [
    {
     "data": {
      "text/plain": [
       "StandardScaler()"
      ]
     },
     "execution_count": 14,
     "metadata": {},
     "output_type": "execute_result"
    }
   ],
   "source": [
    "scaler.fit(features)"
   ]
  },
  {
   "cell_type": "code",
   "execution_count": 15,
   "id": "f3498d94",
   "metadata": {
    "execution": {
     "iopub.execute_input": "2023-04-10T05:26:56.603545Z",
     "iopub.status.busy": "2023-04-10T05:26:56.602545Z",
     "iopub.status.idle": "2023-04-10T05:26:56.611080Z",
     "shell.execute_reply": "2023-04-10T05:26:56.610015Z"
    },
    "papermill": {
     "duration": 0.022199,
     "end_time": "2023-04-10T05:26:56.613898",
     "exception": false,
     "start_time": "2023-04-10T05:26:56.591699",
     "status": "completed"
    },
    "tags": []
   },
   "outputs": [],
   "source": [
    "standardized_data = scaler.transform(features)"
   ]
  },
  {
   "cell_type": "code",
   "execution_count": 16,
   "id": "f52e9330",
   "metadata": {
    "execution": {
     "iopub.execute_input": "2023-04-10T05:26:56.633245Z",
     "iopub.status.busy": "2023-04-10T05:26:56.632366Z",
     "iopub.status.idle": "2023-04-10T05:26:56.640362Z",
     "shell.execute_reply": "2023-04-10T05:26:56.638933Z"
    },
    "papermill": {
     "duration": 0.02088,
     "end_time": "2023-04-10T05:26:56.643262",
     "exception": false,
     "start_time": "2023-04-10T05:26:56.622382",
     "status": "completed"
    },
    "tags": []
   },
   "outputs": [
    {
     "name": "stdout",
     "output_type": "stream",
     "text": [
      "[[ 0.63994726  0.84832379  0.14964075 ...  0.20401277  0.46849198\n",
      "   1.4259954 ]\n",
      " [-0.84488505 -1.12339636 -0.16054575 ... -0.68442195 -0.36506078\n",
      "  -0.19067191]\n",
      " [ 1.23388019  1.94372388 -0.26394125 ... -1.10325546  0.60439732\n",
      "  -0.10558415]\n",
      " ...\n",
      " [ 0.3429808   0.00330087  0.14964075 ... -0.73518964 -0.68519336\n",
      "  -0.27575966]\n",
      " [-0.84488505  0.1597866  -0.47073225 ... -0.24020459 -0.37110101\n",
      "   1.17073215]\n",
      " [-0.84488505 -0.8730192   0.04624525 ... -0.20212881 -0.47378505\n",
      "  -0.87137393]]\n"
     ]
    }
   ],
   "source": [
    "print(standardized_data)"
   ]
  },
  {
   "cell_type": "code",
   "execution_count": 17,
   "id": "e3413357",
   "metadata": {
    "execution": {
     "iopub.execute_input": "2023-04-10T05:26:56.661826Z",
     "iopub.status.busy": "2023-04-10T05:26:56.661367Z",
     "iopub.status.idle": "2023-04-10T05:26:56.667083Z",
     "shell.execute_reply": "2023-04-10T05:26:56.665712Z"
    },
    "papermill": {
     "duration": 0.018351,
     "end_time": "2023-04-10T05:26:56.669829",
     "exception": false,
     "start_time": "2023-04-10T05:26:56.651478",
     "status": "completed"
    },
    "tags": []
   },
   "outputs": [],
   "source": [
    "features = standardized_data\n",
    "target = diabetes_data['Outcome']"
   ]
  },
  {
   "cell_type": "code",
   "execution_count": 18,
   "id": "d766cf56",
   "metadata": {
    "execution": {
     "iopub.execute_input": "2023-04-10T05:26:56.689423Z",
     "iopub.status.busy": "2023-04-10T05:26:56.688923Z",
     "iopub.status.idle": "2023-04-10T05:26:56.698292Z",
     "shell.execute_reply": "2023-04-10T05:26:56.696555Z"
    },
    "papermill": {
     "duration": 0.022616,
     "end_time": "2023-04-10T05:26:56.701207",
     "exception": false,
     "start_time": "2023-04-10T05:26:56.678591",
     "status": "completed"
    },
    "tags": []
   },
   "outputs": [
    {
     "name": "stdout",
     "output_type": "stream",
     "text": [
      "[[ 0.63994726  0.84832379  0.14964075 ...  0.20401277  0.46849198\n",
      "   1.4259954 ]\n",
      " [-0.84488505 -1.12339636 -0.16054575 ... -0.68442195 -0.36506078\n",
      "  -0.19067191]\n",
      " [ 1.23388019  1.94372388 -0.26394125 ... -1.10325546  0.60439732\n",
      "  -0.10558415]\n",
      " ...\n",
      " [ 0.3429808   0.00330087  0.14964075 ... -0.73518964 -0.68519336\n",
      "  -0.27575966]\n",
      " [-0.84488505  0.1597866  -0.47073225 ... -0.24020459 -0.37110101\n",
      "   1.17073215]\n",
      " [-0.84488505 -0.8730192   0.04624525 ... -0.20212881 -0.47378505\n",
      "  -0.87137393]]\n",
      "0      1\n",
      "1      0\n",
      "2      1\n",
      "3      0\n",
      "4      1\n",
      "      ..\n",
      "763    0\n",
      "764    0\n",
      "765    0\n",
      "766    1\n",
      "767    0\n",
      "Name: Outcome, Length: 768, dtype: int64\n"
     ]
    }
   ],
   "source": [
    "print(features)\n",
    "print(target)"
   ]
  },
  {
   "cell_type": "code",
   "execution_count": 19,
   "id": "438362c3",
   "metadata": {
    "execution": {
     "iopub.execute_input": "2023-04-10T05:26:56.721479Z",
     "iopub.status.busy": "2023-04-10T05:26:56.721000Z",
     "iopub.status.idle": "2023-04-10T05:26:56.730277Z",
     "shell.execute_reply": "2023-04-10T05:26:56.728875Z"
    },
    "papermill": {
     "duration": 0.022371,
     "end_time": "2023-04-10T05:26:56.732790",
     "exception": false,
     "start_time": "2023-04-10T05:26:56.710419",
     "status": "completed"
    },
    "tags": []
   },
   "outputs": [],
   "source": [
    "X_train, X_test, Y_train, Y_test = train_test_split(features, target, test_size=0.2, random_state = 2)"
   ]
  },
  {
   "cell_type": "code",
   "execution_count": 20,
   "id": "01fd3b04",
   "metadata": {
    "execution": {
     "iopub.execute_input": "2023-04-10T05:26:56.752678Z",
     "iopub.status.busy": "2023-04-10T05:26:56.752194Z",
     "iopub.status.idle": "2023-04-10T05:26:56.759213Z",
     "shell.execute_reply": "2023-04-10T05:26:56.757532Z"
    },
    "papermill": {
     "duration": 0.020651,
     "end_time": "2023-04-10T05:26:56.762510",
     "exception": false,
     "start_time": "2023-04-10T05:26:56.741859",
     "status": "completed"
    },
    "tags": []
   },
   "outputs": [],
   "source": [
    "classifier = SVM_classifier(learning_rate=0.001, no_of_iterations=1000, lambda_parameter=0.01)"
   ]
  },
  {
   "cell_type": "code",
   "execution_count": 21,
   "id": "260d7851",
   "metadata": {
    "execution": {
     "iopub.execute_input": "2023-04-10T05:26:56.783530Z",
     "iopub.status.busy": "2023-04-10T05:26:56.783074Z",
     "iopub.status.idle": "2023-04-10T05:27:05.114861Z",
     "shell.execute_reply": "2023-04-10T05:27:05.113501Z"
    },
    "papermill": {
     "duration": 8.346071,
     "end_time": "2023-04-10T05:27:05.118053",
     "exception": false,
     "start_time": "2023-04-10T05:26:56.771982",
     "status": "completed"
    },
    "tags": []
   },
   "outputs": [],
   "source": [
    "#  training the SVM classifier with training data\n",
    "classifier.fit(X_train, Y_train)"
   ]
  },
  {
   "cell_type": "code",
   "execution_count": 22,
   "id": "fec5e68d",
   "metadata": {
    "execution": {
     "iopub.execute_input": "2023-04-10T05:27:05.138413Z",
     "iopub.status.busy": "2023-04-10T05:27:05.137724Z",
     "iopub.status.idle": "2023-04-10T05:27:05.148785Z",
     "shell.execute_reply": "2023-04-10T05:27:05.146946Z"
    },
    "papermill": {
     "duration": 0.027188,
     "end_time": "2023-04-10T05:27:05.154291",
     "exception": false,
     "start_time": "2023-04-10T05:27:05.127103",
     "status": "completed"
    },
    "tags": []
   },
   "outputs": [],
   "source": [
    "# accuracy on training data\n",
    "X_train_prediction = classifier.predict(X_train)\n",
    "training_data_accuracy = accuracy_score(Y_train, X_train_prediction)"
   ]
  },
  {
   "cell_type": "code",
   "execution_count": 23,
   "id": "888ee0f6",
   "metadata": {
    "execution": {
     "iopub.execute_input": "2023-04-10T05:27:05.183744Z",
     "iopub.status.busy": "2023-04-10T05:27:05.182875Z",
     "iopub.status.idle": "2023-04-10T05:27:05.191130Z",
     "shell.execute_reply": "2023-04-10T05:27:05.189203Z"
    },
    "papermill": {
     "duration": 0.029375,
     "end_time": "2023-04-10T05:27:05.196977",
     "exception": false,
     "start_time": "2023-04-10T05:27:05.167602",
     "status": "completed"
    },
    "tags": []
   },
   "outputs": [
    {
     "name": "stdout",
     "output_type": "stream",
     "text": [
      "Accuracy score on training data =  0.7768729641693811\n"
     ]
    }
   ],
   "source": [
    "print('Accuracy score on training data = ', training_data_accuracy)"
   ]
  },
  {
   "cell_type": "code",
   "execution_count": 24,
   "id": "0554a278",
   "metadata": {
    "execution": {
     "iopub.execute_input": "2023-04-10T05:27:05.222485Z",
     "iopub.status.busy": "2023-04-10T05:27:05.221895Z",
     "iopub.status.idle": "2023-04-10T05:27:05.229124Z",
     "shell.execute_reply": "2023-04-10T05:27:05.227649Z"
    },
    "papermill": {
     "duration": 0.0265,
     "end_time": "2023-04-10T05:27:05.232821",
     "exception": false,
     "start_time": "2023-04-10T05:27:05.206321",
     "status": "completed"
    },
    "tags": []
   },
   "outputs": [],
   "source": [
    "# accuracy on training data\n",
    "X_test_prediction = classifier.predict(X_test)\n",
    "test_data_accuracy = accuracy_score(Y_test, X_test_prediction)"
   ]
  },
  {
   "cell_type": "code",
   "execution_count": 25,
   "id": "9b176b14",
   "metadata": {
    "execution": {
     "iopub.execute_input": "2023-04-10T05:27:05.255302Z",
     "iopub.status.busy": "2023-04-10T05:27:05.254495Z",
     "iopub.status.idle": "2023-04-10T05:27:05.262520Z",
     "shell.execute_reply": "2023-04-10T05:27:05.260660Z"
    },
    "papermill": {
     "duration": 0.021519,
     "end_time": "2023-04-10T05:27:05.265193",
     "exception": false,
     "start_time": "2023-04-10T05:27:05.243674",
     "status": "completed"
    },
    "tags": []
   },
   "outputs": [
    {
     "name": "stdout",
     "output_type": "stream",
     "text": [
      "Accuracy score on test data =  0.7532467532467533\n"
     ]
    }
   ],
   "source": [
    "print('Accuracy score on test data = ', test_data_accuracy)"
   ]
  },
  {
   "cell_type": "code",
   "execution_count": 26,
   "id": "0960eee4",
   "metadata": {
    "execution": {
     "iopub.execute_input": "2023-04-10T05:27:05.286355Z",
     "iopub.status.busy": "2023-04-10T05:27:05.285529Z",
     "iopub.status.idle": "2023-04-10T05:27:05.297432Z",
     "shell.execute_reply": "2023-04-10T05:27:05.295980Z"
    },
    "papermill": {
     "duration": 0.025573,
     "end_time": "2023-04-10T05:27:05.299926",
     "exception": false,
     "start_time": "2023-04-10T05:27:05.274353",
     "status": "completed"
    },
    "tags": []
   },
   "outputs": [
    {
     "name": "stdout",
     "output_type": "stream",
     "text": [
      "[[ 0.3429808   1.41167241  0.14964075 -0.09637905  0.82661621 -0.78595734\n",
      "   0.34768723  1.51108316]]\n",
      "[1]\n",
      "The Person is diabetic\n"
     ]
    },
    {
     "name": "stderr",
     "output_type": "stream",
     "text": [
      "/opt/conda/lib/python3.7/site-packages/sklearn/base.py:451: UserWarning: X does not have valid feature names, but StandardScaler was fitted with feature names\n",
      "  \"X does not have valid feature names, but\"\n"
     ]
    }
   ],
   "source": [
    "input_data = (5,166,72,19,175,25.8,0.587,51)\n",
    "\n",
    "# change the input data to numpy array\n",
    "input_data_as_numpy_array = np.asarray(input_data)\n",
    "\n",
    "# reshape the array\n",
    "input_data_reshaped = input_data_as_numpy_array.reshape(1,-1)\n",
    "\n",
    "# standardizing the input data\n",
    "std_data = scaler.transform(input_data_reshaped)\n",
    "print(std_data)\n",
    "\n",
    "prediction = classifier.predict(std_data)\n",
    "print(prediction)\n",
    "\n",
    "if (prediction[0] == 0):\n",
    "  print('The person is not diabetic')\n",
    "\n",
    "else:\n",
    "  print('The Person is diabetic')"
   ]
  }
 ],
 "metadata": {
  "kernelspec": {
   "display_name": "Python 3",
   "language": "python",
   "name": "python3"
  },
  "language_info": {
   "codemirror_mode": {
    "name": "ipython",
    "version": 3
   },
   "file_extension": ".py",
   "mimetype": "text/x-python",
   "name": "python",
   "nbconvert_exporter": "python",
   "pygments_lexer": "ipython3",
   "version": "3.7.12"
  },
  "papermill": {
   "default_parameters": {},
   "duration": 22.665172,
   "end_time": "2023-04-10T05:27:06.133067",
   "environment_variables": {},
   "exception": null,
   "input_path": "__notebook__.ipynb",
   "output_path": "__notebook__.ipynb",
   "parameters": {},
   "start_time": "2023-04-10T05:26:43.467895",
   "version": "2.4.0"
  }
 },
 "nbformat": 4,
 "nbformat_minor": 5
}
