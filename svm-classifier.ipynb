{
 "cells": [
  {
   "cell_type": "code",
   "execution_count": 1,
   "id": "795857e6",
   "metadata": {
    "_cell_guid": "b1076dfc-b9ad-4769-8c92-a6c4dae69d19",
    "_uuid": "8f2839f25d086af736a60e9eeb907d3b93b6e0e5",
    "execution": {
     "iopub.execute_input": "2023-04-09T10:35:48.097183Z",
     "iopub.status.busy": "2023-04-09T10:35:48.096627Z",
     "iopub.status.idle": "2023-04-09T10:35:48.104413Z",
     "shell.execute_reply": "2023-04-09T10:35:48.103700Z"
    },
    "papermill": {
     "duration": 0.013495,
     "end_time": "2023-04-09T10:35:48.106209",
     "exception": false,
     "start_time": "2023-04-09T10:35:48.092714",
     "status": "completed"
    },
    "tags": []
   },
   "outputs": [],
   "source": [
    "import numpy as np # linear algebra"
   ]
  },
  {
   "cell_type": "code",
   "execution_count": 2,
   "id": "f8f5f471",
   "metadata": {
    "execution": {
     "iopub.execute_input": "2023-04-09T10:35:48.111618Z",
     "iopub.status.busy": "2023-04-09T10:35:48.110941Z",
     "iopub.status.idle": "2023-04-09T10:35:48.121714Z",
     "shell.execute_reply": "2023-04-09T10:35:48.120317Z"
    },
    "papermill": {
     "duration": 0.016651,
     "end_time": "2023-04-09T10:35:48.124587",
     "exception": false,
     "start_time": "2023-04-09T10:35:48.107936",
     "status": "completed"
    },
    "tags": []
   },
   "outputs": [],
   "source": [
    "class SVM_classifier():\n",
    "\n",
    "\n",
    "  # initiating the hyperparameters\n",
    "  def __init__(self, learning_rate, no_of_iterations, lambda_parameter):\n",
    "\n",
    "    self.learning_rate = learning_rate\n",
    "    self.no_of_iterations = no_of_iterations\n",
    "    self.lambda_parameter = lambda_parameter\n",
    "\n",
    "\n",
    "  \n",
    "  # fitting the dataset to SVM Classifier\n",
    "  def fit(self, X, Y):\n",
    "\n",
    "    # m  --> number of Data points --> number of rows\n",
    "    # n  --> number of input features --> number of columns\n",
    "    self.m, self.n = X.shape\n",
    "\n",
    "    # initiating the weight value and bias value\n",
    "\n",
    "    self.w = np.zeros(self.n)\n",
    "\n",
    "    self.b = 0\n",
    "\n",
    "    self.X = X\n",
    "\n",
    "    self.Y = Y\n",
    "\n",
    "    # implementing Gradient Descent algorithm for Optimization\n",
    "\n",
    "    for i in range(self.no_of_iterations):\n",
    "      self.update_weights()\n",
    "\n",
    "\n",
    "\n",
    "  # function for updating the weight and bias value\n",
    "  def update_weights(self):\n",
    "\n",
    "    # label encoding\n",
    "    y_label = np.where(self.Y <= 0, -1, 1)\n",
    "\n",
    "\n",
    "\n",
    "    # gradients ( dw, db)\n",
    "    for index, x_i in enumerate(self.X):\n",
    "\n",
    "      condition = y_label[index] * (np.dot(x_i, self.w) - self.b) >= 1\n",
    "\n",
    "      if (condition == True):\n",
    "\n",
    "        dw = 2 * self.lambda_parameter * self.w\n",
    "        db = 0\n",
    "\n",
    "      else:\n",
    "\n",
    "        dw = 2 * self.lambda_parameter * self.w - np.dot(x_i, y_label[index])\n",
    "        db = y_label[index]\n",
    "\n",
    "\n",
    "      self.w = self.w - self.learning_rate * dw\n",
    "\n",
    "      self.b = self.b - self.learning_rate * db\n",
    "\n",
    "\n",
    "\n",
    "  # predict the label for a given input value\n",
    "  def predict(self, X):\n",
    "\n",
    "    output = np.dot(X, self.w) - self.b\n",
    "    \n",
    "    predicted_labels = np.sign(output)\n",
    "\n",
    "    y_hat = np.where(predicted_labels <= -1, 0, 1)\n",
    "\n",
    "    return y_hat"
   ]
  },
  {
   "cell_type": "code",
   "execution_count": 3,
   "id": "69bb31fd",
   "metadata": {
    "execution": {
     "iopub.execute_input": "2023-04-09T10:35:48.130293Z",
     "iopub.status.busy": "2023-04-09T10:35:48.129201Z",
     "iopub.status.idle": "2023-04-09T10:35:48.135156Z",
     "shell.execute_reply": "2023-04-09T10:35:48.133669Z"
    },
    "papermill": {
     "duration": 0.011324,
     "end_time": "2023-04-09T10:35:48.137713",
     "exception": false,
     "start_time": "2023-04-09T10:35:48.126389",
     "status": "completed"
    },
    "tags": []
   },
   "outputs": [],
   "source": [
    "model = SVM_classifier(learning_rate = 0.001,no_of_iterations = 1000,lambda_parameter = 0.01)"
   ]
  }
 ],
 "metadata": {
  "kernelspec": {
   "display_name": "Python 3",
   "language": "python",
   "name": "python3"
  },
  "language_info": {
   "codemirror_mode": {
    "name": "ipython",
    "version": 3
   },
   "file_extension": ".py",
   "mimetype": "text/x-python",
   "name": "python",
   "nbconvert_exporter": "python",
   "pygments_lexer": "ipython3",
   "version": "3.7.12"
  },
  "papermill": {
   "default_parameters": {},
   "duration": 9.216181,
   "end_time": "2023-04-09T10:35:48.761156",
   "environment_variables": {},
   "exception": null,
   "input_path": "__notebook__.ipynb",
   "output_path": "__notebook__.ipynb",
   "parameters": {},
   "start_time": "2023-04-09T10:35:39.544975",
   "version": "2.4.0"
  }
 },
 "nbformat": 4,
 "nbformat_minor": 5
}
