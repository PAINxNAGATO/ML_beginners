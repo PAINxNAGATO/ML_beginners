{
 "cells": [
  {
   "cell_type": "code",
   "execution_count": 1,
   "id": "102c2a67",
   "metadata": {
    "_cell_guid": "b1076dfc-b9ad-4769-8c92-a6c4dae69d19",
    "_uuid": "8f2839f25d086af736a60e9eeb907d3b93b6e0e5",
    "execution": {
     "iopub.execute_input": "2023-04-29T12:14:50.534716Z",
     "iopub.status.busy": "2023-04-29T12:14:50.533179Z",
     "iopub.status.idle": "2023-04-29T12:14:59.579242Z",
     "shell.execute_reply": "2023-04-29T12:14:59.577532Z"
    },
    "papermill": {
     "duration": 9.059201,
     "end_time": "2023-04-29T12:14:59.582735",
     "exception": false,
     "start_time": "2023-04-29T12:14:50.523534",
     "status": "completed"
    },
    "tags": []
   },
   "outputs": [],
   "source": [
    "import tensorflow as tf\n",
    "from tensorflow import keras\n",
    "import matplotlib.pyplot as plt\n",
    "# %matplotlib inline \n",
    "# The %matplotlib inline command is a magic function in Jupyter Notebook and other IPython environments that allows for the rendering of Matplotlib plots directly in the output cell of the notebook\n",
    "# using %matplotlib inline command saves us the trouble to write the prinnt command \n",
    "# however is not used in kaggle as kaggle already has an inbuilt 'inline backend' for the matplotlib.\n",
    "import numpy as np \n"
   ]
  },
  {
   "cell_type": "code",
   "execution_count": 2,
   "id": "c7bcc6b4",
   "metadata": {
    "execution": {
     "iopub.execute_input": "2023-04-29T12:14:59.599040Z",
     "iopub.status.busy": "2023-04-29T12:14:59.598307Z",
     "iopub.status.idle": "2023-04-29T12:15:01.288675Z",
     "shell.execute_reply": "2023-04-29T12:15:01.287250Z"
    },
    "papermill": {
     "duration": 1.702646,
     "end_time": "2023-04-29T12:15:01.291765",
     "exception": false,
     "start_time": "2023-04-29T12:14:59.589119",
     "status": "completed"
    },
    "tags": []
   },
   "outputs": [
    {
     "name": "stdout",
     "output_type": "stream",
     "text": [
      "Downloading data from https://storage.googleapis.com/tensorflow/tf-keras-datasets/mnist.npz\n",
      "11490434/11490434 [==============================] - 1s 0us/step\n"
     ]
    }
   ],
   "source": [
    "(x_train, y_train) , (x_test , y_test) = keras.datasets.mnist.load_data()\n",
    "# This code loads the mnist \n",
    "# The second part loads the two tuples \n",
    "#  firstly the training data the second tuple stores the testing data .\n",
    "# of the mnist data set \n",
    "# x_train holds the 3-d array size (60000, 28 , 28)\n",
    "# test contains (60,000) to test the model ."
   ]
  },
  {
   "cell_type": "code",
   "execution_count": 3,
   "id": "8f06260f",
   "metadata": {
    "execution": {
     "iopub.execute_input": "2023-04-29T12:15:01.307453Z",
     "iopub.status.busy": "2023-04-29T12:15:01.307094Z",
     "iopub.status.idle": "2023-04-29T12:15:01.315099Z",
     "shell.execute_reply": "2023-04-29T12:15:01.313770Z"
    },
    "papermill": {
     "duration": 0.018511,
     "end_time": "2023-04-29T12:15:01.317337",
     "exception": false,
     "start_time": "2023-04-29T12:15:01.298826",
     "status": "completed"
    },
    "tags": []
   },
   "outputs": [
    {
     "data": {
      "text/plain": [
       "60000"
      ]
     },
     "execution_count": 3,
     "metadata": {},
     "output_type": "execute_result"
    }
   ],
   "source": [
    "len(x_train)\n",
    "# length of the training data set "
   ]
  },
  {
   "cell_type": "code",
   "execution_count": 4,
   "id": "30b22602",
   "metadata": {
    "execution": {
     "iopub.execute_input": "2023-04-29T12:15:01.334383Z",
     "iopub.status.busy": "2023-04-29T12:15:01.333992Z",
     "iopub.status.idle": "2023-04-29T12:15:01.340934Z",
     "shell.execute_reply": "2023-04-29T12:15:01.339663Z"
    },
    "papermill": {
     "duration": 0.019237,
     "end_time": "2023-04-29T12:15:01.344123",
     "exception": false,
     "start_time": "2023-04-29T12:15:01.324886",
     "status": "completed"
    },
    "tags": []
   },
   "outputs": [
    {
     "data": {
      "text/plain": [
       "10000"
      ]
     },
     "execution_count": 4,
     "metadata": {},
     "output_type": "execute_result"
    }
   ],
   "source": [
    "len(x_test)\n",
    "# length of the test data ."
   ]
  },
  {
   "cell_type": "code",
   "execution_count": 5,
   "id": "83f9a234",
   "metadata": {
    "execution": {
     "iopub.execute_input": "2023-04-29T12:15:01.361998Z",
     "iopub.status.busy": "2023-04-29T12:15:01.360971Z",
     "iopub.status.idle": "2023-04-29T12:15:01.367749Z",
     "shell.execute_reply": "2023-04-29T12:15:01.366790Z"
    },
    "papermill": {
     "duration": 0.018016,
     "end_time": "2023-04-29T12:15:01.369869",
     "exception": false,
     "start_time": "2023-04-29T12:15:01.351853",
     "status": "completed"
    },
    "tags": []
   },
   "outputs": [
    {
     "data": {
      "text/plain": [
       "(28, 28)"
      ]
     },
     "execution_count": 5,
     "metadata": {},
     "output_type": "execute_result"
    }
   ],
   "source": [
    "x_train[0].shape"
   ]
  },
  {
   "cell_type": "code",
   "execution_count": 6,
   "id": "7c7449e8",
   "metadata": {
    "execution": {
     "iopub.execute_input": "2023-04-29T12:15:01.387037Z",
     "iopub.status.busy": "2023-04-29T12:15:01.386377Z",
     "iopub.status.idle": "2023-04-29T12:15:01.397374Z",
     "shell.execute_reply": "2023-04-29T12:15:01.396554Z"
    },
    "papermill": {
     "duration": 0.021971,
     "end_time": "2023-04-29T12:15:01.399381",
     "exception": false,
     "start_time": "2023-04-29T12:15:01.377410",
     "status": "completed"
    },
    "tags": []
   },
   "outputs": [
    {
     "data": {
      "text/plain": [
       "array([[  0,   0,   0,   0,   0,   0,   0,   0,   0,   0,   0,   0,   0,\n",
       "          0,   0,   0,   0,   0,   0,   0,   0,   0,   0,   0,   0,   0,\n",
       "          0,   0],\n",
       "       [  0,   0,   0,   0,   0,   0,   0,   0,   0,   0,   0,   0,   0,\n",
       "          0,   0,   0,   0,   0,   0,   0,   0,   0,   0,   0,   0,   0,\n",
       "          0,   0],\n",
       "       [  0,   0,   0,   0,   0,   0,   0,   0,   0,   0,   0,   0,   0,\n",
       "          0,   0,   0,   0,   0,   0,   0,   0,   0,   0,   0,   0,   0,\n",
       "          0,   0],\n",
       "       [  0,   0,   0,   0,   0,   0,   0,   0,   0,   0,   0,   0,   0,\n",
       "          0,   0,   0,   0,   0,   0,   0,   0,   0,   0,   0,   0,   0,\n",
       "          0,   0],\n",
       "       [  0,   0,   0,   0,   0,   0,   0,   0,   0,   0,   0,   0,   0,\n",
       "          0,   0,   0,   0,   0,   0,   0,   0,   0,   0,   0,   0,   0,\n",
       "          0,   0],\n",
       "       [  0,   0,   0,   0,   0,   0,   0,   0,   0,   0,   0,   0,   3,\n",
       "         18,  18,  18, 126, 136, 175,  26, 166, 255, 247, 127,   0,   0,\n",
       "          0,   0],\n",
       "       [  0,   0,   0,   0,   0,   0,   0,   0,  30,  36,  94, 154, 170,\n",
       "        253, 253, 253, 253, 253, 225, 172, 253, 242, 195,  64,   0,   0,\n",
       "          0,   0],\n",
       "       [  0,   0,   0,   0,   0,   0,   0,  49, 238, 253, 253, 253, 253,\n",
       "        253, 253, 253, 253, 251,  93,  82,  82,  56,  39,   0,   0,   0,\n",
       "          0,   0],\n",
       "       [  0,   0,   0,   0,   0,   0,   0,  18, 219, 253, 253, 253, 253,\n",
       "        253, 198, 182, 247, 241,   0,   0,   0,   0,   0,   0,   0,   0,\n",
       "          0,   0],\n",
       "       [  0,   0,   0,   0,   0,   0,   0,   0,  80, 156, 107, 253, 253,\n",
       "        205,  11,   0,  43, 154,   0,   0,   0,   0,   0,   0,   0,   0,\n",
       "          0,   0],\n",
       "       [  0,   0,   0,   0,   0,   0,   0,   0,   0,  14,   1, 154, 253,\n",
       "         90,   0,   0,   0,   0,   0,   0,   0,   0,   0,   0,   0,   0,\n",
       "          0,   0],\n",
       "       [  0,   0,   0,   0,   0,   0,   0,   0,   0,   0,   0, 139, 253,\n",
       "        190,   2,   0,   0,   0,   0,   0,   0,   0,   0,   0,   0,   0,\n",
       "          0,   0],\n",
       "       [  0,   0,   0,   0,   0,   0,   0,   0,   0,   0,   0,  11, 190,\n",
       "        253,  70,   0,   0,   0,   0,   0,   0,   0,   0,   0,   0,   0,\n",
       "          0,   0],\n",
       "       [  0,   0,   0,   0,   0,   0,   0,   0,   0,   0,   0,   0,  35,\n",
       "        241, 225, 160, 108,   1,   0,   0,   0,   0,   0,   0,   0,   0,\n",
       "          0,   0],\n",
       "       [  0,   0,   0,   0,   0,   0,   0,   0,   0,   0,   0,   0,   0,\n",
       "         81, 240, 253, 253, 119,  25,   0,   0,   0,   0,   0,   0,   0,\n",
       "          0,   0],\n",
       "       [  0,   0,   0,   0,   0,   0,   0,   0,   0,   0,   0,   0,   0,\n",
       "          0,  45, 186, 253, 253, 150,  27,   0,   0,   0,   0,   0,   0,\n",
       "          0,   0],\n",
       "       [  0,   0,   0,   0,   0,   0,   0,   0,   0,   0,   0,   0,   0,\n",
       "          0,   0,  16,  93, 252, 253, 187,   0,   0,   0,   0,   0,   0,\n",
       "          0,   0],\n",
       "       [  0,   0,   0,   0,   0,   0,   0,   0,   0,   0,   0,   0,   0,\n",
       "          0,   0,   0,   0, 249, 253, 249,  64,   0,   0,   0,   0,   0,\n",
       "          0,   0],\n",
       "       [  0,   0,   0,   0,   0,   0,   0,   0,   0,   0,   0,   0,   0,\n",
       "          0,  46, 130, 183, 253, 253, 207,   2,   0,   0,   0,   0,   0,\n",
       "          0,   0],\n",
       "       [  0,   0,   0,   0,   0,   0,   0,   0,   0,   0,   0,   0,  39,\n",
       "        148, 229, 253, 253, 253, 250, 182,   0,   0,   0,   0,   0,   0,\n",
       "          0,   0],\n",
       "       [  0,   0,   0,   0,   0,   0,   0,   0,   0,   0,  24, 114, 221,\n",
       "        253, 253, 253, 253, 201,  78,   0,   0,   0,   0,   0,   0,   0,\n",
       "          0,   0],\n",
       "       [  0,   0,   0,   0,   0,   0,   0,   0,  23,  66, 213, 253, 253,\n",
       "        253, 253, 198,  81,   2,   0,   0,   0,   0,   0,   0,   0,   0,\n",
       "          0,   0],\n",
       "       [  0,   0,   0,   0,   0,   0,  18, 171, 219, 253, 253, 253, 253,\n",
       "        195,  80,   9,   0,   0,   0,   0,   0,   0,   0,   0,   0,   0,\n",
       "          0,   0],\n",
       "       [  0,   0,   0,   0,  55, 172, 226, 253, 253, 253, 253, 244, 133,\n",
       "         11,   0,   0,   0,   0,   0,   0,   0,   0,   0,   0,   0,   0,\n",
       "          0,   0],\n",
       "       [  0,   0,   0,   0, 136, 253, 253, 253, 212, 135, 132,  16,   0,\n",
       "          0,   0,   0,   0,   0,   0,   0,   0,   0,   0,   0,   0,   0,\n",
       "          0,   0],\n",
       "       [  0,   0,   0,   0,   0,   0,   0,   0,   0,   0,   0,   0,   0,\n",
       "          0,   0,   0,   0,   0,   0,   0,   0,   0,   0,   0,   0,   0,\n",
       "          0,   0],\n",
       "       [  0,   0,   0,   0,   0,   0,   0,   0,   0,   0,   0,   0,   0,\n",
       "          0,   0,   0,   0,   0,   0,   0,   0,   0,   0,   0,   0,   0,\n",
       "          0,   0],\n",
       "       [  0,   0,   0,   0,   0,   0,   0,   0,   0,   0,   0,   0,   0,\n",
       "          0,   0,   0,   0,   0,   0,   0,   0,   0,   0,   0,   0,   0,\n",
       "          0,   0]], dtype=uint8)"
      ]
     },
     "execution_count": 6,
     "metadata": {},
     "output_type": "execute_result"
    }
   ],
   "source": [
    "x_train[0]"
   ]
  },
  {
   "cell_type": "code",
   "execution_count": 7,
   "id": "f446ea74",
   "metadata": {
    "execution": {
     "iopub.execute_input": "2023-04-29T12:15:01.417504Z",
     "iopub.status.busy": "2023-04-29T12:15:01.417043Z",
     "iopub.status.idle": "2023-04-29T12:15:01.649217Z",
     "shell.execute_reply": "2023-04-29T12:15:01.648318Z"
    },
    "papermill": {
     "duration": 0.244022,
     "end_time": "2023-04-29T12:15:01.651333",
     "exception": false,
     "start_time": "2023-04-29T12:15:01.407311",
     "status": "completed"
    },
    "tags": []
   },
   "outputs": [
    {
     "data": {
      "text/plain": [
       "<matplotlib.image.AxesImage at 0x7e8aaa21f910>"
      ]
     },
     "execution_count": 7,
     "metadata": {},
     "output_type": "execute_result"
    },
    {
     "data": {
      "image/png": "[encoded data removed]",
      "text/plain": [
       "<Figure size 480x480 with 1 Axes>"
      ]
     },
     "metadata": {},
     "output_type": "display_data"
    }
   ],
   "source": [
    "plt.matshow(x_train[0])"
   ]
  },
  {
   "cell_type": "code",
   "execution_count": 8,
   "id": "832fc986",
   "metadata": {
    "execution": {
     "iopub.execute_input": "2023-04-29T12:15:01.676224Z",
     "iopub.status.busy": "2023-04-29T12:15:01.675384Z",
     "iopub.status.idle": "2023-04-29T12:15:01.873354Z",
     "shell.execute_reply": "2023-04-29T12:15:01.872303Z"
    },
    "papermill": {
     "duration": 0.213119,
     "end_time": "2023-04-29T12:15:01.875770",
     "exception": false,
     "start_time": "2023-04-29T12:15:01.662651",
     "status": "completed"
    },
    "tags": []
   },
   "outputs": [
    {
     "data": {
      "text/plain": [
       "<matplotlib.image.AxesImage at 0x7e8aa08be890>"
      ]
     },
     "execution_count": 8,
     "metadata": {},
     "output_type": "execute_result"
    },
    {
     "data": {
      "image/png": "[encoded data removed]",
      "text/plain": [
       "<Figure size 480x480 with 1 Axes>"
      ]
     },
     "metadata": {},
     "output_type": "display_data"
    }
   ],
   "source": [
    "plt.matshow(x_train[5])"
   ]
  },
  {
   "cell_type": "code",
   "execution_count": 9,
   "id": "13bdfdcc",
   "metadata": {
    "execution": {
     "iopub.execute_input": "2023-04-29T12:15:01.901743Z",
     "iopub.status.busy": "2023-04-29T12:15:01.900980Z",
     "iopub.status.idle": "2023-04-29T12:15:02.111541Z",
     "shell.execute_reply": "2023-04-29T12:15:02.110649Z"
    },
    "papermill": {
     "duration": 0.226874,
     "end_time": "2023-04-29T12:15:02.114230",
     "exception": false,
     "start_time": "2023-04-29T12:15:01.887356",
     "status": "completed"
    },
    "tags": []
   },
   "outputs": [
    {
     "data": {
      "text/plain": [
       "<matplotlib.image.AxesImage at 0x7e8aa0851190>"
      ]
     },
     "execution_count": 9,
     "metadata": {},
     "output_type": "execute_result"
    },
    {
     "data": {
      "image/png": "[encoded data removed]",
      "text/plain": [
       "<Figure size 480x480 with 1 Axes>"
      ]
     },
     "metadata": {},
     "output_type": "display_data"
    }
   ],
   "source": [
    "plt.matshow(x_train[7])"
   ]
  },
  {
   "cell_type": "code",
   "execution_count": 10,
   "id": "54720bcd",
   "metadata": {
    "execution": {
     "iopub.execute_input": "2023-04-29T12:15:02.140109Z",
     "iopub.status.busy": "2023-04-29T12:15:02.139393Z",
     "iopub.status.idle": "2023-04-29T12:15:02.145396Z",
     "shell.execute_reply": "2023-04-29T12:15:02.144627Z"
    },
    "papermill": {
     "duration": 0.021965,
     "end_time": "2023-04-29T12:15:02.147493",
     "exception": false,
     "start_time": "2023-04-29T12:15:02.125528",
     "status": "completed"
    },
    "tags": []
   },
   "outputs": [
    {
     "data": {
      "text/plain": [
       "4"
      ]
     },
     "execution_count": 10,
     "metadata": {},
     "output_type": "execute_result"
    }
   ],
   "source": [
    "y_train[2]"
   ]
  },
  {
   "cell_type": "code",
   "execution_count": 11,
   "id": "4fd4480c",
   "metadata": {
    "execution": {
     "iopub.execute_input": "2023-04-29T12:15:02.171610Z",
     "iopub.status.busy": "2023-04-29T12:15:02.170897Z",
     "iopub.status.idle": "2023-04-29T12:15:02.177031Z",
     "shell.execute_reply": "2023-04-29T12:15:02.176270Z"
    },
    "papermill": {
     "duration": 0.020213,
     "end_time": "2023-04-29T12:15:02.178680",
     "exception": false,
     "start_time": "2023-04-29T12:15:02.158467",
     "status": "completed"
    },
    "tags": []
   },
   "outputs": [
    {
     "data": {
      "text/plain": [
       "array([5, 0, 4, 1, 9], dtype=uint8)"
      ]
     },
     "execution_count": 11,
     "metadata": {},
     "output_type": "execute_result"
    }
   ],
   "source": [
    "y_train[:5]\n"
   ]
  },
  {
   "cell_type": "code",
   "execution_count": 12,
   "id": "b4302542",
   "metadata": {
    "execution": {
     "iopub.execute_input": "2023-04-29T12:15:02.197406Z",
     "iopub.status.busy": "2023-04-29T12:15:02.196773Z",
     "iopub.status.idle": "2023-04-29T12:15:02.203011Z",
     "shell.execute_reply": "2023-04-29T12:15:02.201669Z"
    },
    "papermill": {
     "duration": 0.019126,
     "end_time": "2023-04-29T12:15:02.206102",
     "exception": false,
     "start_time": "2023-04-29T12:15:02.186976",
     "status": "completed"
    },
    "tags": []
   },
   "outputs": [
    {
     "data": {
      "text/plain": [
       "(60000, 28, 28)"
      ]
     },
     "execution_count": 12,
     "metadata": {},
     "output_type": "execute_result"
    }
   ],
   "source": [
    "x_train.shape\n",
    "# gives the dimension of the numpy array \n",
    "# for example (60,000 , 28 , 28)\n",
    "# tells us that it contains 60,000 images each with height and width 28 pixels .\n"
   ]
  },
  {
   "cell_type": "code",
   "execution_count": 13,
   "id": "54a3db17",
   "metadata": {
    "execution": {
     "iopub.execute_input": "2023-04-29T12:15:02.226830Z",
     "iopub.status.busy": "2023-04-29T12:15:02.226385Z",
     "iopub.status.idle": "2023-04-29T12:15:02.302381Z",
     "shell.execute_reply": "2023-04-29T12:15:02.301172Z"
    },
    "papermill": {
     "duration": 0.089708,
     "end_time": "2023-04-29T12:15:02.305308",
     "exception": false,
     "start_time": "2023-04-29T12:15:02.215600",
     "status": "completed"
    },
    "tags": []
   },
   "outputs": [],
   "source": [
    "x_train = x_train/255\n",
    "x_test = x_test/255 "
   ]
  },
  {
   "cell_type": "code",
   "execution_count": 14,
   "id": "ca31317b",
   "metadata": {
    "execution": {
     "iopub.execute_input": "2023-04-29T12:15:02.325128Z",
     "iopub.status.busy": "2023-04-29T12:15:02.324678Z",
     "iopub.status.idle": "2023-04-29T12:15:02.333642Z",
     "shell.execute_reply": "2023-04-29T12:15:02.332106Z"
    },
    "papermill": {
     "duration": 0.021462,
     "end_time": "2023-04-29T12:15:02.335824",
     "exception": false,
     "start_time": "2023-04-29T12:15:02.314362",
     "status": "completed"
    },
    "tags": []
   },
   "outputs": [
    {
     "data": {
      "text/plain": [
       "(60000, 784)"
      ]
     },
     "execution_count": 14,
     "metadata": {},
     "output_type": "execute_result"
    }
   ],
   "source": [
    "x_train_flatten = x_train.reshape(len(x_train),28*28)\n",
    "x_train_flatten.shape\n"
   ]
  },
  {
   "cell_type": "code",
   "execution_count": 15,
   "id": "d0c907ab",
   "metadata": {
    "execution": {
     "iopub.execute_input": "2023-04-29T12:15:02.357230Z",
     "iopub.status.busy": "2023-04-29T12:15:02.356799Z",
     "iopub.status.idle": "2023-04-29T12:15:02.370442Z",
     "shell.execute_reply": "2023-04-29T12:15:02.369143Z"
    },
    "papermill": {
     "duration": 0.027255,
     "end_time": "2023-04-29T12:15:02.372720",
     "exception": false,
     "start_time": "2023-04-29T12:15:02.345465",
     "status": "completed"
    },
    "tags": []
   },
   "outputs": [
    {
     "data": {
      "text/plain": [
       "array([0.        , 0.        , 0.        , 0.        , 0.        ,\n",
       "       0.        , 0.        , 0.        , 0.        , 0.        ,\n",
       "       0.        , 0.        , 0.        , 0.        , 0.        ,\n",
       "       0.        , 0.        , 0.        , 0.        , 0.        ,\n",
       "       0.        , 0.        , 0.        , 0.        , 0.        ,\n",
       "       0.        , 0.        , 0.        , 0.        , 0.        ,\n",
       "       0.        , 0.        , 0.        , 0.        , 0.        ,\n",
       "       0.        , 0.        , 0.        , 0.        , 0.        ,\n",
       "       0.        , 0.        , 0.        , 0.        , 0.        ,\n",
       "       0.        , 0.        , 0.        , 0.        , 0.        ,\n",
       "       0.        , 0.        , 0.        , 0.        , 0.        ,\n",
       "       0.        , 0.        , 0.        , 0.        , 0.        ,\n",
       "       0.        , 0.        , 0.        , 0.        , 0.        ,\n",
       "       0.        , 0.        , 0.        , 0.        , 0.        ,\n",
       "       0.        , 0.        , 0.        , 0.        , 0.        ,\n",
       "       0.        , 0.        , 0.        , 0.        , 0.        ,\n",
       "       0.        , 0.        , 0.        , 0.        , 0.        ,\n",
       "       0.        , 0.        , 0.        , 0.        , 0.        ,\n",
       "       0.        , 0.        , 0.        , 0.        , 0.        ,\n",
       "       0.        , 0.        , 0.        , 0.        , 0.        ,\n",
       "       0.        , 0.        , 0.        , 0.        , 0.        ,\n",
       "       0.        , 0.        , 0.        , 0.        , 0.        ,\n",
       "       0.        , 0.        , 0.        , 0.        , 0.        ,\n",
       "       0.        , 0.        , 0.        , 0.        , 0.        ,\n",
       "       0.        , 0.        , 0.        , 0.        , 0.        ,\n",
       "       0.        , 0.        , 0.        , 0.        , 0.        ,\n",
       "       0.        , 0.        , 0.        , 0.        , 0.        ,\n",
       "       0.        , 0.        , 0.        , 0.        , 0.        ,\n",
       "       0.        , 0.        , 0.        , 0.        , 0.        ,\n",
       "       0.        , 0.        , 0.        , 0.        , 0.        ,\n",
       "       0.        , 0.        , 0.01176471, 0.07058824, 0.07058824,\n",
       "       0.07058824, 0.49411765, 0.53333333, 0.68627451, 0.10196078,\n",
       "       0.65098039, 1.        , 0.96862745, 0.49803922, 0.        ,\n",
       "       0.        , 0.        , 0.        , 0.        , 0.        ,\n",
       "       0.        , 0.        , 0.        , 0.        , 0.        ,\n",
       "       0.        , 0.11764706, 0.14117647, 0.36862745, 0.60392157,\n",
       "       0.66666667, 0.99215686, 0.99215686, 0.99215686, 0.99215686,\n",
       "       0.99215686, 0.88235294, 0.6745098 , 0.99215686, 0.94901961,\n",
       "       0.76470588, 0.25098039, 0.        , 0.        , 0.        ,\n",
       "       0.        , 0.        , 0.        , 0.        , 0.        ,\n",
       "       0.        , 0.        , 0.        , 0.19215686, 0.93333333,\n",
       "       0.99215686, 0.99215686, 0.99215686, 0.99215686, 0.99215686,\n",
       "       0.99215686, 0.99215686, 0.99215686, 0.98431373, 0.36470588,\n",
       "       0.32156863, 0.32156863, 0.21960784, 0.15294118, 0.        ,\n",
       "       0.        , 0.        , 0.        , 0.        , 0.        ,\n",
       "       0.        , 0.        , 0.        , 0.        , 0.        ,\n",
       "       0.        , 0.07058824, 0.85882353, 0.99215686, 0.99215686,\n",
       "       0.99215686, 0.99215686, 0.99215686, 0.77647059, 0.71372549,\n",
       "       0.96862745, 0.94509804, 0.        , 0.        , 0.        ,\n",
       "       0.        , 0.        , 0.        , 0.        , 0.        ,\n",
       "       0.        , 0.        , 0.        , 0.        , 0.        ,\n",
       "       0.        , 0.        , 0.        , 0.        , 0.        ,\n",
       "       0.31372549, 0.61176471, 0.41960784, 0.99215686, 0.99215686,\n",
       "       0.80392157, 0.04313725, 0.        , 0.16862745, 0.60392157,\n",
       "       0.        , 0.        , 0.        , 0.        , 0.        ,\n",
       "       0.        , 0.        , 0.        , 0.        , 0.        ,\n",
       "       0.        , 0.        , 0.        , 0.        , 0.        ,\n",
       "       0.        , 0.        , 0.        , 0.        , 0.05490196,\n",
       "       0.00392157, 0.60392157, 0.99215686, 0.35294118, 0.        ,\n",
       "       0.        , 0.        , 0.        , 0.        , 0.        ,\n",
       "       0.        , 0.        , 0.        , 0.        , 0.        ,\n",
       "       0.        , 0.        , 0.        , 0.        , 0.        ,\n",
       "       0.        , 0.        , 0.        , 0.        , 0.        ,\n",
       "       0.        , 0.        , 0.        , 0.        , 0.54509804,\n",
       "       0.99215686, 0.74509804, 0.00784314, 0.        , 0.        ,\n",
       "       0.        , 0.        , 0.        , 0.        , 0.        ,\n",
       "       0.        , 0.        , 0.        , 0.        , 0.        ,\n",
       "       0.        , 0.        , 0.        , 0.        , 0.        ,\n",
       "       0.        , 0.        , 0.        , 0.        , 0.        ,\n",
       "       0.        , 0.        , 0.04313725, 0.74509804, 0.99215686,\n",
       "       0.2745098 , 0.        , 0.        , 0.        , 0.        ,\n",
       "       0.        , 0.        , 0.        , 0.        , 0.        ,\n",
       "       0.        , 0.        , 0.        , 0.        , 0.        ,\n",
       "       0.        , 0.        , 0.        , 0.        , 0.        ,\n",
       "       0.        , 0.        , 0.        , 0.        , 0.        ,\n",
       "       0.        , 0.1372549 , 0.94509804, 0.88235294, 0.62745098,\n",
       "       0.42352941, 0.00392157, 0.        , 0.        , 0.        ,\n",
       "       0.        , 0.        , 0.        , 0.        , 0.        ,\n",
       "       0.        , 0.        , 0.        , 0.        , 0.        ,\n",
       "       0.        , 0.        , 0.        , 0.        , 0.        ,\n",
       "       0.        , 0.        , 0.        , 0.        , 0.        ,\n",
       "       0.31764706, 0.94117647, 0.99215686, 0.99215686, 0.46666667,\n",
       "       0.09803922, 0.        , 0.        , 0.        , 0.        ,\n",
       "       0.        , 0.        , 0.        , 0.        , 0.        ,\n",
       "       0.        , 0.        , 0.        , 0.        , 0.        ,\n",
       "       0.        , 0.        , 0.        , 0.        , 0.        ,\n",
       "       0.        , 0.        , 0.        , 0.        , 0.17647059,\n",
       "       0.72941176, 0.99215686, 0.99215686, 0.58823529, 0.10588235,\n",
       "       0.        , 0.        , 0.        , 0.        , 0.        ,\n",
       "       0.        , 0.        , 0.        , 0.        , 0.        ,\n",
       "       0.        , 0.        , 0.        , 0.        , 0.        ,\n",
       "       0.        , 0.        , 0.        , 0.        , 0.        ,\n",
       "       0.        , 0.        , 0.        , 0.0627451 , 0.36470588,\n",
       "       0.98823529, 0.99215686, 0.73333333, 0.        , 0.        ,\n",
       "       0.        , 0.        , 0.        , 0.        , 0.        ,\n",
       "       0.        , 0.        , 0.        , 0.        , 0.        ,\n",
       "       0.        , 0.        , 0.        , 0.        , 0.        ,\n",
       "       0.        , 0.        , 0.        , 0.        , 0.        ,\n",
       "       0.        , 0.        , 0.        , 0.97647059, 0.99215686,\n",
       "       0.97647059, 0.25098039, 0.        , 0.        , 0.        ,\n",
       "       0.        , 0.        , 0.        , 0.        , 0.        ,\n",
       "       0.        , 0.        , 0.        , 0.        , 0.        ,\n",
       "       0.        , 0.        , 0.        , 0.        , 0.        ,\n",
       "       0.        , 0.        , 0.        , 0.18039216, 0.50980392,\n",
       "       0.71764706, 0.99215686, 0.99215686, 0.81176471, 0.00784314,\n",
       "       0.        , 0.        , 0.        , 0.        , 0.        ,\n",
       "       0.        , 0.        , 0.        , 0.        , 0.        ,\n",
       "       0.        , 0.        , 0.        , 0.        , 0.        ,\n",
       "       0.        , 0.        , 0.        , 0.        , 0.15294118,\n",
       "       0.58039216, 0.89803922, 0.99215686, 0.99215686, 0.99215686,\n",
       "       0.98039216, 0.71372549, 0.        , 0.        , 0.        ,\n",
       "       0.        , 0.        , 0.        , 0.        , 0.        ,\n",
       "       0.        , 0.        , 0.        , 0.        , 0.        ,\n",
       "       0.        , 0.        , 0.        , 0.        , 0.        ,\n",
       "       0.09411765, 0.44705882, 0.86666667, 0.99215686, 0.99215686,\n",
       "       0.99215686, 0.99215686, 0.78823529, 0.30588235, 0.        ,\n",
       "       0.        , 0.        , 0.        , 0.        , 0.        ,\n",
       "       0.        , 0.        , 0.        , 0.        , 0.        ,\n",
       "       0.        , 0.        , 0.        , 0.        , 0.        ,\n",
       "       0.        , 0.09019608, 0.25882353, 0.83529412, 0.99215686,\n",
       "       0.99215686, 0.99215686, 0.99215686, 0.77647059, 0.31764706,\n",
       "       0.00784314, 0.        , 0.        , 0.        , 0.        ,\n",
       "       0.        , 0.        , 0.        , 0.        , 0.        ,\n",
       "       0.        , 0.        , 0.        , 0.        , 0.        ,\n",
       "       0.        , 0.        , 0.07058824, 0.67058824, 0.85882353,\n",
       "       0.99215686, 0.99215686, 0.99215686, 0.99215686, 0.76470588,\n",
       "       0.31372549, 0.03529412, 0.        , 0.        , 0.        ,\n",
       "       0.        , 0.        , 0.        , 0.        , 0.        ,\n",
       "       0.        , 0.        , 0.        , 0.        , 0.        ,\n",
       "       0.        , 0.        , 0.        , 0.21568627, 0.6745098 ,\n",
       "       0.88627451, 0.99215686, 0.99215686, 0.99215686, 0.99215686,\n",
       "       0.95686275, 0.52156863, 0.04313725, 0.        , 0.        ,\n",
       "       0.        , 0.        , 0.        , 0.        , 0.        ,\n",
       "       0.        , 0.        , 0.        , 0.        , 0.        ,\n",
       "       0.        , 0.        , 0.        , 0.        , 0.        ,\n",
       "       0.        , 0.53333333, 0.99215686, 0.99215686, 0.99215686,\n",
       "       0.83137255, 0.52941176, 0.51764706, 0.0627451 , 0.        ,\n",
       "       0.        , 0.        , 0.        , 0.        , 0.        ,\n",
       "       0.        , 0.        , 0.        , 0.        , 0.        ,\n",
       "       0.        , 0.        , 0.        , 0.        , 0.        ,\n",
       "       0.        , 0.        , 0.        , 0.        , 0.        ,\n",
       "       0.        , 0.        , 0.        , 0.        , 0.        ,\n",
       "       0.        , 0.        , 0.        , 0.        , 0.        ,\n",
       "       0.        , 0.        , 0.        , 0.        , 0.        ,\n",
       "       0.        , 0.        , 0.        , 0.        , 0.        ,\n",
       "       0.        , 0.        , 0.        , 0.        , 0.        ,\n",
       "       0.        , 0.        , 0.        , 0.        , 0.        ,\n",
       "       0.        , 0.        , 0.        , 0.        , 0.        ,\n",
       "       0.        , 0.        , 0.        , 0.        , 0.        ,\n",
       "       0.        , 0.        , 0.        , 0.        , 0.        ,\n",
       "       0.        , 0.        , 0.        , 0.        , 0.        ,\n",
       "       0.        , 0.        , 0.        , 0.        , 0.        ,\n",
       "       0.        , 0.        , 0.        , 0.        , 0.        ,\n",
       "       0.        , 0.        , 0.        , 0.        , 0.        ,\n",
       "       0.        , 0.        , 0.        , 0.        , 0.        ,\n",
       "       0.        , 0.        , 0.        , 0.        , 0.        ,\n",
       "       0.        , 0.        , 0.        , 0.        ])"
      ]
     },
     "execution_count": 15,
     "metadata": {},
     "output_type": "execute_result"
    }
   ],
   "source": [
    "x_train_flatten[0]"
   ]
  },
  {
   "cell_type": "code",
   "execution_count": 16,
   "id": "ac15a27b",
   "metadata": {
    "execution": {
     "iopub.execute_input": "2023-04-29T12:15:02.395271Z",
     "iopub.status.busy": "2023-04-29T12:15:02.393235Z",
     "iopub.status.idle": "2023-04-29T12:15:02.406937Z",
     "shell.execute_reply": "2023-04-29T12:15:02.405855Z"
    },
    "papermill": {
     "duration": 0.027714,
     "end_time": "2023-04-29T12:15:02.409893",
     "exception": false,
     "start_time": "2023-04-29T12:15:02.382179",
     "status": "completed"
    },
    "tags": []
   },
   "outputs": [
    {
     "data": {
      "text/plain": [
       "array([[0.        , 0.        , 0.        , 0.        , 0.        ,\n",
       "        0.        , 0.        , 0.        , 0.        , 0.        ,\n",
       "        0.        , 0.        , 0.        , 0.        , 0.        ,\n",
       "        0.        , 0.        , 0.        , 0.        , 0.        ,\n",
       "        0.        , 0.        , 0.        , 0.        , 0.        ,\n",
       "        0.        , 0.        , 0.        ],\n",
       "       [0.        , 0.        , 0.        , 0.        , 0.        ,\n",
       "        0.        , 0.        , 0.        , 0.        , 0.        ,\n",
       "        0.        , 0.        , 0.        , 0.        , 0.        ,\n",
       "        0.        , 0.        , 0.        , 0.        , 0.        ,\n",
       "        0.        , 0.        , 0.        , 0.        , 0.        ,\n",
       "        0.        , 0.        , 0.        ],\n",
       "       [0.        , 0.        , 0.        , 0.        , 0.        ,\n",
       "        0.        , 0.        , 0.        , 0.        , 0.        ,\n",
       "        0.        , 0.        , 0.        , 0.        , 0.        ,\n",
       "        0.        , 0.        , 0.        , 0.        , 0.        ,\n",
       "        0.        , 0.        , 0.        , 0.        , 0.        ,\n",
       "        0.        , 0.        , 0.        ],\n",
       "       [0.        , 0.        , 0.        , 0.        , 0.        ,\n",
       "        0.        , 0.        , 0.        , 0.        , 0.        ,\n",
       "        0.        , 0.        , 0.        , 0.        , 0.        ,\n",
       "        0.        , 0.        , 0.        , 0.        , 0.        ,\n",
       "        0.        , 0.        , 0.        , 0.        , 0.        ,\n",
       "        0.        , 0.        , 0.        ],\n",
       "       [0.        , 0.        , 0.        , 0.        , 0.        ,\n",
       "        0.        , 0.        , 0.        , 0.        , 0.        ,\n",
       "        0.        , 0.        , 0.        , 0.        , 0.        ,\n",
       "        0.        , 0.        , 0.        , 0.        , 0.        ,\n",
       "        0.        , 0.        , 0.        , 0.        , 0.        ,\n",
       "        0.        , 0.        , 0.        ],\n",
       "       [0.        , 0.        , 0.        , 0.        , 0.        ,\n",
       "        0.        , 0.        , 0.        , 0.        , 0.        ,\n",
       "        0.        , 0.        , 0.01176471, 0.07058824, 0.07058824,\n",
       "        0.07058824, 0.49411765, 0.53333333, 0.68627451, 0.10196078,\n",
       "        0.65098039, 1.        , 0.96862745, 0.49803922, 0.        ,\n",
       "        0.        , 0.        , 0.        ],\n",
       "       [0.        , 0.        , 0.        , 0.        , 0.        ,\n",
       "        0.        , 0.        , 0.        , 0.11764706, 0.14117647,\n",
       "        0.36862745, 0.60392157, 0.66666667, 0.99215686, 0.99215686,\n",
       "        0.99215686, 0.99215686, 0.99215686, 0.88235294, 0.6745098 ,\n",
       "        0.99215686, 0.94901961, 0.76470588, 0.25098039, 0.        ,\n",
       "        0.        , 0.        , 0.        ],\n",
       "       [0.        , 0.        , 0.        , 0.        , 0.        ,\n",
       "        0.        , 0.        , 0.19215686, 0.93333333, 0.99215686,\n",
       "        0.99215686, 0.99215686, 0.99215686, 0.99215686, 0.99215686,\n",
       "        0.99215686, 0.99215686, 0.98431373, 0.36470588, 0.32156863,\n",
       "        0.32156863, 0.21960784, 0.15294118, 0.        , 0.        ,\n",
       "        0.        , 0.        , 0.        ],\n",
       "       [0.        , 0.        , 0.        , 0.        , 0.        ,\n",
       "        0.        , 0.        , 0.07058824, 0.85882353, 0.99215686,\n",
       "        0.99215686, 0.99215686, 0.99215686, 0.99215686, 0.77647059,\n",
       "        0.71372549, 0.96862745, 0.94509804, 0.        , 0.        ,\n",
       "        0.        , 0.        , 0.        , 0.        , 0.        ,\n",
       "        0.        , 0.        , 0.        ],\n",
       "       [0.        , 0.        , 0.        , 0.        , 0.        ,\n",
       "        0.        , 0.        , 0.        , 0.31372549, 0.61176471,\n",
       "        0.41960784, 0.99215686, 0.99215686, 0.80392157, 0.04313725,\n",
       "        0.        , 0.16862745, 0.60392157, 0.        , 0.        ,\n",
       "        0.        , 0.        , 0.        , 0.        , 0.        ,\n",
       "        0.        , 0.        , 0.        ],\n",
       "       [0.        , 0.        , 0.        , 0.        , 0.        ,\n",
       "        0.        , 0.        , 0.        , 0.        , 0.05490196,\n",
       "        0.00392157, 0.60392157, 0.99215686, 0.35294118, 0.        ,\n",
       "        0.        , 0.        , 0.        , 0.        , 0.        ,\n",
       "        0.        , 0.        , 0.        , 0.        , 0.        ,\n",
       "        0.        , 0.        , 0.        ],\n",
       "       [0.        , 0.        , 0.        , 0.        , 0.        ,\n",
       "        0.        , 0.        , 0.        , 0.        , 0.        ,\n",
       "        0.        , 0.54509804, 0.99215686, 0.74509804, 0.00784314,\n",
       "        0.        , 0.        , 0.        , 0.        , 0.        ,\n",
       "        0.        , 0.        , 0.        , 0.        , 0.        ,\n",
       "        0.        , 0.        , 0.        ],\n",
       "       [0.        , 0.        , 0.        , 0.        , 0.        ,\n",
       "        0.        , 0.        , 0.        , 0.        , 0.        ,\n",
       "        0.        , 0.04313725, 0.74509804, 0.99215686, 0.2745098 ,\n",
       "        0.        , 0.        , 0.        , 0.        , 0.        ,\n",
       "        0.        , 0.        , 0.        , 0.        , 0.        ,\n",
       "        0.        , 0.        , 0.        ],\n",
       "       [0.        , 0.        , 0.        , 0.        , 0.        ,\n",
       "        0.        , 0.        , 0.        , 0.        , 0.        ,\n",
       "        0.        , 0.        , 0.1372549 , 0.94509804, 0.88235294,\n",
       "        0.62745098, 0.42352941, 0.00392157, 0.        , 0.        ,\n",
       "        0.        , 0.        , 0.        , 0.        , 0.        ,\n",
       "        0.        , 0.        , 0.        ],\n",
       "       [0.        , 0.        , 0.        , 0.        , 0.        ,\n",
       "        0.        , 0.        , 0.        , 0.        , 0.        ,\n",
       "        0.        , 0.        , 0.        , 0.31764706, 0.94117647,\n",
       "        0.99215686, 0.99215686, 0.46666667, 0.09803922, 0.        ,\n",
       "        0.        , 0.        , 0.        , 0.        , 0.        ,\n",
       "        0.        , 0.        , 0.        ],\n",
       "       [0.        , 0.        , 0.        , 0.        , 0.        ,\n",
       "        0.        , 0.        , 0.        , 0.        , 0.        ,\n",
       "        0.        , 0.        , 0.        , 0.        , 0.17647059,\n",
       "        0.72941176, 0.99215686, 0.99215686, 0.58823529, 0.10588235,\n",
       "        0.        , 0.        , 0.        , 0.        , 0.        ,\n",
       "        0.        , 0.        , 0.        ],\n",
       "       [0.        , 0.        , 0.        , 0.        , 0.        ,\n",
       "        0.        , 0.        , 0.        , 0.        , 0.        ,\n",
       "        0.        , 0.        , 0.        , 0.        , 0.        ,\n",
       "        0.0627451 , 0.36470588, 0.98823529, 0.99215686, 0.73333333,\n",
       "        0.        , 0.        , 0.        , 0.        , 0.        ,\n",
       "        0.        , 0.        , 0.        ],\n",
       "       [0.        , 0.        , 0.        , 0.        , 0.        ,\n",
       "        0.        , 0.        , 0.        , 0.        , 0.        ,\n",
       "        0.        , 0.        , 0.        , 0.        , 0.        ,\n",
       "        0.        , 0.        , 0.97647059, 0.99215686, 0.97647059,\n",
       "        0.25098039, 0.        , 0.        , 0.        , 0.        ,\n",
       "        0.        , 0.        , 0.        ],\n",
       "       [0.        , 0.        , 0.        , 0.        , 0.        ,\n",
       "        0.        , 0.        , 0.        , 0.        , 0.        ,\n",
       "        0.        , 0.        , 0.        , 0.        , 0.18039216,\n",
       "        0.50980392, 0.71764706, 0.99215686, 0.99215686, 0.81176471,\n",
       "        0.00784314, 0.        , 0.        , 0.        , 0.        ,\n",
       "        0.        , 0.        , 0.        ],\n",
       "       [0.        , 0.        , 0.        , 0.        , 0.        ,\n",
       "        0.        , 0.        , 0.        , 0.        , 0.        ,\n",
       "        0.        , 0.        , 0.15294118, 0.58039216, 0.89803922,\n",
       "        0.99215686, 0.99215686, 0.99215686, 0.98039216, 0.71372549,\n",
       "        0.        , 0.        , 0.        , 0.        , 0.        ,\n",
       "        0.        , 0.        , 0.        ],\n",
       "       [0.        , 0.        , 0.        , 0.        , 0.        ,\n",
       "        0.        , 0.        , 0.        , 0.        , 0.        ,\n",
       "        0.09411765, 0.44705882, 0.86666667, 0.99215686, 0.99215686,\n",
       "        0.99215686, 0.99215686, 0.78823529, 0.30588235, 0.        ,\n",
       "        0.        , 0.        , 0.        , 0.        , 0.        ,\n",
       "        0.        , 0.        , 0.        ],\n",
       "       [0.        , 0.        , 0.        , 0.        , 0.        ,\n",
       "        0.        , 0.        , 0.        , 0.09019608, 0.25882353,\n",
       "        0.83529412, 0.99215686, 0.99215686, 0.99215686, 0.99215686,\n",
       "        0.77647059, 0.31764706, 0.00784314, 0.        , 0.        ,\n",
       "        0.        , 0.        , 0.        , 0.        , 0.        ,\n",
       "        0.        , 0.        , 0.        ],\n",
       "       [0.        , 0.        , 0.        , 0.        , 0.        ,\n",
       "        0.        , 0.07058824, 0.67058824, 0.85882353, 0.99215686,\n",
       "        0.99215686, 0.99215686, 0.99215686, 0.76470588, 0.31372549,\n",
       "        0.03529412, 0.        , 0.        , 0.        , 0.        ,\n",
       "        0.        , 0.        , 0.        , 0.        , 0.        ,\n",
       "        0.        , 0.        , 0.        ],\n",
       "       [0.        , 0.        , 0.        , 0.        , 0.21568627,\n",
       "        0.6745098 , 0.88627451, 0.99215686, 0.99215686, 0.99215686,\n",
       "        0.99215686, 0.95686275, 0.52156863, 0.04313725, 0.        ,\n",
       "        0.        , 0.        , 0.        , 0.        , 0.        ,\n",
       "        0.        , 0.        , 0.        , 0.        , 0.        ,\n",
       "        0.        , 0.        , 0.        ],\n",
       "       [0.        , 0.        , 0.        , 0.        , 0.53333333,\n",
       "        0.99215686, 0.99215686, 0.99215686, 0.83137255, 0.52941176,\n",
       "        0.51764706, 0.0627451 , 0.        , 0.        , 0.        ,\n",
       "        0.        , 0.        , 0.        , 0.        , 0.        ,\n",
       "        0.        , 0.        , 0.        , 0.        , 0.        ,\n",
       "        0.        , 0.        , 0.        ],\n",
       "       [0.        , 0.        , 0.        , 0.        , 0.        ,\n",
       "        0.        , 0.        , 0.        , 0.        , 0.        ,\n",
       "        0.        , 0.        , 0.        , 0.        , 0.        ,\n",
       "        0.        , 0.        , 0.        , 0.        , 0.        ,\n",
       "        0.        , 0.        , 0.        , 0.        , 0.        ,\n",
       "        0.        , 0.        , 0.        ],\n",
       "       [0.        , 0.        , 0.        , 0.        , 0.        ,\n",
       "        0.        , 0.        , 0.        , 0.        , 0.        ,\n",
       "        0.        , 0.        , 0.        , 0.        , 0.        ,\n",
       "        0.        , 0.        , 0.        , 0.        , 0.        ,\n",
       "        0.        , 0.        , 0.        , 0.        , 0.        ,\n",
       "        0.        , 0.        , 0.        ],\n",
       "       [0.        , 0.        , 0.        , 0.        , 0.        ,\n",
       "        0.        , 0.        , 0.        , 0.        , 0.        ,\n",
       "        0.        , 0.        , 0.        , 0.        , 0.        ,\n",
       "        0.        , 0.        , 0.        , 0.        , 0.        ,\n",
       "        0.        , 0.        , 0.        , 0.        , 0.        ,\n",
       "        0.        , 0.        , 0.        ]])"
      ]
     },
     "execution_count": 16,
     "metadata": {},
     "output_type": "execute_result"
    }
   ],
   "source": [
    "x_train[0]"
   ]
  },
  {
   "cell_type": "code",
   "execution_count": 17,
   "id": "07c28d70",
   "metadata": {
    "execution": {
     "iopub.execute_input": "2023-04-29T12:15:02.432884Z",
     "iopub.status.busy": "2023-04-29T12:15:02.431382Z",
     "iopub.status.idle": "2023-04-29T12:15:02.438224Z",
     "shell.execute_reply": "2023-04-29T12:15:02.436975Z"
    },
    "papermill": {
     "duration": 0.021262,
     "end_time": "2023-04-29T12:15:02.441291",
     "exception": false,
     "start_time": "2023-04-29T12:15:02.420029",
     "status": "completed"
    },
    "tags": []
   },
   "outputs": [
    {
     "data": {
      "text/plain": [
       "10000"
      ]
     },
     "execution_count": 17,
     "metadata": {},
     "output_type": "execute_result"
    }
   ],
   "source": [
    "len(x_test)"
   ]
  },
  {
   "cell_type": "code",
   "execution_count": 18,
   "id": "5a074657",
   "metadata": {
    "execution": {
     "iopub.execute_input": "2023-04-29T12:15:02.465413Z",
     "iopub.status.busy": "2023-04-29T12:15:02.463921Z",
     "iopub.status.idle": "2023-04-29T12:15:02.472061Z",
     "shell.execute_reply": "2023-04-29T12:15:02.471000Z"
    },
    "papermill": {
     "duration": 0.023506,
     "end_time": "2023-04-29T12:15:02.474850",
     "exception": false,
     "start_time": "2023-04-29T12:15:02.451344",
     "status": "completed"
    },
    "tags": []
   },
   "outputs": [
    {
     "data": {
      "text/plain": [
       "(10000, 784)"
      ]
     },
     "execution_count": 18,
     "metadata": {},
     "output_type": "execute_result"
    }
   ],
   "source": [
    "x_test_flatten = x_test.reshape(len(x_test),28*28)\n",
    "x_test_flatten.shape\n",
    "# we are reshaping the numoy array "
   ]
  },
  {
   "cell_type": "code",
   "execution_count": 19,
   "id": "3b7da37a",
   "metadata": {
    "execution": {
     "iopub.execute_input": "2023-04-29T12:15:02.498541Z",
     "iopub.status.busy": "2023-04-29T12:15:02.497489Z",
     "iopub.status.idle": "2023-04-29T12:15:23.836144Z",
     "shell.execute_reply": "2023-04-29T12:15:23.835152Z"
    },
    "papermill": {
     "duration": 21.35333,
     "end_time": "2023-04-29T12:15:23.838173",
     "exception": false,
     "start_time": "2023-04-29T12:15:02.484843",
     "status": "completed"
    },
    "tags": []
   },
   "outputs": [
    {
     "name": "stdout",
     "output_type": "stream",
     "text": [
      "Epoch 1/5\n",
      "1875/1875 [==============================] - 4s 2ms/step - loss: 0.4732 - accuracy: 0.8765\n",
      "Epoch 2/5\n",
      "1875/1875 [==============================] - 3s 2ms/step - loss: 0.3043 - accuracy: 0.9157\n",
      "Epoch 3/5\n",
      "1875/1875 [==============================] - 3s 2ms/step - loss: 0.2839 - accuracy: 0.9204\n",
      "Epoch 4/5\n",
      "1875/1875 [==============================] - 3s 2ms/step - loss: 0.2735 - accuracy: 0.9237\n",
      "Epoch 5/5\n",
      "1875/1875 [==============================] - 3s 2ms/step - loss: 0.2673 - accuracy: 0.9247\n"
     ]
    },
    {
     "data": {
      "text/plain": [
       "<keras.callbacks.History at 0x7e8aaa85bfd0>"
      ]
     },
     "execution_count": 19,
     "metadata": {},
     "output_type": "execute_result"
    }
   ],
   "source": [
    "# defines the simple neural network using the simple API of tensorflow.\n",
    "# sequential is used to stack the layers of neural network.\n",
    "# layers.Dense is used tp create a dense layer .\n",
    "# dense layer is that every input node is connected to every the output layer .\n",
    "# using sigmoid function\n",
    "# \n",
    "model = keras.Sequential([\n",
    "    keras.layers.Dense(10, input_shape = (784,),activation='sigmoid')\n",
    "])\n",
    "# we are configuring the model here \n",
    "# with loss function as \"sparse_categorical_cossentropy\"\n",
    "# and optimizer = \"adam\"\n",
    "# mertices as = \"accuracy\".\n",
    "# \n",
    "model.compile(\n",
    "    optimizer = 'adam',\n",
    "    loss = 'sparse_categorical_crossentropy',\n",
    "    metrics = ['accuracy']\n",
    ")\n",
    "# fit() is used to train data set with a definite number of epochs.\n",
    "# in our case here epochs = 5 .\n",
    "model.fit(x_train_flatten, y_train , epochs = 5)\n",
    "# one of the methods to improve accuracy is to scale up the training data set .\n"
   ]
  },
  {
   "cell_type": "code",
   "execution_count": 20,
   "id": "409e5cc6",
   "metadata": {
    "execution": {
     "iopub.execute_input": "2023-04-29T12:15:23.895660Z",
     "iopub.status.busy": "2023-04-29T12:15:23.895152Z",
     "iopub.status.idle": "2023-04-29T12:15:24.102383Z",
     "shell.execute_reply": "2023-04-29T12:15:24.101463Z"
    },
    "papermill": {
     "duration": 0.238965,
     "end_time": "2023-04-29T12:15:24.105214",
     "exception": false,
     "start_time": "2023-04-29T12:15:23.866249",
     "status": "completed"
    },
    "tags": []
   },
   "outputs": [
    {
     "data": {
      "text/plain": [
       "<matplotlib.image.AxesImage at 0x7e8aaa70d2d0>"
      ]
     },
     "execution_count": 20,
     "metadata": {},
     "output_type": "execute_result"
    },
    {
     "data": {
      "image/png": "[encoded data removed]",
      "text/plain": [
       "<Figure size 480x480 with 1 Axes>"
      ]
     },
     "metadata": {},
     "output_type": "display_data"
    }
   ],
   "source": [
    "plt.matshow(x_test[2])"
   ]
  },
  {
   "cell_type": "code",
   "execution_count": 21,
   "id": "efac1201",
   "metadata": {
    "execution": {
     "iopub.execute_input": "2023-04-29T12:15:24.175748Z",
     "iopub.status.busy": "2023-04-29T12:15:24.175328Z",
     "iopub.status.idle": "2023-04-29T12:15:24.795083Z",
     "shell.execute_reply": "2023-04-29T12:15:24.793056Z"
    },
    "papermill": {
     "duration": 0.658344,
     "end_time": "2023-04-29T12:15:24.798654",
     "exception": false,
     "start_time": "2023-04-29T12:15:24.140310",
     "status": "completed"
    },
    "tags": []
   },
   "outputs": [
    {
     "name": "stdout",
     "output_type": "stream",
     "text": [
      "313/313 [==============================] - 0s 1ms/step\n"
     ]
    },
    {
     "data": {
      "text/plain": [
       "array([[2.04913300e-02, 3.58314935e-07, 6.15088753e-02, ...,\n",
       "        9.99762654e-01, 9.68806297e-02, 6.75151050e-01],\n",
       "       [2.63088107e-01, 3.65733635e-03, 9.99486327e-01, ...,\n",
       "        4.67363832e-13, 7.65128732e-02, 2.08973838e-09],\n",
       "       [5.04144002e-04, 9.92936850e-01, 7.30388343e-01, ...,\n",
       "        1.21787541e-01, 3.08540583e-01, 4.67326380e-02],\n",
       "       ...,\n",
       "       [4.50975085e-06, 3.76260004e-06, 2.28538713e-03, ...,\n",
       "        1.72694489e-01, 5.38728356e-01, 7.75041223e-01],\n",
       "       [1.32286208e-04, 1.81324547e-04, 2.43416609e-04, ...,\n",
       "        3.65415544e-05, 5.66329896e-01, 1.17239644e-04],\n",
       "       [8.29079095e-03, 1.82220752e-10, 1.51677907e-01, ...,\n",
       "        1.01214068e-08, 1.34828239e-04, 4.56112929e-07]], dtype=float32)"
      ]
     },
     "execution_count": 21,
     "metadata": {},
     "output_type": "execute_result"
    }
   ],
   "source": [
    "model.predict(x_test_flatten)"
   ]
  },
  {
   "cell_type": "code",
   "execution_count": 22,
   "id": "45d6b4c5",
   "metadata": {
    "execution": {
     "iopub.execute_input": "2023-04-29T12:15:24.860123Z",
     "iopub.status.busy": "2023-04-29T12:15:24.858473Z",
     "iopub.status.idle": "2023-04-29T12:15:25.370525Z",
     "shell.execute_reply": "2023-04-29T12:15:25.369365Z"
    },
    "papermill": {
     "duration": 0.545358,
     "end_time": "2023-04-29T12:15:25.372536",
     "exception": false,
     "start_time": "2023-04-29T12:15:24.827178",
     "status": "completed"
    },
    "tags": []
   },
   "outputs": [
    {
     "name": "stdout",
     "output_type": "stream",
     "text": [
      "313/313 [==============================] - 0s 1ms/step\n"
     ]
    },
    {
     "data": {
      "text/plain": [
       "array([2.6308811e-01, 3.6573363e-03, 9.9948633e-01, 2.7171141e-01,\n",
       "       5.7973737e-10, 7.1503335e-01, 7.9997426e-01, 4.6736383e-13,\n",
       "       7.6512873e-02, 2.0897384e-09], dtype=float32)"
      ]
     },
     "execution_count": 22,
     "metadata": {},
     "output_type": "execute_result"
    }
   ],
   "source": [
    "y_pred = model.predict(x_test_flatten)\n",
    "y_pred[1]"
   ]
  },
  {
   "cell_type": "code",
   "execution_count": 23,
   "id": "907ba1b3",
   "metadata": {
    "execution": {
     "iopub.execute_input": "2023-04-29T12:15:25.434538Z",
     "iopub.status.busy": "2023-04-29T12:15:25.433263Z",
     "iopub.status.idle": "2023-04-29T12:15:25.439861Z",
     "shell.execute_reply": "2023-04-29T12:15:25.439065Z"
    },
    "papermill": {
     "duration": 0.041357,
     "end_time": "2023-04-29T12:15:25.442954",
     "exception": false,
     "start_time": "2023-04-29T12:15:25.401597",
     "status": "completed"
    },
    "tags": []
   },
   "outputs": [
    {
     "data": {
      "text/plain": [
       "1"
      ]
     },
     "execution_count": 23,
     "metadata": {},
     "output_type": "execute_result"
    }
   ],
   "source": [
    "np.argmax(y_pred[2])"
   ]
  },
  {
   "cell_type": "code",
   "execution_count": 24,
   "id": "7c43cac9",
   "metadata": {
    "execution": {
     "iopub.execute_input": "2023-04-29T12:15:25.502858Z",
     "iopub.status.busy": "2023-04-29T12:15:25.501364Z",
     "iopub.status.idle": "2023-04-29T12:15:25.526375Z",
     "shell.execute_reply": "2023-04-29T12:15:25.524993Z"
    },
    "papermill": {
     "duration": 0.057709,
     "end_time": "2023-04-29T12:15:25.529438",
     "exception": false,
     "start_time": "2023-04-29T12:15:25.471729",
     "status": "completed"
    },
    "tags": []
   },
   "outputs": [
    {
     "data": {
      "text/plain": [
       "[7, 2, 1, 0, 4]"
      ]
     },
     "execution_count": 24,
     "metadata": {},
     "output_type": "execute_result"
    }
   ],
   "source": [
    "y_pred_label= [np.argmax(i) for i in y_pred]\n",
    "y_pred_label[:5]"
   ]
  },
  {
   "cell_type": "code",
   "execution_count": 25,
   "id": "2dc9a87a",
   "metadata": {
    "execution": {
     "iopub.execute_input": "2023-04-29T12:15:25.589800Z",
     "iopub.status.busy": "2023-04-29T12:15:25.588351Z",
     "iopub.status.idle": "2023-04-29T12:15:25.596419Z",
     "shell.execute_reply": "2023-04-29T12:15:25.595547Z"
    },
    "papermill": {
     "duration": 0.040415,
     "end_time": "2023-04-29T12:15:25.598663",
     "exception": false,
     "start_time": "2023-04-29T12:15:25.558248",
     "status": "completed"
    },
    "tags": []
   },
   "outputs": [
    {
     "data": {
      "text/plain": [
       "array([7, 2, 1, 0, 4], dtype=uint8)"
      ]
     },
     "execution_count": 25,
     "metadata": {},
     "output_type": "execute_result"
    }
   ],
   "source": [
    "y_test[:5]"
   ]
  },
  {
   "cell_type": "code",
   "execution_count": 26,
   "id": "d1345fac",
   "metadata": {
    "execution": {
     "iopub.execute_input": "2023-04-29T12:15:25.660911Z",
     "iopub.status.busy": "2023-04-29T12:15:25.659380Z",
     "iopub.status.idle": "2023-04-29T12:15:25.702503Z",
     "shell.execute_reply": "2023-04-29T12:15:25.700360Z"
    },
    "papermill": {
     "duration": 0.076827,
     "end_time": "2023-04-29T12:15:25.705676",
     "exception": false,
     "start_time": "2023-04-29T12:15:25.628849",
     "status": "completed"
    },
    "tags": []
   },
   "outputs": [
    {
     "data": {
      "text/plain": [
       "<tf.Tensor: shape=(10, 10), dtype=int32, numpy=\n",
       "array([[ 962,    0,    2,    2,    0,    6,    5,    2,    1,    0],\n",
       "       [   0, 1115,    5,    1,    0,    1,    4,    2,    7,    0],\n",
       "       [   5,    6,  947,    8,    9,    4,   11,    9,   29,    4],\n",
       "       [   3,    0,   32,  901,    0,   28,    2,   11,   24,    9],\n",
       "       [   2,    1,    8,    0,  919,    0,    6,    3,    9,   34],\n",
       "       [   9,    3,    6,   21,   11,  783,   11,    6,   35,    7],\n",
       "       [  15,    3,   11,    1,    8,   13,  903,    2,    2,    0],\n",
       "       [   1,    6,   28,    3,    9,    1,    0,  942,    2,   36],\n",
       "       [   6,    9,   10,   17,    9,   25,    9,    9,  873,    7],\n",
       "       [  10,    7,    1,    7,   29,    6,    0,   19,    8,  922]],\n",
       "      dtype=int32)>"
      ]
     },
     "execution_count": 26,
     "metadata": {},
     "output_type": "execute_result"
    }
   ],
   "source": [
    "# creating the confusion matrix \n",
    "# This function is the one to create an confusion matrix with \n",
    "# label == Y_test >>> that is the test data .\n",
    "# predictions is the actual predicted value .\n",
    "cm = tf.math.confusion_matrix(labels = y_test, predictions = y_pred_label)\n",
    "cm"
   ]
  },
  {
   "cell_type": "code",
   "execution_count": 27,
   "id": "21a42cef",
   "metadata": {
    "execution": {
     "iopub.execute_input": "2023-04-29T12:15:25.765746Z",
     "iopub.status.busy": "2023-04-29T12:15:25.765225Z",
     "iopub.status.idle": "2023-04-29T12:15:27.146729Z",
     "shell.execute_reply": "2023-04-29T12:15:27.144964Z"
    },
    "papermill": {
     "duration": 1.414522,
     "end_time": "2023-04-29T12:15:27.149248",
     "exception": false,
     "start_time": "2023-04-29T12:15:25.734726",
     "status": "completed"
    },
    "tags": []
   },
   "outputs": [
    {
     "data": {
      "text/plain": [
       "<AxesSubplot:>"
      ]
     },
     "execution_count": 27,
     "metadata": {},
     "output_type": "execute_result"
    },
    {
     "data": {
      "image/png": "[encoded data removed]",
      "text/plain": [
       "<Figure size 1000x700 with 2 Axes>"
      ]
     },
     "metadata": {},
     "output_type": "display_data"
    }
   ],
   "source": [
    "import seaborn as sn \n",
    "# creates an figure wit\n",
    "plt.figure(figsize = (10,7))\n",
    "sn.heatmap(cm, annot = True ,fmt = 'd')"
   ]
  }
 ],
 "metadata": {
  "kernelspec": {
   "display_name": "Python 3",
   "language": "python",
   "name": "python3"
  },
  "language_info": {
   "codemirror_mode": {
    "name": "ipython",
    "version": 3
   },
   "file_extension": ".py",
   "mimetype": "text/x-python",
   "name": "python",
   "nbconvert_exporter": "python",
   "pygments_lexer": "ipython3",
   "version": "3.7.12"
  },
  "papermill": {
   "default_parameters": {},
   "duration": 48.615208,
   "end_time": "2023-04-29T12:15:29.900665",
   "environment_variables": {},
   "exception": null,
   "input_path": "__notebook__.ipynb",
   "output_path": "__notebook__.ipynb",
   "parameters": {},
   "start_time": "2023-04-29T12:14:41.285457",
   "version": "2.4.0"
  }
 },
 "nbformat": 4,
 "nbformat_minor": 5
}
