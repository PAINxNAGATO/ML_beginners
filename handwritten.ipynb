{
 "cells": [
  {
   "cell_type": "code",
   "execution_count": 1,
   "id": "c7a067d4",
   "metadata": {
    "_cell_guid": "b1076dfc-b9ad-4769-8c92-a6c4dae69d19",
    "_uuid": "8f2839f25d086af736a60e9eeb907d3b93b6e0e5",
    "execution": {
     "iopub.execute_input": "2023-04-30T17:49:38.850168Z",
     "iopub.status.busy": "2023-04-30T17:49:38.849694Z",
     "iopub.status.idle": "2023-04-30T17:49:50.003518Z",
     "shell.execute_reply": "2023-04-30T17:49:50.001687Z"
    },
    "papermill": {
     "duration": 11.170502,
     "end_time": "2023-04-30T17:49:50.006965",
     "exception": false,
     "start_time": "2023-04-30T17:49:38.836463",
     "status": "completed"
    },
    "tags": []
   },
   "outputs": [],
   "source": [
    "import tensorflow as tf\n",
    "from tensorflow import keras\n",
    "import matplotlib.pyplot as plt\n",
    "# %matplotlib inline \n",
    "# The %matplotlib inline command is a magic function in Jupyter Notebook and other IPython environments that allows for the rendering of Matplotlib plots directly in the output cell of the notebook\n",
    "# using %matplotlib inline command saves us the trouble to write the prinnt command \n",
    "# however is not used in kaggle as kaggle already has an inbuilt 'inline backend' for the matplotlib.\n",
    "import numpy as np \n"
   ]
  },
  {
   "cell_type": "code",
   "execution_count": 2,
   "id": "fdd3fb20",
   "metadata": {
    "execution": {
     "iopub.execute_input": "2023-04-30T17:49:50.026945Z",
     "iopub.status.busy": "2023-04-30T17:49:50.025996Z",
     "iopub.status.idle": "2023-04-30T17:49:50.557277Z",
     "shell.execute_reply": "2023-04-30T17:49:50.555174Z"
    },
    "papermill": {
     "duration": 0.545438,
     "end_time": "2023-04-30T17:49:50.560898",
     "exception": false,
     "start_time": "2023-04-30T17:49:50.015460",
     "status": "completed"
    },
    "tags": []
   },
   "outputs": [
    {
     "name": "stdout",
     "output_type": "stream",
     "text": [
      "Downloading data from https://storage.googleapis.com/tensorflow/tf-keras-datasets/mnist.npz\n",
      "11490434/11490434 [==============================] - 0s 0us/step\n"
     ]
    }
   ],
   "source": [
    "(x_train, y_train) , (x_test , y_test) = keras.datasets.mnist.load_data()\n",
    "# This code loads the mnist \n",
    "# The second part loads the two tuples \n",
    "#  firstly the training data the second tuple stores the testing data .\n",
    "# of the mnist data set \n",
    "# x_train holds the 3-d array size (60000, 28 , 28)\n",
    "# test contains (60,000) to test the model ."
   ]
  },
  {
   "cell_type": "code",
   "execution_count": 3,
   "id": "37223734",
   "metadata": {
    "execution": {
     "iopub.execute_input": "2023-04-30T17:49:50.581676Z",
     "iopub.status.busy": "2023-04-30T17:49:50.581224Z",
     "iopub.status.idle": "2023-04-30T17:49:50.590467Z",
     "shell.execute_reply": "2023-04-30T17:49:50.588947Z"
    },
    "papermill": {
     "duration": 0.024247,
     "end_time": "2023-04-30T17:49:50.593467",
     "exception": false,
     "start_time": "2023-04-30T17:49:50.569220",
     "status": "completed"
    },
    "tags": []
   },
   "outputs": [
    {
     "data": {
      "text/plain": [
       "60000"
      ]
     },
     "execution_count": 3,
     "metadata": {},
     "output_type": "execute_result"
    }
   ],
   "source": [
    "len(x_train)\n",
    "# length of the training data set "
   ]
  },
  {
   "cell_type": "code",
   "execution_count": 4,
   "id": "2e7eb33c",
   "metadata": {
    "execution": {
     "iopub.execute_input": "2023-04-30T17:49:50.612651Z",
     "iopub.status.busy": "2023-04-30T17:49:50.612181Z",
     "iopub.status.idle": "2023-04-30T17:49:50.620358Z",
     "shell.execute_reply": "2023-04-30T17:49:50.618966Z"
    },
    "papermill": {
     "duration": 0.02162,
     "end_time": "2023-04-30T17:49:50.623633",
     "exception": false,
     "start_time": "2023-04-30T17:49:50.602013",
     "status": "completed"
    },
    "tags": []
   },
   "outputs": [
    {
     "data": {
      "text/plain": [
       "10000"
      ]
     },
     "execution_count": 4,
     "metadata": {},
     "output_type": "execute_result"
    }
   ],
   "source": [
    "len(x_test)\n",
    "# length of the test data ."
   ]
  },
  {
   "cell_type": "code",
   "execution_count": 5,
   "id": "65da3cab",
   "metadata": {
    "execution": {
     "iopub.execute_input": "2023-04-30T17:49:50.642753Z",
     "iopub.status.busy": "2023-04-30T17:49:50.642275Z",
     "iopub.status.idle": "2023-04-30T17:49:50.650544Z",
     "shell.execute_reply": "2023-04-30T17:49:50.649168Z"
    },
    "papermill": {
     "duration": 0.021701,
     "end_time": "2023-04-30T17:49:50.653899",
     "exception": false,
     "start_time": "2023-04-30T17:49:50.632198",
     "status": "completed"
    },
    "tags": []
   },
   "outputs": [
    {
     "data": {
      "text/plain": [
       "(28, 28)"
      ]
     },
     "execution_count": 5,
     "metadata": {},
     "output_type": "execute_result"
    }
   ],
   "source": [
    "x_train[0].shape"
   ]
  },
  {
   "cell_type": "code",
   "execution_count": 6,
   "id": "5834785d",
   "metadata": {
    "execution": {
     "iopub.execute_input": "2023-04-30T17:49:50.673340Z",
     "iopub.status.busy": "2023-04-30T17:49:50.672808Z",
     "iopub.status.idle": "2023-04-30T17:49:50.685834Z",
     "shell.execute_reply": "2023-04-30T17:49:50.684272Z"
    },
    "papermill": {
     "duration": 0.026613,
     "end_time": "2023-04-30T17:49:50.689289",
     "exception": false,
     "start_time": "2023-04-30T17:49:50.662676",
     "status": "completed"
    },
    "tags": []
   },
   "outputs": [
    {
     "data": {
      "text/plain": [
       "array([[  0,   0,   0,   0,   0,   0,   0,   0,   0,   0,   0,   0,   0,\n",
       "          0,   0,   0,   0,   0,   0,   0,   0,   0,   0,   0,   0,   0,\n",
       "          0,   0],\n",
       "       [  0,   0,   0,   0,   0,   0,   0,   0,   0,   0,   0,   0,   0,\n",
       "          0,   0,   0,   0,   0,   0,   0,   0,   0,   0,   0,   0,   0,\n",
       "          0,   0],\n",
       "       [  0,   0,   0,   0,   0,   0,   0,   0,   0,   0,   0,   0,   0,\n",
       "          0,   0,   0,   0,   0,   0,   0,   0,   0,   0,   0,   0,   0,\n",
       "          0,   0],\n",
       "       [  0,   0,   0,   0,   0,   0,   0,   0,   0,   0,   0,   0,   0,\n",
       "          0,   0,   0,   0,   0,   0,   0,   0,   0,   0,   0,   0,   0,\n",
       "          0,   0],\n",
       "       [  0,   0,   0,   0,   0,   0,   0,   0,   0,   0,   0,   0,   0,\n",
       "          0,   0,   0,   0,   0,   0,   0,   0,   0,   0,   0,   0,   0,\n",
       "          0,   0],\n",
       "       [  0,   0,   0,   0,   0,   0,   0,   0,   0,   0,   0,   0,   3,\n",
       "         18,  18,  18, 126, 136, 175,  26, 166, 255, 247, 127,   0,   0,\n",
       "          0,   0],\n",
       "       [  0,   0,   0,   0,   0,   0,   0,   0,  30,  36,  94, 154, 170,\n",
       "        253, 253, 253, 253, 253, 225, 172, 253, 242, 195,  64,   0,   0,\n",
       "          0,   0],\n",
       "       [  0,   0,   0,   0,   0,   0,   0,  49, 238, 253, 253, 253, 253,\n",
       "        253, 253, 253, 253, 251,  93,  82,  82,  56,  39,   0,   0,   0,\n",
       "          0,   0],\n",
       "       [  0,   0,   0,   0,   0,   0,   0,  18, 219, 253, 253, 253, 253,\n",
       "        253, 198, 182, 247, 241,   0,   0,   0,   0,   0,   0,   0,   0,\n",
       "          0,   0],\n",
       "       [  0,   0,   0,   0,   0,   0,   0,   0,  80, 156, 107, 253, 253,\n",
       "        205,  11,   0,  43, 154,   0,   0,   0,   0,   0,   0,   0,   0,\n",
       "          0,   0],\n",
       "       [  0,   0,   0,   0,   0,   0,   0,   0,   0,  14,   1, 154, 253,\n",
       "         90,   0,   0,   0,   0,   0,   0,   0,   0,   0,   0,   0,   0,\n",
       "          0,   0],\n",
       "       [  0,   0,   0,   0,   0,   0,   0,   0,   0,   0,   0, 139, 253,\n",
       "        190,   2,   0,   0,   0,   0,   0,   0,   0,   0,   0,   0,   0,\n",
       "          0,   0],\n",
       "       [  0,   0,   0,   0,   0,   0,   0,   0,   0,   0,   0,  11, 190,\n",
       "        253,  70,   0,   0,   0,   0,   0,   0,   0,   0,   0,   0,   0,\n",
       "          0,   0],\n",
       "       [  0,   0,   0,   0,   0,   0,   0,   0,   0,   0,   0,   0,  35,\n",
       "        241, 225, 160, 108,   1,   0,   0,   0,   0,   0,   0,   0,   0,\n",
       "          0,   0],\n",
       "       [  0,   0,   0,   0,   0,   0,   0,   0,   0,   0,   0,   0,   0,\n",
       "         81, 240, 253, 253, 119,  25,   0,   0,   0,   0,   0,   0,   0,\n",
       "          0,   0],\n",
       "       [  0,   0,   0,   0,   0,   0,   0,   0,   0,   0,   0,   0,   0,\n",
       "          0,  45, 186, 253, 253, 150,  27,   0,   0,   0,   0,   0,   0,\n",
       "          0,   0],\n",
       "       [  0,   0,   0,   0,   0,   0,   0,   0,   0,   0,   0,   0,   0,\n",
       "          0,   0,  16,  93, 252, 253, 187,   0,   0,   0,   0,   0,   0,\n",
       "          0,   0],\n",
       "       [  0,   0,   0,   0,   0,   0,   0,   0,   0,   0,   0,   0,   0,\n",
       "          0,   0,   0,   0, 249, 253, 249,  64,   0,   0,   0,   0,   0,\n",
       "          0,   0],\n",
       "       [  0,   0,   0,   0,   0,   0,   0,   0,   0,   0,   0,   0,   0,\n",
       "          0,  46, 130, 183, 253, 253, 207,   2,   0,   0,   0,   0,   0,\n",
       "          0,   0],\n",
       "       [  0,   0,   0,   0,   0,   0,   0,   0,   0,   0,   0,   0,  39,\n",
       "        148, 229, 253, 253, 253, 250, 182,   0,   0,   0,   0,   0,   0,\n",
       "          0,   0],\n",
       "       [  0,   0,   0,   0,   0,   0,   0,   0,   0,   0,  24, 114, 221,\n",
       "        253, 253, 253, 253, 201,  78,   0,   0,   0,   0,   0,   0,   0,\n",
       "          0,   0],\n",
       "       [  0,   0,   0,   0,   0,   0,   0,   0,  23,  66, 213, 253, 253,\n",
       "        253, 253, 198,  81,   2,   0,   0,   0,   0,   0,   0,   0,   0,\n",
       "          0,   0],\n",
       "       [  0,   0,   0,   0,   0,   0,  18, 171, 219, 253, 253, 253, 253,\n",
       "        195,  80,   9,   0,   0,   0,   0,   0,   0,   0,   0,   0,   0,\n",
       "          0,   0],\n",
       "       [  0,   0,   0,   0,  55, 172, 226, 253, 253, 253, 253, 244, 133,\n",
       "         11,   0,   0,   0,   0,   0,   0,   0,   0,   0,   0,   0,   0,\n",
       "          0,   0],\n",
       "       [  0,   0,   0,   0, 136, 253, 253, 253, 212, 135, 132,  16,   0,\n",
       "          0,   0,   0,   0,   0,   0,   0,   0,   0,   0,   0,   0,   0,\n",
       "          0,   0],\n",
       "       [  0,   0,   0,   0,   0,   0,   0,   0,   0,   0,   0,   0,   0,\n",
       "          0,   0,   0,   0,   0,   0,   0,   0,   0,   0,   0,   0,   0,\n",
       "          0,   0],\n",
       "       [  0,   0,   0,   0,   0,   0,   0,   0,   0,   0,   0,   0,   0,\n",
       "          0,   0,   0,   0,   0,   0,   0,   0,   0,   0,   0,   0,   0,\n",
       "          0,   0],\n",
       "       [  0,   0,   0,   0,   0,   0,   0,   0,   0,   0,   0,   0,   0,\n",
       "          0,   0,   0,   0,   0,   0,   0,   0,   0,   0,   0,   0,   0,\n",
       "          0,   0]], dtype=uint8)"
      ]
     },
     "execution_count": 6,
     "metadata": {},
     "output_type": "execute_result"
    }
   ],
   "source": [
    "x_train[0]"
   ]
  },
  {
   "cell_type": "code",
   "execution_count": 7,
   "id": "a835225c",
   "metadata": {
    "execution": {
     "iopub.execute_input": "2023-04-30T17:49:50.710773Z",
     "iopub.status.busy": "2023-04-30T17:49:50.709157Z",
     "iopub.status.idle": "2023-04-30T17:49:51.104257Z",
     "shell.execute_reply": "2023-04-30T17:49:51.102991Z"
    },
    "papermill": {
     "duration": 0.408203,
     "end_time": "2023-04-30T17:49:51.107140",
     "exception": false,
     "start_time": "2023-04-30T17:49:50.698937",
     "status": "completed"
    },
    "tags": []
   },
   "outputs": [
    {
     "data": {
      "text/plain": [
       "<matplotlib.image.AxesImage at 0x7d480ae0ccd0>"
      ]
     },
     "execution_count": 7,
     "metadata": {},
     "output_type": "execute_result"
    },
    {
     "data": {
      "image/png": "[encoded data removed]",
      "text/plain": [
       "<Figure size 480x480 with 1 Axes>"
      ]
     },
     "metadata": {},
     "output_type": "display_data"
    }
   ],
   "source": [
    "plt.matshow(x_train[0])"
   ]
  },
  {
   "cell_type": "code",
   "execution_count": 8,
   "id": "345ad2eb",
   "metadata": {
    "execution": {
     "iopub.execute_input": "2023-04-30T17:49:51.128886Z",
     "iopub.status.busy": "2023-04-30T17:49:51.128057Z",
     "iopub.status.idle": "2023-04-30T17:49:51.479215Z",
     "shell.execute_reply": "2023-04-30T17:49:51.477246Z"
    },
    "papermill": {
     "duration": 0.367237,
     "end_time": "2023-04-30T17:49:51.484704",
     "exception": false,
     "start_time": "2023-04-30T17:49:51.117467",
     "status": "completed"
    },
    "tags": []
   },
   "outputs": [
    {
     "data": {
      "text/plain": [
       "<matplotlib.image.AxesImage at 0x7d48014a7850>"
      ]
     },
     "execution_count": 8,
     "metadata": {},
     "output_type": "execute_result"
    },
    {
     "data": {
      "image/png": "[encoded data removed]",
      "text/plain": [
       "<Figure size 480x480 with 1 Axes>"
      ]
     },
     "metadata": {},
     "output_type": "display_data"
    }
   ],
   "source": [
    "plt.matshow(x_train[5])"
   ]
  },
  {
   "cell_type": "code",
   "execution_count": 9,
   "id": "b37535d7",
   "metadata": {
    "execution": {
     "iopub.execute_input": "2023-04-30T17:49:51.514183Z",
     "iopub.status.busy": "2023-04-30T17:49:51.513406Z",
     "iopub.status.idle": "2023-04-30T17:49:51.867397Z",
     "shell.execute_reply": "2023-04-30T17:49:51.865301Z"
    },
    "papermill": {
     "duration": 0.371305,
     "end_time": "2023-04-30T17:49:51.872545",
     "exception": false,
     "start_time": "2023-04-30T17:49:51.501240",
     "status": "completed"
    },
    "tags": []
   },
   "outputs": [
    {
     "data": {
      "text/plain": [
       "<matplotlib.image.AxesImage at 0x7d480143b450>"
      ]
     },
     "execution_count": 9,
     "metadata": {},
     "output_type": "execute_result"
    },
    {
     "data": {
      "image/png": "[encoded data removed]",
      "text/plain": [
       "<Figure size 480x480 with 1 Axes>"
      ]
     },
     "metadata": {},
     "output_type": "display_data"
    }
   ],
   "source": [
    "plt.matshow(x_train[7])"
   ]
  },
  {
   "cell_type": "code",
   "execution_count": 10,
   "id": "fed64b26",
   "metadata": {
    "execution": {
     "iopub.execute_input": "2023-04-30T17:49:51.901158Z",
     "iopub.status.busy": "2023-04-30T17:49:51.900183Z",
     "iopub.status.idle": "2023-04-30T17:49:51.908448Z",
     "shell.execute_reply": "2023-04-30T17:49:51.907179Z"
    },
    "papermill": {
     "duration": 0.023859,
     "end_time": "2023-04-30T17:49:51.911508",
     "exception": false,
     "start_time": "2023-04-30T17:49:51.887649",
     "status": "completed"
    },
    "tags": []
   },
   "outputs": [
    {
     "data": {
      "text/plain": [
       "4"
      ]
     },
     "execution_count": 10,
     "metadata": {},
     "output_type": "execute_result"
    }
   ],
   "source": [
    "y_train[2]"
   ]
  },
  {
   "cell_type": "code",
   "execution_count": 11,
   "id": "41e222bb",
   "metadata": {
    "execution": {
     "iopub.execute_input": "2023-04-30T17:49:51.935216Z",
     "iopub.status.busy": "2023-04-30T17:49:51.933493Z",
     "iopub.status.idle": "2023-04-30T17:49:51.942025Z",
     "shell.execute_reply": "2023-04-30T17:49:51.940376Z"
    },
    "papermill": {
     "duration": 0.022949,
     "end_time": "2023-04-30T17:49:51.944709",
     "exception": false,
     "start_time": "2023-04-30T17:49:51.921760",
     "status": "completed"
    },
    "tags": []
   },
   "outputs": [
    {
     "data": {
      "text/plain": [
       "array([5, 0, 4, 1, 9], dtype=uint8)"
      ]
     },
     "execution_count": 11,
     "metadata": {},
     "output_type": "execute_result"
    }
   ],
   "source": [
    "y_train[:5]\n"
   ]
  },
  {
   "cell_type": "code",
   "execution_count": 12,
   "id": "3f5d02a3",
   "metadata": {
    "execution": {
     "iopub.execute_input": "2023-04-30T17:49:51.967561Z",
     "iopub.status.busy": "2023-04-30T17:49:51.966342Z",
     "iopub.status.idle": "2023-04-30T17:49:51.975468Z",
     "shell.execute_reply": "2023-04-30T17:49:51.973959Z"
    },
    "papermill": {
     "duration": 0.023441,
     "end_time": "2023-04-30T17:49:51.978252",
     "exception": false,
     "start_time": "2023-04-30T17:49:51.954811",
     "status": "completed"
    },
    "tags": []
   },
   "outputs": [
    {
     "data": {
      "text/plain": [
       "(60000, 28, 28)"
      ]
     },
     "execution_count": 12,
     "metadata": {},
     "output_type": "execute_result"
    }
   ],
   "source": [
    "x_train.shape\n",
    "# gives the dimension of the numpy array \n",
    "# for example (60,000 , 28 , 28)\n",
    "# tells us that it contains 60,000 images each with height and width 28 pixels .\n"
   ]
  },
  {
   "cell_type": "code",
   "execution_count": 13,
   "id": "449aaa38",
   "metadata": {
    "execution": {
     "iopub.execute_input": "2023-04-30T17:49:52.000825Z",
     "iopub.status.busy": "2023-04-30T17:49:52.000385Z",
     "iopub.status.idle": "2023-04-30T17:49:52.303686Z",
     "shell.execute_reply": "2023-04-30T17:49:52.302062Z"
    },
    "papermill": {
     "duration": 0.318173,
     "end_time": "2023-04-30T17:49:52.306911",
     "exception": false,
     "start_time": "2023-04-30T17:49:51.988738",
     "status": "completed"
    },
    "tags": []
   },
   "outputs": [],
   "source": [
    "x_train = x_train/255\n",
    "x_test = x_test/255 "
   ]
  },
  {
   "cell_type": "code",
   "execution_count": 14,
   "id": "161f9c61",
   "metadata": {
    "execution": {
     "iopub.execute_input": "2023-04-30T17:49:52.328761Z",
     "iopub.status.busy": "2023-04-30T17:49:52.328301Z",
     "iopub.status.idle": "2023-04-30T17:49:52.338118Z",
     "shell.execute_reply": "2023-04-30T17:49:52.336485Z"
    },
    "papermill": {
     "duration": 0.024496,
     "end_time": "2023-04-30T17:49:52.341274",
     "exception": false,
     "start_time": "2023-04-30T17:49:52.316778",
     "status": "completed"
    },
    "tags": []
   },
   "outputs": [
    {
     "data": {
      "text/plain": [
       "(60000, 784)"
      ]
     },
     "execution_count": 14,
     "metadata": {},
     "output_type": "execute_result"
    }
   ],
   "source": [
    "x_train_flatten = x_train.reshape(len(x_train),28*28)\n",
    "x_train_flatten.shape\n"
   ]
  },
  {
   "cell_type": "code",
   "execution_count": 15,
   "id": "38fcb7ac",
   "metadata": {
    "execution": {
     "iopub.execute_input": "2023-04-30T17:49:52.363447Z",
     "iopub.status.busy": "2023-04-30T17:49:52.362999Z",
     "iopub.status.idle": "2023-04-30T17:49:52.379787Z",
     "shell.execute_reply": "2023-04-30T17:49:52.378403Z"
    },
    "papermill": {
     "duration": 0.031313,
     "end_time": "2023-04-30T17:49:52.382758",
     "exception": false,
     "start_time": "2023-04-30T17:49:52.351445",
     "status": "completed"
    },
    "tags": []
   },
   "outputs": [
    {
     "data": {
      "text/plain": [
       "array([0.        , 0.        , 0.        , 0.        , 0.        ,\n",
       "       0.        , 0.        , 0.        , 0.        , 0.        ,\n",
       "       0.        , 0.        , 0.        , 0.        , 0.        ,\n",
       "       0.        , 0.        , 0.        , 0.        , 0.        ,\n",
       "       0.        , 0.        , 0.        , 0.        , 0.        ,\n",
       "       0.        , 0.        , 0.        , 0.        , 0.        ,\n",
       "       0.        , 0.        , 0.        , 0.        , 0.        ,\n",
       "       0.        , 0.        , 0.        , 0.        , 0.        ,\n",
       "       0.        , 0.        , 0.        , 0.        , 0.        ,\n",
       "       0.        , 0.        , 0.        , 0.        , 0.        ,\n",
       "       0.        , 0.        , 0.        , 0.        , 0.        ,\n",
       "       0.        , 0.        , 0.        , 0.        , 0.        ,\n",
       "       0.        , 0.        , 0.        , 0.        , 0.        ,\n",
       "       0.        , 0.        , 0.        , 0.        , 0.        ,\n",
       "       0.        , 0.        , 0.        , 0.        , 0.        ,\n",
       "       0.        , 0.        , 0.        , 0.        , 0.        ,\n",
       "       0.        , 0.        , 0.        , 0.        , 0.        ,\n",
       "       0.        , 0.        , 0.        , 0.        , 0.        ,\n",
       "       0.        , 0.        , 0.        , 0.        , 0.        ,\n",
       "       0.        , 0.        , 0.        , 0.        , 0.        ,\n",
       "       0.        , 0.        , 0.        , 0.        , 0.        ,\n",
       "       0.        , 0.        , 0.        , 0.        , 0.        ,\n",
       "       0.        , 0.        , 0.        , 0.        , 0.        ,\n",
       "       0.        , 0.        , 0.        , 0.        , 0.        ,\n",
       "       0.        , 0.        , 0.        , 0.        , 0.        ,\n",
       "       0.        , 0.        , 0.        , 0.        , 0.        ,\n",
       "       0.        , 0.        , 0.        , 0.        , 0.        ,\n",
       "       0.        , 0.        , 0.        , 0.        , 0.        ,\n",
       "       0.        , 0.        , 0.        , 0.        , 0.        ,\n",
       "       0.        , 0.        , 0.        , 0.        , 0.        ,\n",
       "       0.        , 0.        , 0.01176471, 0.07058824, 0.07058824,\n",
       "       0.07058824, 0.49411765, 0.53333333, 0.68627451, 0.10196078,\n",
       "       0.65098039, 1.        , 0.96862745, 0.49803922, 0.        ,\n",
       "       0.        , 0.        , 0.        , 0.        , 0.        ,\n",
       "       0.        , 0.        , 0.        , 0.        , 0.        ,\n",
       "       0.        , 0.11764706, 0.14117647, 0.36862745, 0.60392157,\n",
       "       0.66666667, 0.99215686, 0.99215686, 0.99215686, 0.99215686,\n",
       "       0.99215686, 0.88235294, 0.6745098 , 0.99215686, 0.94901961,\n",
       "       0.76470588, 0.25098039, 0.        , 0.        , 0.        ,\n",
       "       0.        , 0.        , 0.        , 0.        , 0.        ,\n",
       "       0.        , 0.        , 0.        , 0.19215686, 0.93333333,\n",
       "       0.99215686, 0.99215686, 0.99215686, 0.99215686, 0.99215686,\n",
       "       0.99215686, 0.99215686, 0.99215686, 0.98431373, 0.36470588,\n",
       "       0.32156863, 0.32156863, 0.21960784, 0.15294118, 0.        ,\n",
       "       0.        , 0.        , 0.        , 0.        , 0.        ,\n",
       "       0.        , 0.        , 0.        , 0.        , 0.        ,\n",
       "       0.        , 0.07058824, 0.85882353, 0.99215686, 0.99215686,\n",
       "       0.99215686, 0.99215686, 0.99215686, 0.77647059, 0.71372549,\n",
       "       0.96862745, 0.94509804, 0.        , 0.        , 0.        ,\n",
       "       0.        , 0.        , 0.        , 0.        , 0.        ,\n",
       "       0.        , 0.        , 0.        , 0.        , 0.        ,\n",
       "       0.        , 0.        , 0.        , 0.        , 0.        ,\n",
       "       0.31372549, 0.61176471, 0.41960784, 0.99215686, 0.99215686,\n",
       "       0.80392157, 0.04313725, 0.        , 0.16862745, 0.60392157,\n",
       "       0.        , 0.        , 0.        , 0.        , 0.        ,\n",
       "       0.        , 0.        , 0.        , 0.        , 0.        ,\n",
       "       0.        , 0.        , 0.        , 0.        , 0.        ,\n",
       "       0.        , 0.        , 0.        , 0.        , 0.05490196,\n",
       "       0.00392157, 0.60392157, 0.99215686, 0.35294118, 0.        ,\n",
       "       0.        , 0.        , 0.        , 0.        , 0.        ,\n",
       "       0.        , 0.        , 0.        , 0.        , 0.        ,\n",
       "       0.        , 0.        , 0.        , 0.        , 0.        ,\n",
       "       0.        , 0.        , 0.        , 0.        , 0.        ,\n",
       "       0.        , 0.        , 0.        , 0.        , 0.54509804,\n",
       "       0.99215686, 0.74509804, 0.00784314, 0.        , 0.        ,\n",
       "       0.        , 0.        , 0.        , 0.        , 0.        ,\n",
       "       0.        , 0.        , 0.        , 0.        , 0.        ,\n",
       "       0.        , 0.        , 0.        , 0.        , 0.        ,\n",
       "       0.        , 0.        , 0.        , 0.        , 0.        ,\n",
       "       0.        , 0.        , 0.04313725, 0.74509804, 0.99215686,\n",
       "       0.2745098 , 0.        , 0.        , 0.        , 0.        ,\n",
       "       0.        , 0.        , 0.        , 0.        , 0.        ,\n",
       "       0.        , 0.        , 0.        , 0.        , 0.        ,\n",
       "       0.        , 0.        , 0.        , 0.        , 0.        ,\n",
       "       0.        , 0.        , 0.        , 0.        , 0.        ,\n",
       "       0.        , 0.1372549 , 0.94509804, 0.88235294, 0.62745098,\n",
       "       0.42352941, 0.00392157, 0.        , 0.        , 0.        ,\n",
       "       0.        , 0.        , 0.        , 0.        , 0.        ,\n",
       "       0.        , 0.        , 0.        , 0.        , 0.        ,\n",
       "       0.        , 0.        , 0.        , 0.        , 0.        ,\n",
       "       0.        , 0.        , 0.        , 0.        , 0.        ,\n",
       "       0.31764706, 0.94117647, 0.99215686, 0.99215686, 0.46666667,\n",
       "       0.09803922, 0.        , 0.        , 0.        , 0.        ,\n",
       "       0.        , 0.        , 0.        , 0.        , 0.        ,\n",
       "       0.        , 0.        , 0.        , 0.        , 0.        ,\n",
       "       0.        , 0.        , 0.        , 0.        , 0.        ,\n",
       "       0.        , 0.        , 0.        , 0.        , 0.17647059,\n",
       "       0.72941176, 0.99215686, 0.99215686, 0.58823529, 0.10588235,\n",
       "       0.        , 0.        , 0.        , 0.        , 0.        ,\n",
       "       0.        , 0.        , 0.        , 0.        , 0.        ,\n",
       "       0.        , 0.        , 0.        , 0.        , 0.        ,\n",
       "       0.        , 0.        , 0.        , 0.        , 0.        ,\n",
       "       0.        , 0.        , 0.        , 0.0627451 , 0.36470588,\n",
       "       0.98823529, 0.99215686, 0.73333333, 0.        , 0.        ,\n",
       "       0.        , 0.        , 0.        , 0.        , 0.        ,\n",
       "       0.        , 0.        , 0.        , 0.        , 0.        ,\n",
       "       0.        , 0.        , 0.        , 0.        , 0.        ,\n",
       "       0.        , 0.        , 0.        , 0.        , 0.        ,\n",
       "       0.        , 0.        , 0.        , 0.97647059, 0.99215686,\n",
       "       0.97647059, 0.25098039, 0.        , 0.        , 0.        ,\n",
       "       0.        , 0.        , 0.        , 0.        , 0.        ,\n",
       "       0.        , 0.        , 0.        , 0.        , 0.        ,\n",
       "       0.        , 0.        , 0.        , 0.        , 0.        ,\n",
       "       0.        , 0.        , 0.        , 0.18039216, 0.50980392,\n",
       "       0.71764706, 0.99215686, 0.99215686, 0.81176471, 0.00784314,\n",
       "       0.        , 0.        , 0.        , 0.        , 0.        ,\n",
       "       0.        , 0.        , 0.        , 0.        , 0.        ,\n",
       "       0.        , 0.        , 0.        , 0.        , 0.        ,\n",
       "       0.        , 0.        , 0.        , 0.        , 0.15294118,\n",
       "       0.58039216, 0.89803922, 0.99215686, 0.99215686, 0.99215686,\n",
       "       0.98039216, 0.71372549, 0.        , 0.        , 0.        ,\n",
       "       0.        , 0.        , 0.        , 0.        , 0.        ,\n",
       "       0.        , 0.        , 0.        , 0.        , 0.        ,\n",
       "       0.        , 0.        , 0.        , 0.        , 0.        ,\n",
       "       0.09411765, 0.44705882, 0.86666667, 0.99215686, 0.99215686,\n",
       "       0.99215686, 0.99215686, 0.78823529, 0.30588235, 0.        ,\n",
       "       0.        , 0.        , 0.        , 0.        , 0.        ,\n",
       "       0.        , 0.        , 0.        , 0.        , 0.        ,\n",
       "       0.        , 0.        , 0.        , 0.        , 0.        ,\n",
       "       0.        , 0.09019608, 0.25882353, 0.83529412, 0.99215686,\n",
       "       0.99215686, 0.99215686, 0.99215686, 0.77647059, 0.31764706,\n",
       "       0.00784314, 0.        , 0.        , 0.        , 0.        ,\n",
       "       0.        , 0.        , 0.        , 0.        , 0.        ,\n",
       "       0.        , 0.        , 0.        , 0.        , 0.        ,\n",
       "       0.        , 0.        , 0.07058824, 0.67058824, 0.85882353,\n",
       "       0.99215686, 0.99215686, 0.99215686, 0.99215686, 0.76470588,\n",
       "       0.31372549, 0.03529412, 0.        , 0.        , 0.        ,\n",
       "       0.        , 0.        , 0.        , 0.        , 0.        ,\n",
       "       0.        , 0.        , 0.        , 0.        , 0.        ,\n",
       "       0.        , 0.        , 0.        , 0.21568627, 0.6745098 ,\n",
       "       0.88627451, 0.99215686, 0.99215686, 0.99215686, 0.99215686,\n",
       "       0.95686275, 0.52156863, 0.04313725, 0.        , 0.        ,\n",
       "       0.        , 0.        , 0.        , 0.        , 0.        ,\n",
       "       0.        , 0.        , 0.        , 0.        , 0.        ,\n",
       "       0.        , 0.        , 0.        , 0.        , 0.        ,\n",
       "       0.        , 0.53333333, 0.99215686, 0.99215686, 0.99215686,\n",
       "       0.83137255, 0.52941176, 0.51764706, 0.0627451 , 0.        ,\n",
       "       0.        , 0.        , 0.        , 0.        , 0.        ,\n",
       "       0.        , 0.        , 0.        , 0.        , 0.        ,\n",
       "       0.        , 0.        , 0.        , 0.        , 0.        ,\n",
       "       0.        , 0.        , 0.        , 0.        , 0.        ,\n",
       "       0.        , 0.        , 0.        , 0.        , 0.        ,\n",
       "       0.        , 0.        , 0.        , 0.        , 0.        ,\n",
       "       0.        , 0.        , 0.        , 0.        , 0.        ,\n",
       "       0.        , 0.        , 0.        , 0.        , 0.        ,\n",
       "       0.        , 0.        , 0.        , 0.        , 0.        ,\n",
       "       0.        , 0.        , 0.        , 0.        , 0.        ,\n",
       "       0.        , 0.        , 0.        , 0.        , 0.        ,\n",
       "       0.        , 0.        , 0.        , 0.        , 0.        ,\n",
       "       0.        , 0.        , 0.        , 0.        , 0.        ,\n",
       "       0.        , 0.        , 0.        , 0.        , 0.        ,\n",
       "       0.        , 0.        , 0.        , 0.        , 0.        ,\n",
       "       0.        , 0.        , 0.        , 0.        , 0.        ,\n",
       "       0.        , 0.        , 0.        , 0.        , 0.        ,\n",
       "       0.        , 0.        , 0.        , 0.        , 0.        ,\n",
       "       0.        , 0.        , 0.        , 0.        , 0.        ,\n",
       "       0.        , 0.        , 0.        , 0.        ])"
      ]
     },
     "execution_count": 15,
     "metadata": {},
     "output_type": "execute_result"
    }
   ],
   "source": [
    "x_train_flatten[0]"
   ]
  },
  {
   "cell_type": "code",
   "execution_count": 16,
   "id": "574f7ddd",
   "metadata": {
    "execution": {
     "iopub.execute_input": "2023-04-30T17:49:52.405936Z",
     "iopub.status.busy": "2023-04-30T17:49:52.405484Z",
     "iopub.status.idle": "2023-04-30T17:49:52.421941Z",
     "shell.execute_reply": "2023-04-30T17:49:52.420399Z"
    },
    "papermill": {
     "duration": 0.031208,
     "end_time": "2023-04-30T17:49:52.424679",
     "exception": false,
     "start_time": "2023-04-30T17:49:52.393471",
     "status": "completed"
    },
    "tags": []
   },
   "outputs": [
    {
     "data": {
      "text/plain": [
       "array([[0.        , 0.        , 0.        , 0.        , 0.        ,\n",
       "        0.        , 0.        , 0.        , 0.        , 0.        ,\n",
       "        0.        , 0.        , 0.        , 0.        , 0.        ,\n",
       "        0.        , 0.        , 0.        , 0.        , 0.        ,\n",
       "        0.        , 0.        , 0.        , 0.        , 0.        ,\n",
       "        0.        , 0.        , 0.        ],\n",
       "       [0.        , 0.        , 0.        , 0.        , 0.        ,\n",
       "        0.        , 0.        , 0.        , 0.        , 0.        ,\n",
       "        0.        , 0.        , 0.        , 0.        , 0.        ,\n",
       "        0.        , 0.        , 0.        , 0.        , 0.        ,\n",
       "        0.        , 0.        , 0.        , 0.        , 0.        ,\n",
       "        0.        , 0.        , 0.        ],\n",
       "       [0.        , 0.        , 0.        , 0.        , 0.        ,\n",
       "        0.        , 0.        , 0.        , 0.        , 0.        ,\n",
       "        0.        , 0.        , 0.        , 0.        , 0.        ,\n",
       "        0.        , 0.        , 0.        , 0.        , 0.        ,\n",
       "        0.        , 0.        , 0.        , 0.        , 0.        ,\n",
       "        0.        , 0.        , 0.        ],\n",
       "       [0.        , 0.        , 0.        , 0.        , 0.        ,\n",
       "        0.        , 0.        , 0.        , 0.        , 0.        ,\n",
       "        0.        , 0.        , 0.        , 0.        , 0.        ,\n",
       "        0.        , 0.        , 0.        , 0.        , 0.        ,\n",
       "        0.        , 0.        , 0.        , 0.        , 0.        ,\n",
       "        0.        , 0.        , 0.        ],\n",
       "       [0.        , 0.        , 0.        , 0.        , 0.        ,\n",
       "        0.        , 0.        , 0.        , 0.        , 0.        ,\n",
       "        0.        , 0.        , 0.        , 0.        , 0.        ,\n",
       "        0.        , 0.        , 0.        , 0.        , 0.        ,\n",
       "        0.        , 0.        , 0.        , 0.        , 0.        ,\n",
       "        0.        , 0.        , 0.        ],\n",
       "       [0.        , 0.        , 0.        , 0.        , 0.        ,\n",
       "        0.        , 0.        , 0.        , 0.        , 0.        ,\n",
       "        0.        , 0.        , 0.01176471, 0.07058824, 0.07058824,\n",
       "        0.07058824, 0.49411765, 0.53333333, 0.68627451, 0.10196078,\n",
       "        0.65098039, 1.        , 0.96862745, 0.49803922, 0.        ,\n",
       "        0.        , 0.        , 0.        ],\n",
       "       [0.        , 0.        , 0.        , 0.        , 0.        ,\n",
       "        0.        , 0.        , 0.        , 0.11764706, 0.14117647,\n",
       "        0.36862745, 0.60392157, 0.66666667, 0.99215686, 0.99215686,\n",
       "        0.99215686, 0.99215686, 0.99215686, 0.88235294, 0.6745098 ,\n",
       "        0.99215686, 0.94901961, 0.76470588, 0.25098039, 0.        ,\n",
       "        0.        , 0.        , 0.        ],\n",
       "       [0.        , 0.        , 0.        , 0.        , 0.        ,\n",
       "        0.        , 0.        , 0.19215686, 0.93333333, 0.99215686,\n",
       "        0.99215686, 0.99215686, 0.99215686, 0.99215686, 0.99215686,\n",
       "        0.99215686, 0.99215686, 0.98431373, 0.36470588, 0.32156863,\n",
       "        0.32156863, 0.21960784, 0.15294118, 0.        , 0.        ,\n",
       "        0.        , 0.        , 0.        ],\n",
       "       [0.        , 0.        , 0.        , 0.        , 0.        ,\n",
       "        0.        , 0.        , 0.07058824, 0.85882353, 0.99215686,\n",
       "        0.99215686, 0.99215686, 0.99215686, 0.99215686, 0.77647059,\n",
       "        0.71372549, 0.96862745, 0.94509804, 0.        , 0.        ,\n",
       "        0.        , 0.        , 0.        , 0.        , 0.        ,\n",
       "        0.        , 0.        , 0.        ],\n",
       "       [0.        , 0.        , 0.        , 0.        , 0.        ,\n",
       "        0.        , 0.        , 0.        , 0.31372549, 0.61176471,\n",
       "        0.41960784, 0.99215686, 0.99215686, 0.80392157, 0.04313725,\n",
       "        0.        , 0.16862745, 0.60392157, 0.        , 0.        ,\n",
       "        0.        , 0.        , 0.        , 0.        , 0.        ,\n",
       "        0.        , 0.        , 0.        ],\n",
       "       [0.        , 0.        , 0.        , 0.        , 0.        ,\n",
       "        0.        , 0.        , 0.        , 0.        , 0.05490196,\n",
       "        0.00392157, 0.60392157, 0.99215686, 0.35294118, 0.        ,\n",
       "        0.        , 0.        , 0.        , 0.        , 0.        ,\n",
       "        0.        , 0.        , 0.        , 0.        , 0.        ,\n",
       "        0.        , 0.        , 0.        ],\n",
       "       [0.        , 0.        , 0.        , 0.        , 0.        ,\n",
       "        0.        , 0.        , 0.        , 0.        , 0.        ,\n",
       "        0.        , 0.54509804, 0.99215686, 0.74509804, 0.00784314,\n",
       "        0.        , 0.        , 0.        , 0.        , 0.        ,\n",
       "        0.        , 0.        , 0.        , 0.        , 0.        ,\n",
       "        0.        , 0.        , 0.        ],\n",
       "       [0.        , 0.        , 0.        , 0.        , 0.        ,\n",
       "        0.        , 0.        , 0.        , 0.        , 0.        ,\n",
       "        0.        , 0.04313725, 0.74509804, 0.99215686, 0.2745098 ,\n",
       "        0.        , 0.        , 0.        , 0.        , 0.        ,\n",
       "        0.        , 0.        , 0.        , 0.        , 0.        ,\n",
       "        0.        , 0.        , 0.        ],\n",
       "       [0.        , 0.        , 0.        , 0.        , 0.        ,\n",
       "        0.        , 0.        , 0.        , 0.        , 0.        ,\n",
       "        0.        , 0.        , 0.1372549 , 0.94509804, 0.88235294,\n",
       "        0.62745098, 0.42352941, 0.00392157, 0.        , 0.        ,\n",
       "        0.        , 0.        , 0.        , 0.        , 0.        ,\n",
       "        0.        , 0.        , 0.        ],\n",
       "       [0.        , 0.        , 0.        , 0.        , 0.        ,\n",
       "        0.        , 0.        , 0.        , 0.        , 0.        ,\n",
       "        0.        , 0.        , 0.        , 0.31764706, 0.94117647,\n",
       "        0.99215686, 0.99215686, 0.46666667, 0.09803922, 0.        ,\n",
       "        0.        , 0.        , 0.        , 0.        , 0.        ,\n",
       "        0.        , 0.        , 0.        ],\n",
       "       [0.        , 0.        , 0.        , 0.        , 0.        ,\n",
       "        0.        , 0.        , 0.        , 0.        , 0.        ,\n",
       "        0.        , 0.        , 0.        , 0.        , 0.17647059,\n",
       "        0.72941176, 0.99215686, 0.99215686, 0.58823529, 0.10588235,\n",
       "        0.        , 0.        , 0.        , 0.        , 0.        ,\n",
       "        0.        , 0.        , 0.        ],\n",
       "       [0.        , 0.        , 0.        , 0.        , 0.        ,\n",
       "        0.        , 0.        , 0.        , 0.        , 0.        ,\n",
       "        0.        , 0.        , 0.        , 0.        , 0.        ,\n",
       "        0.0627451 , 0.36470588, 0.98823529, 0.99215686, 0.73333333,\n",
       "        0.        , 0.        , 0.        , 0.        , 0.        ,\n",
       "        0.        , 0.        , 0.        ],\n",
       "       [0.        , 0.        , 0.        , 0.        , 0.        ,\n",
       "        0.        , 0.        , 0.        , 0.        , 0.        ,\n",
       "        0.        , 0.        , 0.        , 0.        , 0.        ,\n",
       "        0.        , 0.        , 0.97647059, 0.99215686, 0.97647059,\n",
       "        0.25098039, 0.        , 0.        , 0.        , 0.        ,\n",
       "        0.        , 0.        , 0.        ],\n",
       "       [0.        , 0.        , 0.        , 0.        , 0.        ,\n",
       "        0.        , 0.        , 0.        , 0.        , 0.        ,\n",
       "        0.        , 0.        , 0.        , 0.        , 0.18039216,\n",
       "        0.50980392, 0.71764706, 0.99215686, 0.99215686, 0.81176471,\n",
       "        0.00784314, 0.        , 0.        , 0.        , 0.        ,\n",
       "        0.        , 0.        , 0.        ],\n",
       "       [0.        , 0.        , 0.        , 0.        , 0.        ,\n",
       "        0.        , 0.        , 0.        , 0.        , 0.        ,\n",
       "        0.        , 0.        , 0.15294118, 0.58039216, 0.89803922,\n",
       "        0.99215686, 0.99215686, 0.99215686, 0.98039216, 0.71372549,\n",
       "        0.        , 0.        , 0.        , 0.        , 0.        ,\n",
       "        0.        , 0.        , 0.        ],\n",
       "       [0.        , 0.        , 0.        , 0.        , 0.        ,\n",
       "        0.        , 0.        , 0.        , 0.        , 0.        ,\n",
       "        0.09411765, 0.44705882, 0.86666667, 0.99215686, 0.99215686,\n",
       "        0.99215686, 0.99215686, 0.78823529, 0.30588235, 0.        ,\n",
       "        0.        , 0.        , 0.        , 0.        , 0.        ,\n",
       "        0.        , 0.        , 0.        ],\n",
       "       [0.        , 0.        , 0.        , 0.        , 0.        ,\n",
       "        0.        , 0.        , 0.        , 0.09019608, 0.25882353,\n",
       "        0.83529412, 0.99215686, 0.99215686, 0.99215686, 0.99215686,\n",
       "        0.77647059, 0.31764706, 0.00784314, 0.        , 0.        ,\n",
       "        0.        , 0.        , 0.        , 0.        , 0.        ,\n",
       "        0.        , 0.        , 0.        ],\n",
       "       [0.        , 0.        , 0.        , 0.        , 0.        ,\n",
       "        0.        , 0.07058824, 0.67058824, 0.85882353, 0.99215686,\n",
       "        0.99215686, 0.99215686, 0.99215686, 0.76470588, 0.31372549,\n",
       "        0.03529412, 0.        , 0.        , 0.        , 0.        ,\n",
       "        0.        , 0.        , 0.        , 0.        , 0.        ,\n",
       "        0.        , 0.        , 0.        ],\n",
       "       [0.        , 0.        , 0.        , 0.        , 0.21568627,\n",
       "        0.6745098 , 0.88627451, 0.99215686, 0.99215686, 0.99215686,\n",
       "        0.99215686, 0.95686275, 0.52156863, 0.04313725, 0.        ,\n",
       "        0.        , 0.        , 0.        , 0.        , 0.        ,\n",
       "        0.        , 0.        , 0.        , 0.        , 0.        ,\n",
       "        0.        , 0.        , 0.        ],\n",
       "       [0.        , 0.        , 0.        , 0.        , 0.53333333,\n",
       "        0.99215686, 0.99215686, 0.99215686, 0.83137255, 0.52941176,\n",
       "        0.51764706, 0.0627451 , 0.        , 0.        , 0.        ,\n",
       "        0.        , 0.        , 0.        , 0.        , 0.        ,\n",
       "        0.        , 0.        , 0.        , 0.        , 0.        ,\n",
       "        0.        , 0.        , 0.        ],\n",
       "       [0.        , 0.        , 0.        , 0.        , 0.        ,\n",
       "        0.        , 0.        , 0.        , 0.        , 0.        ,\n",
       "        0.        , 0.        , 0.        , 0.        , 0.        ,\n",
       "        0.        , 0.        , 0.        , 0.        , 0.        ,\n",
       "        0.        , 0.        , 0.        , 0.        , 0.        ,\n",
       "        0.        , 0.        , 0.        ],\n",
       "       [0.        , 0.        , 0.        , 0.        , 0.        ,\n",
       "        0.        , 0.        , 0.        , 0.        , 0.        ,\n",
       "        0.        , 0.        , 0.        , 0.        , 0.        ,\n",
       "        0.        , 0.        , 0.        , 0.        , 0.        ,\n",
       "        0.        , 0.        , 0.        , 0.        , 0.        ,\n",
       "        0.        , 0.        , 0.        ],\n",
       "       [0.        , 0.        , 0.        , 0.        , 0.        ,\n",
       "        0.        , 0.        , 0.        , 0.        , 0.        ,\n",
       "        0.        , 0.        , 0.        , 0.        , 0.        ,\n",
       "        0.        , 0.        , 0.        , 0.        , 0.        ,\n",
       "        0.        , 0.        , 0.        , 0.        , 0.        ,\n",
       "        0.        , 0.        , 0.        ]])"
      ]
     },
     "execution_count": 16,
     "metadata": {},
     "output_type": "execute_result"
    }
   ],
   "source": [
    "x_train[0]"
   ]
  },
  {
   "cell_type": "code",
   "execution_count": 17,
   "id": "b7dc3182",
   "metadata": {
    "execution": {
     "iopub.execute_input": "2023-04-30T17:49:52.448292Z",
     "iopub.status.busy": "2023-04-30T17:49:52.447812Z",
     "iopub.status.idle": "2023-04-30T17:49:52.455923Z",
     "shell.execute_reply": "2023-04-30T17:49:52.454551Z"
    },
    "papermill": {
     "duration": 0.022855,
     "end_time": "2023-04-30T17:49:52.458442",
     "exception": false,
     "start_time": "2023-04-30T17:49:52.435587",
     "status": "completed"
    },
    "tags": []
   },
   "outputs": [
    {
     "data": {
      "text/plain": [
       "10000"
      ]
     },
     "execution_count": 17,
     "metadata": {},
     "output_type": "execute_result"
    }
   ],
   "source": [
    "len(x_test)"
   ]
  },
  {
   "cell_type": "code",
   "execution_count": 18,
   "id": "90f28ae1",
   "metadata": {
    "execution": {
     "iopub.execute_input": "2023-04-30T17:49:52.482687Z",
     "iopub.status.busy": "2023-04-30T17:49:52.482212Z",
     "iopub.status.idle": "2023-04-30T17:49:52.491089Z",
     "shell.execute_reply": "2023-04-30T17:49:52.489391Z"
    },
    "papermill": {
     "duration": 0.024359,
     "end_time": "2023-04-30T17:49:52.493879",
     "exception": false,
     "start_time": "2023-04-30T17:49:52.469520",
     "status": "completed"
    },
    "tags": []
   },
   "outputs": [
    {
     "data": {
      "text/plain": [
       "(10000, 784)"
      ]
     },
     "execution_count": 18,
     "metadata": {},
     "output_type": "execute_result"
    }
   ],
   "source": [
    "x_test_flatten = x_test.reshape(len(x_test),28*28)\n",
    "x_test_flatten.shape\n",
    "# we are reshaping the numoy array "
   ]
  },
  {
   "cell_type": "code",
   "execution_count": 19,
   "id": "40a8c535",
   "metadata": {
    "execution": {
     "iopub.execute_input": "2023-04-30T17:49:52.518166Z",
     "iopub.status.busy": "2023-04-30T17:49:52.517630Z",
     "iopub.status.idle": "2023-04-30T17:52:16.383406Z",
     "shell.execute_reply": "2023-04-30T17:52:16.382055Z"
    },
    "papermill": {
     "duration": 144.016936,
     "end_time": "2023-04-30T17:52:16.522016",
     "exception": false,
     "start_time": "2023-04-30T17:49:52.505080",
     "status": "completed"
    },
    "tags": []
   },
   "outputs": [
    {
     "name": "stdout",
     "output_type": "stream",
     "text": [
      "Epoch 1/5\n",
      "1875/1875 [==============================] - 23s 12ms/step - loss: 0.1985 - accuracy: 0.9421\n",
      "Epoch 2/5\n",
      "1875/1875 [==============================] - 22s 11ms/step - loss: 0.0775 - accuracy: 0.9760\n",
      "Epoch 3/5\n",
      "1875/1875 [==============================] - 22s 12ms/step - loss: 0.0501 - accuracy: 0.9840\n",
      "Epoch 4/5\n",
      "1875/1875 [==============================] - 21s 11ms/step - loss: 0.0332 - accuracy: 0.9892\n",
      "Epoch 5/5\n",
      "1875/1875 [==============================] - 21s 11ms/step - loss: 0.0249 - accuracy: 0.9914\n"
     ]
    },
    {
     "data": {
      "text/plain": [
       "<keras.callbacks.History at 0x7d480b3e7690>"
      ]
     },
     "execution_count": 19,
     "metadata": {},
     "output_type": "execute_result"
    }
   ],
   "source": [
    "# defines the simple neural network using the simple API of tensorflow.\n",
    "# sequential is used to stack the layers of neural network.\n",
    "# layers.Dense is used tp create a dense layer .\n",
    "# dense layer is that every input node is connected to every the output layer .\n",
    "# using sigmoid function\n",
    "# \n",
    "model = keras.Sequential([\n",
    "    keras.layers.Dense(1000, input_shape = (784,),activation='relu'),\n",
    "    keras.layers.Dense(100,activation='sigmoid')\n",
    "])\n",
    "# we are configuring the model here \n",
    "# with loss function as \"sparse_categorical_cossentropy\"\n",
    "# and optimizer = \"adam\"\n",
    "# mertices as = \"accuracy\".\n",
    "# \n",
    "\n",
    "\n",
    "# tensorboard callback.\n",
    "# logs of the model will stored specified by the log_dir .\n",
    "# \n",
    "tb_callback = tf.keras.callbacks.TensorBoard(log_dir=\"logs/\",histogram_freq=1)\n",
    "\n",
    "\n",
    "# \n",
    "model.compile(\n",
    "    optimizer = 'adam',\n",
    "    loss = 'sparse_categorical_crossentropy',\n",
    "    metrics = ['accuracy']\n",
    ")\n",
    "# fit() is used to train data set with a definite number of epochs.\n",
    "# in our case here epochs = 5 .\n",
    "model.fit(x_train_flatten, y_train , epochs = 5, callbacks =[tb_callback])\n",
    "# one of the methods to improve accuracy is to scale up the training data set .\n"
   ]
  },
  {
   "cell_type": "code",
   "execution_count": 20,
   "id": "2ab929ec",
   "metadata": {
    "execution": {
     "iopub.execute_input": "2023-04-30T17:52:16.797775Z",
     "iopub.status.busy": "2023-04-30T17:52:16.797252Z",
     "iopub.status.idle": "2023-04-30T17:52:16.814269Z",
     "shell.execute_reply": "2023-04-30T17:52:16.813091Z"
    },
    "papermill": {
     "duration": 0.159188,
     "end_time": "2023-04-30T17:52:16.817134",
     "exception": false,
     "start_time": "2023-04-30T17:52:16.657946",
     "status": "completed"
    },
    "tags": []
   },
   "outputs": [],
   "source": [
    "# To connect the kaggle notebook to the tensorflow seervices.\n",
    "%load_ext tensorboard"
   ]
  },
  {
   "cell_type": "code",
   "execution_count": 21,
   "id": "b169ce80",
   "metadata": {
    "execution": {
     "iopub.execute_input": "2023-04-30T17:52:17.086303Z",
     "iopub.status.busy": "2023-04-30T17:52:17.084916Z",
     "iopub.status.idle": "2023-04-30T17:52:17.090457Z",
     "shell.execute_reply": "2023-04-30T17:52:17.089276Z"
    },
    "papermill": {
     "duration": 0.141253,
     "end_time": "2023-04-30T17:52:17.093177",
     "exception": false,
     "start_time": "2023-04-30T17:52:16.951924",
     "status": "completed"
    },
    "tags": []
   },
   "outputs": [],
   "source": [
    "# to locate the destination of the logs .\n",
    "log_dir = '/kaggle/working/logs'"
   ]
  },
  {
   "cell_type": "code",
   "execution_count": 22,
   "id": "1216d150",
   "metadata": {
    "execution": {
     "iopub.execute_input": "2023-04-30T17:52:17.366021Z",
     "iopub.status.busy": "2023-04-30T17:52:17.365431Z",
     "iopub.status.idle": "2023-04-30T17:52:25.428962Z",
     "shell.execute_reply": "2023-04-30T17:52:25.427276Z"
    },
    "papermill": {
     "duration": 8.204337,
     "end_time": "2023-04-30T17:52:25.432698",
     "exception": false,
     "start_time": "2023-04-30T17:52:17.228361",
     "status": "completed"
    },
    "tags": []
   },
   "outputs": [
    {
     "data": {
      "text/html": [
       "\n",
       "      <iframe id=\"tensorboard-frame-1037c656494213e2\" width=\"100%\" height=\"800\" frameborder=\"0\">\n",
       "      </iframe>\n",
       "      <script>\n",
       "        (function() {\n",
       "          const frame = document.getElementById(\"tensorboard-frame-1037c656494213e2\");\n",
       "          const url = new URL(\"/\", window.location);\n",
       "          const port = 6006;\n",
       "          if (port) {\n",
       "            url.port = port;\n",
       "          }\n",
       "          frame.src = url;\n",
       "        })();\n",
       "      </script>\n",
       "    "
      ],
      "text/plain": [
       "<IPython.core.display.HTML object>"
      ]
     },
     "metadata": {},
     "output_type": "display_data"
    }
   ],
   "source": [
    "%tensorboard --logdir={log_dir}"
   ]
  },
  {
   "cell_type": "code",
   "execution_count": 23,
   "id": "10a5bdd1",
   "metadata": {
    "execution": {
     "iopub.execute_input": "2023-04-30T17:52:25.708387Z",
     "iopub.status.busy": "2023-04-30T17:52:25.707839Z",
     "iopub.status.idle": "2023-04-30T17:52:26.082700Z",
     "shell.execute_reply": "2023-04-30T17:52:26.081238Z"
    },
    "papermill": {
     "duration": 0.517802,
     "end_time": "2023-04-30T17:52:26.085504",
     "exception": false,
     "start_time": "2023-04-30T17:52:25.567702",
     "status": "completed"
    },
    "tags": []
   },
   "outputs": [
    {
     "data": {
      "text/plain": [
       "<matplotlib.image.AxesImage at 0x7d47ce79ca50>"
      ]
     },
     "execution_count": 23,
     "metadata": {},
     "output_type": "execute_result"
    },
    {
     "data": {
      "image/png": "[encoded data removed]",
      "text/plain": [
       "<Figure size 480x480 with 1 Axes>"
      ]
     },
     "metadata": {},
     "output_type": "display_data"
    }
   ],
   "source": [
    "plt.matshow(x_test[2])"
   ]
  },
  {
   "cell_type": "code",
   "execution_count": 24,
   "id": "c29b1fef",
   "metadata": {
    "execution": {
     "iopub.execute_input": "2023-04-30T17:52:26.454945Z",
     "iopub.status.busy": "2023-04-30T17:52:26.454431Z",
     "iopub.status.idle": "2023-04-30T17:52:28.147111Z",
     "shell.execute_reply": "2023-04-30T17:52:28.145948Z"
    },
    "papermill": {
     "duration": 1.832645,
     "end_time": "2023-04-30T17:52:28.149912",
     "exception": false,
     "start_time": "2023-04-30T17:52:26.317267",
     "status": "completed"
    },
    "tags": []
   },
   "outputs": [
    {
     "name": "stdout",
     "output_type": "stream",
     "text": [
      "313/313 [==============================] - 1s 4ms/step\n"
     ]
    },
    {
     "data": {
      "text/plain": [
       "array([[1.4100301e-03, 7.0903799e-04, 7.5817607e-02, ..., 8.3568125e-08,\n",
       "        3.4096512e-08, 4.6541775e-08],\n",
       "       [9.0254880e-06, 9.3214417e-01, 1.0000000e+00, ..., 7.6670441e-13,\n",
       "        3.2936338e-12, 1.1623725e-11],\n",
       "       [3.2894095e-05, 9.9965209e-01, 8.4463060e-03, ..., 2.5031509e-06,\n",
       "        1.6882526e-06, 2.4450676e-06],\n",
       "       ...,\n",
       "       [1.7108892e-09, 3.5274535e-04, 3.0907322e-06, ..., 8.5076497e-09,\n",
       "        8.5454888e-10, 1.4484370e-08],\n",
       "       [2.6764991e-04, 1.0973260e-05, 9.8528552e-08, ..., 2.0760391e-10,\n",
       "        6.3056055e-10, 1.1155500e-09],\n",
       "       [8.2174465e-03, 1.3775442e-04, 2.6643404e-03, ..., 1.7279789e-09,\n",
       "        3.8619077e-09, 8.2023517e-09]], dtype=float32)"
      ]
     },
     "execution_count": 24,
     "metadata": {},
     "output_type": "execute_result"
    }
   ],
   "source": [
    "model.predict(x_test_flatten)"
   ]
  },
  {
   "cell_type": "code",
   "execution_count": 25,
   "id": "ae98d34e",
   "metadata": {
    "execution": {
     "iopub.execute_input": "2023-04-30T17:52:28.431123Z",
     "iopub.status.busy": "2023-04-30T17:52:28.429810Z",
     "iopub.status.idle": "2023-04-30T17:52:30.075456Z",
     "shell.execute_reply": "2023-04-30T17:52:30.073891Z"
    },
    "papermill": {
     "duration": 1.786578,
     "end_time": "2023-04-30T17:52:30.078295",
     "exception": false,
     "start_time": "2023-04-30T17:52:28.291717",
     "status": "completed"
    },
    "tags": []
   },
   "outputs": [
    {
     "name": "stdout",
     "output_type": "stream",
     "text": [
      "313/313 [==============================] - 1s 5ms/step\n"
     ]
    },
    {
     "data": {
      "text/plain": [
       "array([9.0254880e-06, 9.3214417e-01, 1.0000000e+00, 1.8941389e-03,\n",
       "       2.1097728e-11, 1.8789450e-03, 8.4413227e-04, 1.3901050e-07,\n",
       "       6.6653967e-01, 1.0811168e-09, 5.0631038e-13, 1.0119229e-11,\n",
       "       2.9045377e-12, 2.1639103e-12, 1.2897028e-11, 4.0775881e-12,\n",
       "       7.1760013e-13, 5.0492778e-12, 1.4619153e-11, 1.3210624e-12,\n",
       "       1.1917698e-12, 6.4956547e-12, 9.9372886e-13, 6.4454492e-12,\n",
       "       2.6784356e-12, 1.7455195e-12, 3.2226569e-11, 3.0328489e-12,\n",
       "       8.9136641e-12, 3.5138676e-12, 2.1470993e-12, 5.2975454e-12,\n",
       "       1.6153519e-12, 4.3482930e-12, 6.2805691e-13, 7.6486837e-13,\n",
       "       1.5916593e-11, 6.0880710e-12, 1.6022348e-11, 1.5957257e-12,\n",
       "       7.7007227e-13, 2.0802197e-11, 3.7978531e-12, 1.0167824e-12,\n",
       "       5.2898515e-12, 1.8226228e-12, 3.5960098e-12, 2.8373517e-12,\n",
       "       9.0516125e-13, 1.3175269e-12, 4.1619152e-12, 2.8005699e-12,\n",
       "       2.2499090e-12, 1.7256180e-12, 3.0962375e-12, 1.8871081e-12,\n",
       "       1.4602293e-11, 4.1239308e-12, 4.2780467e-12, 1.1574891e-12,\n",
       "       1.1159553e-11, 1.4845123e-11, 3.9627091e-12, 5.1218876e-13,\n",
       "       2.1532193e-11, 5.4272810e-12, 5.3549356e-11, 1.1832264e-12,\n",
       "       1.7365105e-12, 7.1083148e-12, 2.2089856e-12, 6.0989148e-12,\n",
       "       1.8968371e-12, 2.5045369e-12, 2.2089479e-12, 5.5764466e-11,\n",
       "       1.7675543e-12, 8.4258859e-13, 7.1523924e-12, 4.8781752e-13,\n",
       "       3.1280896e-12, 2.5643166e-12, 3.8663604e-12, 2.3586719e-12,\n",
       "       6.1136675e-13, 8.3994264e-13, 9.2173717e-12, 3.7751182e-12,\n",
       "       2.1457729e-12, 2.4014243e-12, 1.2258071e-12, 3.2239341e-12,\n",
       "       7.1866753e-12, 8.0293704e-13, 7.6549773e-12, 8.5707445e-13,\n",
       "       2.9967320e-12, 7.6670441e-13, 3.2936338e-12, 1.1623725e-11],\n",
       "      dtype=float32)"
      ]
     },
     "execution_count": 25,
     "metadata": {},
     "output_type": "execute_result"
    }
   ],
   "source": [
    "y_pred = model.predict(x_test_flatten)\n",
    "y_pred[1]"
   ]
  },
  {
   "cell_type": "code",
   "execution_count": 26,
   "id": "79edf354",
   "metadata": {
    "execution": {
     "iopub.execute_input": "2023-04-30T17:52:30.369373Z",
     "iopub.status.busy": "2023-04-30T17:52:30.368888Z",
     "iopub.status.idle": "2023-04-30T17:52:30.377424Z",
     "shell.execute_reply": "2023-04-30T17:52:30.376233Z"
    },
    "papermill": {
     "duration": 0.158206,
     "end_time": "2023-04-30T17:52:30.379884",
     "exception": false,
     "start_time": "2023-04-30T17:52:30.221678",
     "status": "completed"
    },
    "tags": []
   },
   "outputs": [
    {
     "data": {
      "text/plain": [
       "1"
      ]
     },
     "execution_count": 26,
     "metadata": {},
     "output_type": "execute_result"
    }
   ],
   "source": [
    "np.argmax(y_pred[2])"
   ]
  },
  {
   "cell_type": "code",
   "execution_count": 27,
   "id": "38bbdba6",
   "metadata": {
    "execution": {
     "iopub.execute_input": "2023-04-30T17:52:30.660502Z",
     "iopub.status.busy": "2023-04-30T17:52:30.659152Z",
     "iopub.status.idle": "2023-04-30T17:52:30.689609Z",
     "shell.execute_reply": "2023-04-30T17:52:30.687971Z"
    },
    "papermill": {
     "duration": 0.173735,
     "end_time": "2023-04-30T17:52:30.692400",
     "exception": false,
     "start_time": "2023-04-30T17:52:30.518665",
     "status": "completed"
    },
    "tags": []
   },
   "outputs": [
    {
     "data": {
      "text/plain": [
       "[7, 2, 1, 0, 4]"
      ]
     },
     "execution_count": 27,
     "metadata": {},
     "output_type": "execute_result"
    }
   ],
   "source": [
    "y_pred_label= [np.argmax(i) for i in y_pred]\n",
    "y_pred_label[:5]"
   ]
  },
  {
   "cell_type": "code",
   "execution_count": 28,
   "id": "ff1b546a",
   "metadata": {
    "execution": {
     "iopub.execute_input": "2023-04-30T17:52:30.974045Z",
     "iopub.status.busy": "2023-04-30T17:52:30.973206Z",
     "iopub.status.idle": "2023-04-30T17:52:30.981671Z",
     "shell.execute_reply": "2023-04-30T17:52:30.980295Z"
    },
    "papermill": {
     "duration": 0.152598,
     "end_time": "2023-04-30T17:52:30.984513",
     "exception": false,
     "start_time": "2023-04-30T17:52:30.831915",
     "status": "completed"
    },
    "tags": []
   },
   "outputs": [
    {
     "data": {
      "text/plain": [
       "array([7, 2, 1, 0, 4], dtype=uint8)"
      ]
     },
     "execution_count": 28,
     "metadata": {},
     "output_type": "execute_result"
    }
   ],
   "source": [
    "y_test[:5]"
   ]
  },
  {
   "cell_type": "code",
   "execution_count": 29,
   "id": "e848c74c",
   "metadata": {
    "execution": {
     "iopub.execute_input": "2023-04-30T17:52:31.266518Z",
     "iopub.status.busy": "2023-04-30T17:52:31.266052Z",
     "iopub.status.idle": "2023-04-30T17:52:31.311139Z",
     "shell.execute_reply": "2023-04-30T17:52:31.309325Z"
    },
    "papermill": {
     "duration": 0.189981,
     "end_time": "2023-04-30T17:52:31.313909",
     "exception": false,
     "start_time": "2023-04-30T17:52:31.123928",
     "status": "completed"
    },
    "tags": []
   },
   "outputs": [
    {
     "data": {
      "text/plain": [
       "<tf.Tensor: shape=(10, 10), dtype=int32, numpy=\n",
       "array([[ 970,    1,    1,    0,    1,    1,    3,    2,    1,    0],\n",
       "       [   0, 1128,    2,    0,    0,    0,    2,    0,    3,    0],\n",
       "       [   1,    2, 1007,    1,    1,    1,    2,    7,   10,    0],\n",
       "       [   1,    0,    2,  996,    0,    1,    0,    4,    3,    3],\n",
       "       [   0,    1,    2,    1,  955,    0,    6,    4,    0,   13],\n",
       "       [   2,    0,    0,    8,    1,  870,    5,    0,    5,    1],\n",
       "       [   2,    4,    0,    1,    2,    1,  947,    0,    1,    0],\n",
       "       [   3,    1,    5,    2,    0,    0,    0, 1006,    3,    8],\n",
       "       [   1,    2,    2,    3,    3,    3,    1,    4,  953,    2],\n",
       "       [   2,    2,    0,    2,    6,    1,    0,    4,    2,  990]],\n",
       "      dtype=int32)>"
      ]
     },
     "execution_count": 29,
     "metadata": {},
     "output_type": "execute_result"
    }
   ],
   "source": [
    "# creating the confusion matrix \n",
    "# This function is the one to create an confusion matrix with \n",
    "# label == Y_test >>> that is the test data .\n",
    "# predictions is the actual predicted value .\n",
    "cm = tf.math.confusion_matrix(labels = y_test, predictions = y_pred_label)\n",
    "cm"
   ]
  },
  {
   "cell_type": "code",
   "execution_count": 30,
   "id": "9a3780a0",
   "metadata": {
    "execution": {
     "iopub.execute_input": "2023-04-30T17:52:31.596030Z",
     "iopub.status.busy": "2023-04-30T17:52:31.594971Z",
     "iopub.status.idle": "2023-04-30T17:52:33.404746Z",
     "shell.execute_reply": "2023-04-30T17:52:33.403366Z"
    },
    "papermill": {
     "duration": 1.953841,
     "end_time": "2023-04-30T17:52:33.407474",
     "exception": false,
     "start_time": "2023-04-30T17:52:31.453633",
     "status": "completed"
    },
    "tags": []
   },
   "outputs": [
    {
     "data": {
      "text/plain": [
       "<AxesSubplot:>"
      ]
     },
     "execution_count": 30,
     "metadata": {},
     "output_type": "execute_result"
    },
    {
     "data": {
      "image/png": "[encoded data removed]",
      "text/plain": [
       "<Figure size 1000x700 with 2 Axes>"
      ]
     },
     "metadata": {},
     "output_type": "display_data"
    }
   ],
   "source": [
    "import seaborn as sn \n",
    "# creates an figure wit\n",
    "plt.figure(figsize = (10,7))\n",
    "sn.heatmap(cm, annot = True ,fmt = 'd')"
   ]
  }
 ],
 "metadata": {
  "kernelspec": {
   "display_name": "Python 3",
   "language": "python",
   "name": "python3"
  },
  "language_info": {
   "codemirror_mode": {
    "name": "ipython",
    "version": 3
   },
   "file_extension": ".py",
   "mimetype": "text/x-python",
   "name": "python",
   "nbconvert_exporter": "python",
   "pygments_lexer": "ipython3",
   "version": "3.7.12"
  },
  "papermill": {
   "default_parameters": {},
   "duration": 189.074541,
   "end_time": "2023-04-30T17:52:36.173134",
   "environment_variables": {},
   "exception": null,
   "input_path": "__notebook__.ipynb",
   "output_path": "__notebook__.ipynb",
   "parameters": {},
   "start_time": "2023-04-30T17:49:27.098593",
   "version": "2.4.0"
  }
 },
 "nbformat": 4,
 "nbformat_minor": 5
}
