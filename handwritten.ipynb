{
 "cells": [
  {
   "cell_type": "code",
   "execution_count": 1,
   "id": "205c35ed",
   "metadata": {
    "_cell_guid": "b1076dfc-b9ad-4769-8c92-a6c4dae69d19",
    "_uuid": "8f2839f25d086af736a60e9eeb907d3b93b6e0e5",
    "execution": {
     "iopub.execute_input": "2023-04-30T18:05:57.658075Z",
     "iopub.status.busy": "2023-04-30T18:05:57.657120Z",
     "iopub.status.idle": "2023-04-30T18:06:08.167555Z",
     "shell.execute_reply": "2023-04-30T18:06:08.165855Z"
    },
    "papermill": {
     "duration": 10.52538,
     "end_time": "2023-04-30T18:06:08.171373",
     "exception": false,
     "start_time": "2023-04-30T18:05:57.645993",
     "status": "completed"
    },
    "tags": []
   },
   "outputs": [],
   "source": [
    "import tensorflow as tf\n",
    "from tensorflow import keras\n",
    "import matplotlib.pyplot as plt\n",
    "# %matplotlib inline \n",
    "# The %matplotlib inline command is a magic function in Jupyter Notebook and other IPython environments that allows for the rendering of Matplotlib plots directly in the output cell of the notebook\n",
    "# using %matplotlib inline command saves us the trouble to write the prinnt command \n",
    "# however is not used in kaggle as kaggle already has an inbuilt 'inline backend' for the matplotlib.\n",
    "import numpy as np \n"
   ]
  },
  {
   "cell_type": "code",
   "execution_count": 2,
   "id": "cf29db90",
   "metadata": {
    "execution": {
     "iopub.execute_input": "2023-04-30T18:06:08.191563Z",
     "iopub.status.busy": "2023-04-30T18:06:08.190716Z",
     "iopub.status.idle": "2023-04-30T18:06:09.587337Z",
     "shell.execute_reply": "2023-04-30T18:06:09.585612Z"
    },
    "papermill": {
     "duration": 1.410452,
     "end_time": "2023-04-30T18:06:09.590392",
     "exception": false,
     "start_time": "2023-04-30T18:06:08.179940",
     "status": "completed"
    },
    "tags": []
   },
   "outputs": [
    {
     "name": "stdout",
     "output_type": "stream",
     "text": [
      "Downloading data from https://storage.googleapis.com/tensorflow/tf-keras-datasets/mnist.npz\n",
      "11490434/11490434 [==============================] - 1s 0us/step\n"
     ]
    }
   ],
   "source": [
    "(x_train, y_train) , (x_test , y_test) = keras.datasets.mnist.load_data()\n",
    "# This code loads the mnist \n",
    "# The second part loads the two tuples \n",
    "#  firstly the training data the second tuple stores the testing data .\n",
    "# of the mnist data set \n",
    "# x_train holds the 3-d array size (60000, 28 , 28)\n",
    "# test contains (60,000) to test the model ."
   ]
  },
  {
   "cell_type": "code",
   "execution_count": 3,
   "id": "f6456279",
   "metadata": {
    "execution": {
     "iopub.execute_input": "2023-04-30T18:06:09.610918Z",
     "iopub.status.busy": "2023-04-30T18:06:09.610414Z",
     "iopub.status.idle": "2023-04-30T18:06:09.620621Z",
     "shell.execute_reply": "2023-04-30T18:06:09.619303Z"
    },
    "papermill": {
     "duration": 0.023795,
     "end_time": "2023-04-30T18:06:09.623414",
     "exception": false,
     "start_time": "2023-04-30T18:06:09.599619",
     "status": "completed"
    },
    "tags": []
   },
   "outputs": [
    {
     "data": {
      "text/plain": [
       "60000"
      ]
     },
     "execution_count": 3,
     "metadata": {},
     "output_type": "execute_result"
    }
   ],
   "source": [
    "len(x_train)\n",
    "# length of the training data set "
   ]
  },
  {
   "cell_type": "code",
   "execution_count": 4,
   "id": "5cf5a578",
   "metadata": {
    "execution": {
     "iopub.execute_input": "2023-04-30T18:06:09.643546Z",
     "iopub.status.busy": "2023-04-30T18:06:09.642816Z",
     "iopub.status.idle": "2023-04-30T18:06:09.652338Z",
     "shell.execute_reply": "2023-04-30T18:06:09.650790Z"
    },
    "papermill": {
     "duration": 0.022817,
     "end_time": "2023-04-30T18:06:09.654999",
     "exception": false,
     "start_time": "2023-04-30T18:06:09.632182",
     "status": "completed"
    },
    "tags": []
   },
   "outputs": [
    {
     "data": {
      "text/plain": [
       "10000"
      ]
     },
     "execution_count": 4,
     "metadata": {},
     "output_type": "execute_result"
    }
   ],
   "source": [
    "len(x_test)\n",
    "# length of the test data ."
   ]
  },
  {
   "cell_type": "code",
   "execution_count": 5,
   "id": "aa3d34a0",
   "metadata": {
    "execution": {
     "iopub.execute_input": "2023-04-30T18:06:09.676131Z",
     "iopub.status.busy": "2023-04-30T18:06:09.674450Z",
     "iopub.status.idle": "2023-04-30T18:06:09.684534Z",
     "shell.execute_reply": "2023-04-30T18:06:09.683488Z"
    },
    "papermill": {
     "duration": 0.023129,
     "end_time": "2023-04-30T18:06:09.686838",
     "exception": false,
     "start_time": "2023-04-30T18:06:09.663709",
     "status": "completed"
    },
    "tags": []
   },
   "outputs": [
    {
     "data": {
      "text/plain": [
       "(28, 28)"
      ]
     },
     "execution_count": 5,
     "metadata": {},
     "output_type": "execute_result"
    }
   ],
   "source": [
    "x_train[0].shape"
   ]
  },
  {
   "cell_type": "code",
   "execution_count": 6,
   "id": "c580e6e7",
   "metadata": {
    "execution": {
     "iopub.execute_input": "2023-04-30T18:06:09.707597Z",
     "iopub.status.busy": "2023-04-30T18:06:09.707094Z",
     "iopub.status.idle": "2023-04-30T18:06:09.719499Z",
     "shell.execute_reply": "2023-04-30T18:06:09.718189Z"
    },
    "papermill": {
     "duration": 0.025912,
     "end_time": "2023-04-30T18:06:09.722274",
     "exception": false,
     "start_time": "2023-04-30T18:06:09.696362",
     "status": "completed"
    },
    "tags": []
   },
   "outputs": [
    {
     "data": {
      "text/plain": [
       "array([[  0,   0,   0,   0,   0,   0,   0,   0,   0,   0,   0,   0,   0,\n",
       "          0,   0,   0,   0,   0,   0,   0,   0,   0,   0,   0,   0,   0,\n",
       "          0,   0],\n",
       "       [  0,   0,   0,   0,   0,   0,   0,   0,   0,   0,   0,   0,   0,\n",
       "          0,   0,   0,   0,   0,   0,   0,   0,   0,   0,   0,   0,   0,\n",
       "          0,   0],\n",
       "       [  0,   0,   0,   0,   0,   0,   0,   0,   0,   0,   0,   0,   0,\n",
       "          0,   0,   0,   0,   0,   0,   0,   0,   0,   0,   0,   0,   0,\n",
       "          0,   0],\n",
       "       [  0,   0,   0,   0,   0,   0,   0,   0,   0,   0,   0,   0,   0,\n",
       "          0,   0,   0,   0,   0,   0,   0,   0,   0,   0,   0,   0,   0,\n",
       "          0,   0],\n",
       "       [  0,   0,   0,   0,   0,   0,   0,   0,   0,   0,   0,   0,   0,\n",
       "          0,   0,   0,   0,   0,   0,   0,   0,   0,   0,   0,   0,   0,\n",
       "          0,   0],\n",
       "       [  0,   0,   0,   0,   0,   0,   0,   0,   0,   0,   0,   0,   3,\n",
       "         18,  18,  18, 126, 136, 175,  26, 166, 255, 247, 127,   0,   0,\n",
       "          0,   0],\n",
       "       [  0,   0,   0,   0,   0,   0,   0,   0,  30,  36,  94, 154, 170,\n",
       "        253, 253, 253, 253, 253, 225, 172, 253, 242, 195,  64,   0,   0,\n",
       "          0,   0],\n",
       "       [  0,   0,   0,   0,   0,   0,   0,  49, 238, 253, 253, 253, 253,\n",
       "        253, 253, 253, 253, 251,  93,  82,  82,  56,  39,   0,   0,   0,\n",
       "          0,   0],\n",
       "       [  0,   0,   0,   0,   0,   0,   0,  18, 219, 253, 253, 253, 253,\n",
       "        253, 198, 182, 247, 241,   0,   0,   0,   0,   0,   0,   0,   0,\n",
       "          0,   0],\n",
       "       [  0,   0,   0,   0,   0,   0,   0,   0,  80, 156, 107, 253, 253,\n",
       "        205,  11,   0,  43, 154,   0,   0,   0,   0,   0,   0,   0,   0,\n",
       "          0,   0],\n",
       "       [  0,   0,   0,   0,   0,   0,   0,   0,   0,  14,   1, 154, 253,\n",
       "         90,   0,   0,   0,   0,   0,   0,   0,   0,   0,   0,   0,   0,\n",
       "          0,   0],\n",
       "       [  0,   0,   0,   0,   0,   0,   0,   0,   0,   0,   0, 139, 253,\n",
       "        190,   2,   0,   0,   0,   0,   0,   0,   0,   0,   0,   0,   0,\n",
       "          0,   0],\n",
       "       [  0,   0,   0,   0,   0,   0,   0,   0,   0,   0,   0,  11, 190,\n",
       "        253,  70,   0,   0,   0,   0,   0,   0,   0,   0,   0,   0,   0,\n",
       "          0,   0],\n",
       "       [  0,   0,   0,   0,   0,   0,   0,   0,   0,   0,   0,   0,  35,\n",
       "        241, 225, 160, 108,   1,   0,   0,   0,   0,   0,   0,   0,   0,\n",
       "          0,   0],\n",
       "       [  0,   0,   0,   0,   0,   0,   0,   0,   0,   0,   0,   0,   0,\n",
       "         81, 240, 253, 253, 119,  25,   0,   0,   0,   0,   0,   0,   0,\n",
       "          0,   0],\n",
       "       [  0,   0,   0,   0,   0,   0,   0,   0,   0,   0,   0,   0,   0,\n",
       "          0,  45, 186, 253, 253, 150,  27,   0,   0,   0,   0,   0,   0,\n",
       "          0,   0],\n",
       "       [  0,   0,   0,   0,   0,   0,   0,   0,   0,   0,   0,   0,   0,\n",
       "          0,   0,  16,  93, 252, 253, 187,   0,   0,   0,   0,   0,   0,\n",
       "          0,   0],\n",
       "       [  0,   0,   0,   0,   0,   0,   0,   0,   0,   0,   0,   0,   0,\n",
       "          0,   0,   0,   0, 249, 253, 249,  64,   0,   0,   0,   0,   0,\n",
       "          0,   0],\n",
       "       [  0,   0,   0,   0,   0,   0,   0,   0,   0,   0,   0,   0,   0,\n",
       "          0,  46, 130, 183, 253, 253, 207,   2,   0,   0,   0,   0,   0,\n",
       "          0,   0],\n",
       "       [  0,   0,   0,   0,   0,   0,   0,   0,   0,   0,   0,   0,  39,\n",
       "        148, 229, 253, 253, 253, 250, 182,   0,   0,   0,   0,   0,   0,\n",
       "          0,   0],\n",
       "       [  0,   0,   0,   0,   0,   0,   0,   0,   0,   0,  24, 114, 221,\n",
       "        253, 253, 253, 253, 201,  78,   0,   0,   0,   0,   0,   0,   0,\n",
       "          0,   0],\n",
       "       [  0,   0,   0,   0,   0,   0,   0,   0,  23,  66, 213, 253, 253,\n",
       "        253, 253, 198,  81,   2,   0,   0,   0,   0,   0,   0,   0,   0,\n",
       "          0,   0],\n",
       "       [  0,   0,   0,   0,   0,   0,  18, 171, 219, 253, 253, 253, 253,\n",
       "        195,  80,   9,   0,   0,   0,   0,   0,   0,   0,   0,   0,   0,\n",
       "          0,   0],\n",
       "       [  0,   0,   0,   0,  55, 172, 226, 253, 253, 253, 253, 244, 133,\n",
       "         11,   0,   0,   0,   0,   0,   0,   0,   0,   0,   0,   0,   0,\n",
       "          0,   0],\n",
       "       [  0,   0,   0,   0, 136, 253, 253, 253, 212, 135, 132,  16,   0,\n",
       "          0,   0,   0,   0,   0,   0,   0,   0,   0,   0,   0,   0,   0,\n",
       "          0,   0],\n",
       "       [  0,   0,   0,   0,   0,   0,   0,   0,   0,   0,   0,   0,   0,\n",
       "          0,   0,   0,   0,   0,   0,   0,   0,   0,   0,   0,   0,   0,\n",
       "          0,   0],\n",
       "       [  0,   0,   0,   0,   0,   0,   0,   0,   0,   0,   0,   0,   0,\n",
       "          0,   0,   0,   0,   0,   0,   0,   0,   0,   0,   0,   0,   0,\n",
       "          0,   0],\n",
       "       [  0,   0,   0,   0,   0,   0,   0,   0,   0,   0,   0,   0,   0,\n",
       "          0,   0,   0,   0,   0,   0,   0,   0,   0,   0,   0,   0,   0,\n",
       "          0,   0]], dtype=uint8)"
      ]
     },
     "execution_count": 6,
     "metadata": {},
     "output_type": "execute_result"
    }
   ],
   "source": [
    "x_train[0]"
   ]
  },
  {
   "cell_type": "code",
   "execution_count": 7,
   "id": "03dc52eb",
   "metadata": {
    "execution": {
     "iopub.execute_input": "2023-04-30T18:06:09.742567Z",
     "iopub.status.busy": "2023-04-30T18:06:09.742144Z",
     "iopub.status.idle": "2023-04-30T18:06:10.130193Z",
     "shell.execute_reply": "2023-04-30T18:06:10.129216Z"
    },
    "papermill": {
     "duration": 0.401902,
     "end_time": "2023-04-30T18:06:10.133416",
     "exception": false,
     "start_time": "2023-04-30T18:06:09.731514",
     "status": "completed"
    },
    "tags": []
   },
   "outputs": [
    {
     "data": {
      "text/plain": [
       "<matplotlib.image.AxesImage at 0x756ecc34c6d0>"
      ]
     },
     "execution_count": 7,
     "metadata": {},
     "output_type": "execute_result"
    },
    {
     "data": {
      "image/png": "[encoded data removed]",
      "text/plain": [
       "<Figure size 480x480 with 1 Axes>"
      ]
     },
     "metadata": {},
     "output_type": "display_data"
    }
   ],
   "source": [
    "plt.matshow(x_train[0])"
   ]
  },
  {
   "cell_type": "code",
   "execution_count": 8,
   "id": "b5036559",
   "metadata": {
    "execution": {
     "iopub.execute_input": "2023-04-30T18:06:10.157825Z",
     "iopub.status.busy": "2023-04-30T18:06:10.157144Z",
     "iopub.status.idle": "2023-04-30T18:06:10.486953Z",
     "shell.execute_reply": "2023-04-30T18:06:10.485159Z"
    },
    "papermill": {
     "duration": 0.348236,
     "end_time": "2023-04-30T18:06:10.493454",
     "exception": false,
     "start_time": "2023-04-30T18:06:10.145218",
     "status": "completed"
    },
    "tags": []
   },
   "outputs": [
    {
     "data": {
      "text/plain": [
       "<matplotlib.image.AxesImage at 0x756ec29f6610>"
      ]
     },
     "execution_count": 8,
     "metadata": {},
     "output_type": "execute_result"
    },
    {
     "data": {
      "image/png": "[encoded data removed]",
      "text/plain": [
       "<Figure size 480x480 with 1 Axes>"
      ]
     },
     "metadata": {},
     "output_type": "display_data"
    }
   ],
   "source": [
    "plt.matshow(x_train[5])"
   ]
  },
  {
   "cell_type": "code",
   "execution_count": 9,
   "id": "b6df4ea9",
   "metadata": {
    "execution": {
     "iopub.execute_input": "2023-04-30T18:06:10.528491Z",
     "iopub.status.busy": "2023-04-30T18:06:10.527817Z",
     "iopub.status.idle": "2023-04-30T18:06:10.852119Z",
     "shell.execute_reply": "2023-04-30T18:06:10.849938Z"
    },
    "papermill": {
     "duration": 0.342581,
     "end_time": "2023-04-30T18:06:10.857629",
     "exception": false,
     "start_time": "2023-04-30T18:06:10.515048",
     "status": "completed"
    },
    "tags": []
   },
   "outputs": [
    {
     "data": {
      "text/plain": [
       "<matplotlib.image.AxesImage at 0x756ec298a510>"
      ]
     },
     "execution_count": 9,
     "metadata": {},
     "output_type": "execute_result"
    },
    {
     "data": {
      "image/png": "[encoded data removed]",
      "text/plain": [
       "<Figure size 480x480 with 1 Axes>"
      ]
     },
     "metadata": {},
     "output_type": "display_data"
    }
   ],
   "source": [
    "plt.matshow(x_train[7])"
   ]
  },
  {
   "cell_type": "code",
   "execution_count": 10,
   "id": "d9bc455d",
   "metadata": {
    "execution": {
     "iopub.execute_input": "2023-04-30T18:06:10.891608Z",
     "iopub.status.busy": "2023-04-30T18:06:10.890840Z",
     "iopub.status.idle": "2023-04-30T18:06:10.897066Z",
     "shell.execute_reply": "2023-04-30T18:06:10.896155Z"
    },
    "papermill": {
     "duration": 0.021491,
     "end_time": "2023-04-30T18:06:10.899753",
     "exception": false,
     "start_time": "2023-04-30T18:06:10.878262",
     "status": "completed"
    },
    "tags": []
   },
   "outputs": [
    {
     "data": {
      "text/plain": [
       "4"
      ]
     },
     "execution_count": 10,
     "metadata": {},
     "output_type": "execute_result"
    }
   ],
   "source": [
    "y_train[2]"
   ]
  },
  {
   "cell_type": "code",
   "execution_count": 11,
   "id": "bcbaae8b",
   "metadata": {
    "execution": {
     "iopub.execute_input": "2023-04-30T18:06:10.925789Z",
     "iopub.status.busy": "2023-04-30T18:06:10.924982Z",
     "iopub.status.idle": "2023-04-30T18:06:10.932379Z",
     "shell.execute_reply": "2023-04-30T18:06:10.930890Z"
    },
    "papermill": {
     "duration": 0.024646,
     "end_time": "2023-04-30T18:06:10.935343",
     "exception": false,
     "start_time": "2023-04-30T18:06:10.910697",
     "status": "completed"
    },
    "tags": []
   },
   "outputs": [
    {
     "data": {
      "text/plain": [
       "array([5, 0, 4, 1, 9], dtype=uint8)"
      ]
     },
     "execution_count": 11,
     "metadata": {},
     "output_type": "execute_result"
    }
   ],
   "source": [
    "y_train[:5]\n"
   ]
  },
  {
   "cell_type": "code",
   "execution_count": 12,
   "id": "9681ecdb",
   "metadata": {
    "execution": {
     "iopub.execute_input": "2023-04-30T18:06:10.960758Z",
     "iopub.status.busy": "2023-04-30T18:06:10.960328Z",
     "iopub.status.idle": "2023-04-30T18:06:10.967076Z",
     "shell.execute_reply": "2023-04-30T18:06:10.966096Z"
    },
    "papermill": {
     "duration": 0.021689,
     "end_time": "2023-04-30T18:06:10.969478",
     "exception": false,
     "start_time": "2023-04-30T18:06:10.947789",
     "status": "completed"
    },
    "tags": []
   },
   "outputs": [
    {
     "data": {
      "text/plain": [
       "(60000, 28, 28)"
      ]
     },
     "execution_count": 12,
     "metadata": {},
     "output_type": "execute_result"
    }
   ],
   "source": [
    "x_train.shape\n",
    "# gives the dimension of the numpy array \n",
    "# for example (60,000 , 28 , 28)\n",
    "# tells us that it contains 60,000 images each with height and width 28 pixels .\n"
   ]
  },
  {
   "cell_type": "code",
   "execution_count": 13,
   "id": "29c4dd43",
   "metadata": {
    "execution": {
     "iopub.execute_input": "2023-04-30T18:06:10.994190Z",
     "iopub.status.busy": "2023-04-30T18:06:10.993388Z",
     "iopub.status.idle": "2023-04-30T18:06:11.219274Z",
     "shell.execute_reply": "2023-04-30T18:06:11.217916Z"
    },
    "papermill": {
     "duration": 0.241975,
     "end_time": "2023-04-30T18:06:11.222607",
     "exception": false,
     "start_time": "2023-04-30T18:06:10.980632",
     "status": "completed"
    },
    "tags": []
   },
   "outputs": [],
   "source": [
    "x_train = x_train/255\n",
    "x_test = x_test/255 "
   ]
  },
  {
   "cell_type": "code",
   "execution_count": 14,
   "id": "35fc6a2d",
   "metadata": {
    "execution": {
     "iopub.execute_input": "2023-04-30T18:06:11.247946Z",
     "iopub.status.busy": "2023-04-30T18:06:11.247483Z",
     "iopub.status.idle": "2023-04-30T18:06:11.255391Z",
     "shell.execute_reply": "2023-04-30T18:06:11.254098Z"
    },
    "papermill": {
     "duration": 0.024103,
     "end_time": "2023-04-30T18:06:11.258054",
     "exception": false,
     "start_time": "2023-04-30T18:06:11.233951",
     "status": "completed"
    },
    "tags": []
   },
   "outputs": [
    {
     "data": {
      "text/plain": [
       "(60000, 784)"
      ]
     },
     "execution_count": 14,
     "metadata": {},
     "output_type": "execute_result"
    }
   ],
   "source": [
    "x_train_flatten = x_train.reshape(len(x_train),28*28)\n",
    "x_train_flatten.shape\n"
   ]
  },
  {
   "cell_type": "code",
   "execution_count": 15,
   "id": "2cd4e5c9",
   "metadata": {
    "execution": {
     "iopub.execute_input": "2023-04-30T18:06:11.285938Z",
     "iopub.status.busy": "2023-04-30T18:06:11.285434Z",
     "iopub.status.idle": "2023-04-30T18:06:11.299495Z",
     "shell.execute_reply": "2023-04-30T18:06:11.298502Z"
    },
    "papermill": {
     "duration": 0.031655,
     "end_time": "2023-04-30T18:06:11.302522",
     "exception": false,
     "start_time": "2023-04-30T18:06:11.270867",
     "status": "completed"
    },
    "tags": []
   },
   "outputs": [
    {
     "data": {
      "text/plain": [
       "array([0.        , 0.        , 0.        , 0.        , 0.        ,\n",
       "       0.        , 0.        , 0.        , 0.        , 0.        ,\n",
       "       0.        , 0.        , 0.        , 0.        , 0.        ,\n",
       "       0.        , 0.        , 0.        , 0.        , 0.        ,\n",
       "       0.        , 0.        , 0.        , 0.        , 0.        ,\n",
       "       0.        , 0.        , 0.        , 0.        , 0.        ,\n",
       "       0.        , 0.        , 0.        , 0.        , 0.        ,\n",
       "       0.        , 0.        , 0.        , 0.        , 0.        ,\n",
       "       0.        , 0.        , 0.        , 0.        , 0.        ,\n",
       "       0.        , 0.        , 0.        , 0.        , 0.        ,\n",
       "       0.        , 0.        , 0.        , 0.        , 0.        ,\n",
       "       0.        , 0.        , 0.        , 0.        , 0.        ,\n",
       "       0.        , 0.        , 0.        , 0.        , 0.        ,\n",
       "       0.        , 0.        , 0.        , 0.        , 0.        ,\n",
       "       0.        , 0.        , 0.        , 0.        , 0.        ,\n",
       "       0.        , 0.        , 0.        , 0.        , 0.        ,\n",
       "       0.        , 0.        , 0.        , 0.        , 0.        ,\n",
       "       0.        , 0.        , 0.        , 0.        , 0.        ,\n",
       "       0.        , 0.        , 0.        , 0.        , 0.        ,\n",
       "       0.        , 0.        , 0.        , 0.        , 0.        ,\n",
       "       0.        , 0.        , 0.        , 0.        , 0.        ,\n",
       "       0.        , 0.        , 0.        , 0.        , 0.        ,\n",
       "       0.        , 0.        , 0.        , 0.        , 0.        ,\n",
       "       0.        , 0.        , 0.        , 0.        , 0.        ,\n",
       "       0.        , 0.        , 0.        , 0.        , 0.        ,\n",
       "       0.        , 0.        , 0.        , 0.        , 0.        ,\n",
       "       0.        , 0.        , 0.        , 0.        , 0.        ,\n",
       "       0.        , 0.        , 0.        , 0.        , 0.        ,\n",
       "       0.        , 0.        , 0.        , 0.        , 0.        ,\n",
       "       0.        , 0.        , 0.        , 0.        , 0.        ,\n",
       "       0.        , 0.        , 0.01176471, 0.07058824, 0.07058824,\n",
       "       0.07058824, 0.49411765, 0.53333333, 0.68627451, 0.10196078,\n",
       "       0.65098039, 1.        , 0.96862745, 0.49803922, 0.        ,\n",
       "       0.        , 0.        , 0.        , 0.        , 0.        ,\n",
       "       0.        , 0.        , 0.        , 0.        , 0.        ,\n",
       "       0.        , 0.11764706, 0.14117647, 0.36862745, 0.60392157,\n",
       "       0.66666667, 0.99215686, 0.99215686, 0.99215686, 0.99215686,\n",
       "       0.99215686, 0.88235294, 0.6745098 , 0.99215686, 0.94901961,\n",
       "       0.76470588, 0.25098039, 0.        , 0.        , 0.        ,\n",
       "       0.        , 0.        , 0.        , 0.        , 0.        ,\n",
       "       0.        , 0.        , 0.        , 0.19215686, 0.93333333,\n",
       "       0.99215686, 0.99215686, 0.99215686, 0.99215686, 0.99215686,\n",
       "       0.99215686, 0.99215686, 0.99215686, 0.98431373, 0.36470588,\n",
       "       0.32156863, 0.32156863, 0.21960784, 0.15294118, 0.        ,\n",
       "       0.        , 0.        , 0.        , 0.        , 0.        ,\n",
       "       0.        , 0.        , 0.        , 0.        , 0.        ,\n",
       "       0.        , 0.07058824, 0.85882353, 0.99215686, 0.99215686,\n",
       "       0.99215686, 0.99215686, 0.99215686, 0.77647059, 0.71372549,\n",
       "       0.96862745, 0.94509804, 0.        , 0.        , 0.        ,\n",
       "       0.        , 0.        , 0.        , 0.        , 0.        ,\n",
       "       0.        , 0.        , 0.        , 0.        , 0.        ,\n",
       "       0.        , 0.        , 0.        , 0.        , 0.        ,\n",
       "       0.31372549, 0.61176471, 0.41960784, 0.99215686, 0.99215686,\n",
       "       0.80392157, 0.04313725, 0.        , 0.16862745, 0.60392157,\n",
       "       0.        , 0.        , 0.        , 0.        , 0.        ,\n",
       "       0.        , 0.        , 0.        , 0.        , 0.        ,\n",
       "       0.        , 0.        , 0.        , 0.        , 0.        ,\n",
       "       0.        , 0.        , 0.        , 0.        , 0.05490196,\n",
       "       0.00392157, 0.60392157, 0.99215686, 0.35294118, 0.        ,\n",
       "       0.        , 0.        , 0.        , 0.        , 0.        ,\n",
       "       0.        , 0.        , 0.        , 0.        , 0.        ,\n",
       "       0.        , 0.        , 0.        , 0.        , 0.        ,\n",
       "       0.        , 0.        , 0.        , 0.        , 0.        ,\n",
       "       0.        , 0.        , 0.        , 0.        , 0.54509804,\n",
       "       0.99215686, 0.74509804, 0.00784314, 0.        , 0.        ,\n",
       "       0.        , 0.        , 0.        , 0.        , 0.        ,\n",
       "       0.        , 0.        , 0.        , 0.        , 0.        ,\n",
       "       0.        , 0.        , 0.        , 0.        , 0.        ,\n",
       "       0.        , 0.        , 0.        , 0.        , 0.        ,\n",
       "       0.        , 0.        , 0.04313725, 0.74509804, 0.99215686,\n",
       "       0.2745098 , 0.        , 0.        , 0.        , 0.        ,\n",
       "       0.        , 0.        , 0.        , 0.        , 0.        ,\n",
       "       0.        , 0.        , 0.        , 0.        , 0.        ,\n",
       "       0.        , 0.        , 0.        , 0.        , 0.        ,\n",
       "       0.        , 0.        , 0.        , 0.        , 0.        ,\n",
       "       0.        , 0.1372549 , 0.94509804, 0.88235294, 0.62745098,\n",
       "       0.42352941, 0.00392157, 0.        , 0.        , 0.        ,\n",
       "       0.        , 0.        , 0.        , 0.        , 0.        ,\n",
       "       0.        , 0.        , 0.        , 0.        , 0.        ,\n",
       "       0.        , 0.        , 0.        , 0.        , 0.        ,\n",
       "       0.        , 0.        , 0.        , 0.        , 0.        ,\n",
       "       0.31764706, 0.94117647, 0.99215686, 0.99215686, 0.46666667,\n",
       "       0.09803922, 0.        , 0.        , 0.        , 0.        ,\n",
       "       0.        , 0.        , 0.        , 0.        , 0.        ,\n",
       "       0.        , 0.        , 0.        , 0.        , 0.        ,\n",
       "       0.        , 0.        , 0.        , 0.        , 0.        ,\n",
       "       0.        , 0.        , 0.        , 0.        , 0.17647059,\n",
       "       0.72941176, 0.99215686, 0.99215686, 0.58823529, 0.10588235,\n",
       "       0.        , 0.        , 0.        , 0.        , 0.        ,\n",
       "       0.        , 0.        , 0.        , 0.        , 0.        ,\n",
       "       0.        , 0.        , 0.        , 0.        , 0.        ,\n",
       "       0.        , 0.        , 0.        , 0.        , 0.        ,\n",
       "       0.        , 0.        , 0.        , 0.0627451 , 0.36470588,\n",
       "       0.98823529, 0.99215686, 0.73333333, 0.        , 0.        ,\n",
       "       0.        , 0.        , 0.        , 0.        , 0.        ,\n",
       "       0.        , 0.        , 0.        , 0.        , 0.        ,\n",
       "       0.        , 0.        , 0.        , 0.        , 0.        ,\n",
       "       0.        , 0.        , 0.        , 0.        , 0.        ,\n",
       "       0.        , 0.        , 0.        , 0.97647059, 0.99215686,\n",
       "       0.97647059, 0.25098039, 0.        , 0.        , 0.        ,\n",
       "       0.        , 0.        , 0.        , 0.        , 0.        ,\n",
       "       0.        , 0.        , 0.        , 0.        , 0.        ,\n",
       "       0.        , 0.        , 0.        , 0.        , 0.        ,\n",
       "       0.        , 0.        , 0.        , 0.18039216, 0.50980392,\n",
       "       0.71764706, 0.99215686, 0.99215686, 0.81176471, 0.00784314,\n",
       "       0.        , 0.        , 0.        , 0.        , 0.        ,\n",
       "       0.        , 0.        , 0.        , 0.        , 0.        ,\n",
       "       0.        , 0.        , 0.        , 0.        , 0.        ,\n",
       "       0.        , 0.        , 0.        , 0.        , 0.15294118,\n",
       "       0.58039216, 0.89803922, 0.99215686, 0.99215686, 0.99215686,\n",
       "       0.98039216, 0.71372549, 0.        , 0.        , 0.        ,\n",
       "       0.        , 0.        , 0.        , 0.        , 0.        ,\n",
       "       0.        , 0.        , 0.        , 0.        , 0.        ,\n",
       "       0.        , 0.        , 0.        , 0.        , 0.        ,\n",
       "       0.09411765, 0.44705882, 0.86666667, 0.99215686, 0.99215686,\n",
       "       0.99215686, 0.99215686, 0.78823529, 0.30588235, 0.        ,\n",
       "       0.        , 0.        , 0.        , 0.        , 0.        ,\n",
       "       0.        , 0.        , 0.        , 0.        , 0.        ,\n",
       "       0.        , 0.        , 0.        , 0.        , 0.        ,\n",
       "       0.        , 0.09019608, 0.25882353, 0.83529412, 0.99215686,\n",
       "       0.99215686, 0.99215686, 0.99215686, 0.77647059, 0.31764706,\n",
       "       0.00784314, 0.        , 0.        , 0.        , 0.        ,\n",
       "       0.        , 0.        , 0.        , 0.        , 0.        ,\n",
       "       0.        , 0.        , 0.        , 0.        , 0.        ,\n",
       "       0.        , 0.        , 0.07058824, 0.67058824, 0.85882353,\n",
       "       0.99215686, 0.99215686, 0.99215686, 0.99215686, 0.76470588,\n",
       "       0.31372549, 0.03529412, 0.        , 0.        , 0.        ,\n",
       "       0.        , 0.        , 0.        , 0.        , 0.        ,\n",
       "       0.        , 0.        , 0.        , 0.        , 0.        ,\n",
       "       0.        , 0.        , 0.        , 0.21568627, 0.6745098 ,\n",
       "       0.88627451, 0.99215686, 0.99215686, 0.99215686, 0.99215686,\n",
       "       0.95686275, 0.52156863, 0.04313725, 0.        , 0.        ,\n",
       "       0.        , 0.        , 0.        , 0.        , 0.        ,\n",
       "       0.        , 0.        , 0.        , 0.        , 0.        ,\n",
       "       0.        , 0.        , 0.        , 0.        , 0.        ,\n",
       "       0.        , 0.53333333, 0.99215686, 0.99215686, 0.99215686,\n",
       "       0.83137255, 0.52941176, 0.51764706, 0.0627451 , 0.        ,\n",
       "       0.        , 0.        , 0.        , 0.        , 0.        ,\n",
       "       0.        , 0.        , 0.        , 0.        , 0.        ,\n",
       "       0.        , 0.        , 0.        , 0.        , 0.        ,\n",
       "       0.        , 0.        , 0.        , 0.        , 0.        ,\n",
       "       0.        , 0.        , 0.        , 0.        , 0.        ,\n",
       "       0.        , 0.        , 0.        , 0.        , 0.        ,\n",
       "       0.        , 0.        , 0.        , 0.        , 0.        ,\n",
       "       0.        , 0.        , 0.        , 0.        , 0.        ,\n",
       "       0.        , 0.        , 0.        , 0.        , 0.        ,\n",
       "       0.        , 0.        , 0.        , 0.        , 0.        ,\n",
       "       0.        , 0.        , 0.        , 0.        , 0.        ,\n",
       "       0.        , 0.        , 0.        , 0.        , 0.        ,\n",
       "       0.        , 0.        , 0.        , 0.        , 0.        ,\n",
       "       0.        , 0.        , 0.        , 0.        , 0.        ,\n",
       "       0.        , 0.        , 0.        , 0.        , 0.        ,\n",
       "       0.        , 0.        , 0.        , 0.        , 0.        ,\n",
       "       0.        , 0.        , 0.        , 0.        , 0.        ,\n",
       "       0.        , 0.        , 0.        , 0.        , 0.        ,\n",
       "       0.        , 0.        , 0.        , 0.        , 0.        ,\n",
       "       0.        , 0.        , 0.        , 0.        ])"
      ]
     },
     "execution_count": 15,
     "metadata": {},
     "output_type": "execute_result"
    }
   ],
   "source": [
    "x_train_flatten[0]"
   ]
  },
  {
   "cell_type": "code",
   "execution_count": 16,
   "id": "b6158913",
   "metadata": {
    "execution": {
     "iopub.execute_input": "2023-04-30T18:06:11.328409Z",
     "iopub.status.busy": "2023-04-30T18:06:11.328007Z",
     "iopub.status.idle": "2023-04-30T18:06:11.343150Z",
     "shell.execute_reply": "2023-04-30T18:06:11.341424Z"
    },
    "papermill": {
     "duration": 0.031553,
     "end_time": "2023-04-30T18:06:11.346151",
     "exception": false,
     "start_time": "2023-04-30T18:06:11.314598",
     "status": "completed"
    },
    "tags": []
   },
   "outputs": [
    {
     "data": {
      "text/plain": [
       "array([[0.        , 0.        , 0.        , 0.        , 0.        ,\n",
       "        0.        , 0.        , 0.        , 0.        , 0.        ,\n",
       "        0.        , 0.        , 0.        , 0.        , 0.        ,\n",
       "        0.        , 0.        , 0.        , 0.        , 0.        ,\n",
       "        0.        , 0.        , 0.        , 0.        , 0.        ,\n",
       "        0.        , 0.        , 0.        ],\n",
       "       [0.        , 0.        , 0.        , 0.        , 0.        ,\n",
       "        0.        , 0.        , 0.        , 0.        , 0.        ,\n",
       "        0.        , 0.        , 0.        , 0.        , 0.        ,\n",
       "        0.        , 0.        , 0.        , 0.        , 0.        ,\n",
       "        0.        , 0.        , 0.        , 0.        , 0.        ,\n",
       "        0.        , 0.        , 0.        ],\n",
       "       [0.        , 0.        , 0.        , 0.        , 0.        ,\n",
       "        0.        , 0.        , 0.        , 0.        , 0.        ,\n",
       "        0.        , 0.        , 0.        , 0.        , 0.        ,\n",
       "        0.        , 0.        , 0.        , 0.        , 0.        ,\n",
       "        0.        , 0.        , 0.        , 0.        , 0.        ,\n",
       "        0.        , 0.        , 0.        ],\n",
       "       [0.        , 0.        , 0.        , 0.        , 0.        ,\n",
       "        0.        , 0.        , 0.        , 0.        , 0.        ,\n",
       "        0.        , 0.        , 0.        , 0.        , 0.        ,\n",
       "        0.        , 0.        , 0.        , 0.        , 0.        ,\n",
       "        0.        , 0.        , 0.        , 0.        , 0.        ,\n",
       "        0.        , 0.        , 0.        ],\n",
       "       [0.        , 0.        , 0.        , 0.        , 0.        ,\n",
       "        0.        , 0.        , 0.        , 0.        , 0.        ,\n",
       "        0.        , 0.        , 0.        , 0.        , 0.        ,\n",
       "        0.        , 0.        , 0.        , 0.        , 0.        ,\n",
       "        0.        , 0.        , 0.        , 0.        , 0.        ,\n",
       "        0.        , 0.        , 0.        ],\n",
       "       [0.        , 0.        , 0.        , 0.        , 0.        ,\n",
       "        0.        , 0.        , 0.        , 0.        , 0.        ,\n",
       "        0.        , 0.        , 0.01176471, 0.07058824, 0.07058824,\n",
       "        0.07058824, 0.49411765, 0.53333333, 0.68627451, 0.10196078,\n",
       "        0.65098039, 1.        , 0.96862745, 0.49803922, 0.        ,\n",
       "        0.        , 0.        , 0.        ],\n",
       "       [0.        , 0.        , 0.        , 0.        , 0.        ,\n",
       "        0.        , 0.        , 0.        , 0.11764706, 0.14117647,\n",
       "        0.36862745, 0.60392157, 0.66666667, 0.99215686, 0.99215686,\n",
       "        0.99215686, 0.99215686, 0.99215686, 0.88235294, 0.6745098 ,\n",
       "        0.99215686, 0.94901961, 0.76470588, 0.25098039, 0.        ,\n",
       "        0.        , 0.        , 0.        ],\n",
       "       [0.        , 0.        , 0.        , 0.        , 0.        ,\n",
       "        0.        , 0.        , 0.19215686, 0.93333333, 0.99215686,\n",
       "        0.99215686, 0.99215686, 0.99215686, 0.99215686, 0.99215686,\n",
       "        0.99215686, 0.99215686, 0.98431373, 0.36470588, 0.32156863,\n",
       "        0.32156863, 0.21960784, 0.15294118, 0.        , 0.        ,\n",
       "        0.        , 0.        , 0.        ],\n",
       "       [0.        , 0.        , 0.        , 0.        , 0.        ,\n",
       "        0.        , 0.        , 0.07058824, 0.85882353, 0.99215686,\n",
       "        0.99215686, 0.99215686, 0.99215686, 0.99215686, 0.77647059,\n",
       "        0.71372549, 0.96862745, 0.94509804, 0.        , 0.        ,\n",
       "        0.        , 0.        , 0.        , 0.        , 0.        ,\n",
       "        0.        , 0.        , 0.        ],\n",
       "       [0.        , 0.        , 0.        , 0.        , 0.        ,\n",
       "        0.        , 0.        , 0.        , 0.31372549, 0.61176471,\n",
       "        0.41960784, 0.99215686, 0.99215686, 0.80392157, 0.04313725,\n",
       "        0.        , 0.16862745, 0.60392157, 0.        , 0.        ,\n",
       "        0.        , 0.        , 0.        , 0.        , 0.        ,\n",
       "        0.        , 0.        , 0.        ],\n",
       "       [0.        , 0.        , 0.        , 0.        , 0.        ,\n",
       "        0.        , 0.        , 0.        , 0.        , 0.05490196,\n",
       "        0.00392157, 0.60392157, 0.99215686, 0.35294118, 0.        ,\n",
       "        0.        , 0.        , 0.        , 0.        , 0.        ,\n",
       "        0.        , 0.        , 0.        , 0.        , 0.        ,\n",
       "        0.        , 0.        , 0.        ],\n",
       "       [0.        , 0.        , 0.        , 0.        , 0.        ,\n",
       "        0.        , 0.        , 0.        , 0.        , 0.        ,\n",
       "        0.        , 0.54509804, 0.99215686, 0.74509804, 0.00784314,\n",
       "        0.        , 0.        , 0.        , 0.        , 0.        ,\n",
       "        0.        , 0.        , 0.        , 0.        , 0.        ,\n",
       "        0.        , 0.        , 0.        ],\n",
       "       [0.        , 0.        , 0.        , 0.        , 0.        ,\n",
       "        0.        , 0.        , 0.        , 0.        , 0.        ,\n",
       "        0.        , 0.04313725, 0.74509804, 0.99215686, 0.2745098 ,\n",
       "        0.        , 0.        , 0.        , 0.        , 0.        ,\n",
       "        0.        , 0.        , 0.        , 0.        , 0.        ,\n",
       "        0.        , 0.        , 0.        ],\n",
       "       [0.        , 0.        , 0.        , 0.        , 0.        ,\n",
       "        0.        , 0.        , 0.        , 0.        , 0.        ,\n",
       "        0.        , 0.        , 0.1372549 , 0.94509804, 0.88235294,\n",
       "        0.62745098, 0.42352941, 0.00392157, 0.        , 0.        ,\n",
       "        0.        , 0.        , 0.        , 0.        , 0.        ,\n",
       "        0.        , 0.        , 0.        ],\n",
       "       [0.        , 0.        , 0.        , 0.        , 0.        ,\n",
       "        0.        , 0.        , 0.        , 0.        , 0.        ,\n",
       "        0.        , 0.        , 0.        , 0.31764706, 0.94117647,\n",
       "        0.99215686, 0.99215686, 0.46666667, 0.09803922, 0.        ,\n",
       "        0.        , 0.        , 0.        , 0.        , 0.        ,\n",
       "        0.        , 0.        , 0.        ],\n",
       "       [0.        , 0.        , 0.        , 0.        , 0.        ,\n",
       "        0.        , 0.        , 0.        , 0.        , 0.        ,\n",
       "        0.        , 0.        , 0.        , 0.        , 0.17647059,\n",
       "        0.72941176, 0.99215686, 0.99215686, 0.58823529, 0.10588235,\n",
       "        0.        , 0.        , 0.        , 0.        , 0.        ,\n",
       "        0.        , 0.        , 0.        ],\n",
       "       [0.        , 0.        , 0.        , 0.        , 0.        ,\n",
       "        0.        , 0.        , 0.        , 0.        , 0.        ,\n",
       "        0.        , 0.        , 0.        , 0.        , 0.        ,\n",
       "        0.0627451 , 0.36470588, 0.98823529, 0.99215686, 0.73333333,\n",
       "        0.        , 0.        , 0.        , 0.        , 0.        ,\n",
       "        0.        , 0.        , 0.        ],\n",
       "       [0.        , 0.        , 0.        , 0.        , 0.        ,\n",
       "        0.        , 0.        , 0.        , 0.        , 0.        ,\n",
       "        0.        , 0.        , 0.        , 0.        , 0.        ,\n",
       "        0.        , 0.        , 0.97647059, 0.99215686, 0.97647059,\n",
       "        0.25098039, 0.        , 0.        , 0.        , 0.        ,\n",
       "        0.        , 0.        , 0.        ],\n",
       "       [0.        , 0.        , 0.        , 0.        , 0.        ,\n",
       "        0.        , 0.        , 0.        , 0.        , 0.        ,\n",
       "        0.        , 0.        , 0.        , 0.        , 0.18039216,\n",
       "        0.50980392, 0.71764706, 0.99215686, 0.99215686, 0.81176471,\n",
       "        0.00784314, 0.        , 0.        , 0.        , 0.        ,\n",
       "        0.        , 0.        , 0.        ],\n",
       "       [0.        , 0.        , 0.        , 0.        , 0.        ,\n",
       "        0.        , 0.        , 0.        , 0.        , 0.        ,\n",
       "        0.        , 0.        , 0.15294118, 0.58039216, 0.89803922,\n",
       "        0.99215686, 0.99215686, 0.99215686, 0.98039216, 0.71372549,\n",
       "        0.        , 0.        , 0.        , 0.        , 0.        ,\n",
       "        0.        , 0.        , 0.        ],\n",
       "       [0.        , 0.        , 0.        , 0.        , 0.        ,\n",
       "        0.        , 0.        , 0.        , 0.        , 0.        ,\n",
       "        0.09411765, 0.44705882, 0.86666667, 0.99215686, 0.99215686,\n",
       "        0.99215686, 0.99215686, 0.78823529, 0.30588235, 0.        ,\n",
       "        0.        , 0.        , 0.        , 0.        , 0.        ,\n",
       "        0.        , 0.        , 0.        ],\n",
       "       [0.        , 0.        , 0.        , 0.        , 0.        ,\n",
       "        0.        , 0.        , 0.        , 0.09019608, 0.25882353,\n",
       "        0.83529412, 0.99215686, 0.99215686, 0.99215686, 0.99215686,\n",
       "        0.77647059, 0.31764706, 0.00784314, 0.        , 0.        ,\n",
       "        0.        , 0.        , 0.        , 0.        , 0.        ,\n",
       "        0.        , 0.        , 0.        ],\n",
       "       [0.        , 0.        , 0.        , 0.        , 0.        ,\n",
       "        0.        , 0.07058824, 0.67058824, 0.85882353, 0.99215686,\n",
       "        0.99215686, 0.99215686, 0.99215686, 0.76470588, 0.31372549,\n",
       "        0.03529412, 0.        , 0.        , 0.        , 0.        ,\n",
       "        0.        , 0.        , 0.        , 0.        , 0.        ,\n",
       "        0.        , 0.        , 0.        ],\n",
       "       [0.        , 0.        , 0.        , 0.        , 0.21568627,\n",
       "        0.6745098 , 0.88627451, 0.99215686, 0.99215686, 0.99215686,\n",
       "        0.99215686, 0.95686275, 0.52156863, 0.04313725, 0.        ,\n",
       "        0.        , 0.        , 0.        , 0.        , 0.        ,\n",
       "        0.        , 0.        , 0.        , 0.        , 0.        ,\n",
       "        0.        , 0.        , 0.        ],\n",
       "       [0.        , 0.        , 0.        , 0.        , 0.53333333,\n",
       "        0.99215686, 0.99215686, 0.99215686, 0.83137255, 0.52941176,\n",
       "        0.51764706, 0.0627451 , 0.        , 0.        , 0.        ,\n",
       "        0.        , 0.        , 0.        , 0.        , 0.        ,\n",
       "        0.        , 0.        , 0.        , 0.        , 0.        ,\n",
       "        0.        , 0.        , 0.        ],\n",
       "       [0.        , 0.        , 0.        , 0.        , 0.        ,\n",
       "        0.        , 0.        , 0.        , 0.        , 0.        ,\n",
       "        0.        , 0.        , 0.        , 0.        , 0.        ,\n",
       "        0.        , 0.        , 0.        , 0.        , 0.        ,\n",
       "        0.        , 0.        , 0.        , 0.        , 0.        ,\n",
       "        0.        , 0.        , 0.        ],\n",
       "       [0.        , 0.        , 0.        , 0.        , 0.        ,\n",
       "        0.        , 0.        , 0.        , 0.        , 0.        ,\n",
       "        0.        , 0.        , 0.        , 0.        , 0.        ,\n",
       "        0.        , 0.        , 0.        , 0.        , 0.        ,\n",
       "        0.        , 0.        , 0.        , 0.        , 0.        ,\n",
       "        0.        , 0.        , 0.        ],\n",
       "       [0.        , 0.        , 0.        , 0.        , 0.        ,\n",
       "        0.        , 0.        , 0.        , 0.        , 0.        ,\n",
       "        0.        , 0.        , 0.        , 0.        , 0.        ,\n",
       "        0.        , 0.        , 0.        , 0.        , 0.        ,\n",
       "        0.        , 0.        , 0.        , 0.        , 0.        ,\n",
       "        0.        , 0.        , 0.        ]])"
      ]
     },
     "execution_count": 16,
     "metadata": {},
     "output_type": "execute_result"
    }
   ],
   "source": [
    "x_train[0]"
   ]
  },
  {
   "cell_type": "code",
   "execution_count": 17,
   "id": "87a6affd",
   "metadata": {
    "execution": {
     "iopub.execute_input": "2023-04-30T18:06:11.373007Z",
     "iopub.status.busy": "2023-04-30T18:06:11.371505Z",
     "iopub.status.idle": "2023-04-30T18:06:11.381159Z",
     "shell.execute_reply": "2023-04-30T18:06:11.379753Z"
    },
    "papermill": {
     "duration": 0.025321,
     "end_time": "2023-04-30T18:06:11.383743",
     "exception": false,
     "start_time": "2023-04-30T18:06:11.358422",
     "status": "completed"
    },
    "tags": []
   },
   "outputs": [
    {
     "data": {
      "text/plain": [
       "10000"
      ]
     },
     "execution_count": 17,
     "metadata": {},
     "output_type": "execute_result"
    }
   ],
   "source": [
    "len(x_test)"
   ]
  },
  {
   "cell_type": "code",
   "execution_count": 18,
   "id": "9bef7da6",
   "metadata": {
    "execution": {
     "iopub.execute_input": "2023-04-30T18:06:11.409611Z",
     "iopub.status.busy": "2023-04-30T18:06:11.408078Z",
     "iopub.status.idle": "2023-04-30T18:06:11.417480Z",
     "shell.execute_reply": "2023-04-30T18:06:11.416426Z"
    },
    "papermill": {
     "duration": 0.025006,
     "end_time": "2023-04-30T18:06:11.420088",
     "exception": false,
     "start_time": "2023-04-30T18:06:11.395082",
     "status": "completed"
    },
    "tags": []
   },
   "outputs": [
    {
     "data": {
      "text/plain": [
       "(10000, 784)"
      ]
     },
     "execution_count": 18,
     "metadata": {},
     "output_type": "execute_result"
    }
   ],
   "source": [
    "x_test_flatten = x_test.reshape(len(x_test),28*28)\n",
    "x_test_flatten.shape\n",
    "# we are reshaping the numoy array "
   ]
  },
  {
   "cell_type": "code",
   "execution_count": 19,
   "id": "66b41a59",
   "metadata": {
    "execution": {
     "iopub.execute_input": "2023-04-30T18:06:11.445563Z",
     "iopub.status.busy": "2023-04-30T18:06:11.445035Z",
     "iopub.status.idle": "2023-04-30T18:08:05.303199Z",
     "shell.execute_reply": "2023-04-30T18:08:05.301396Z"
    },
    "papermill": {
     "duration": 113.874371,
     "end_time": "2023-04-30T18:08:05.306258",
     "exception": false,
     "start_time": "2023-04-30T18:06:11.431887",
     "status": "completed"
    },
    "tags": []
   },
   "outputs": [
    {
     "name": "stdout",
     "output_type": "stream",
     "text": [
      "Epoch 1/5\n",
      "1875/1875 [==============================] - 24s 12ms/step - loss: 0.1996 - accuracy: 0.9405\n",
      "Epoch 2/5\n",
      "1875/1875 [==============================] - 22s 12ms/step - loss: 0.0768 - accuracy: 0.9765\n",
      "Epoch 3/5\n",
      "1875/1875 [==============================] - 22s 12ms/step - loss: 0.0517 - accuracy: 0.9836\n",
      "Epoch 4/5\n",
      "1875/1875 [==============================] - 22s 12ms/step - loss: 0.0347 - accuracy: 0.9888\n",
      "Epoch 5/5\n",
      "1875/1875 [==============================] - 22s 12ms/step - loss: 0.0255 - accuracy: 0.9919\n"
     ]
    },
    {
     "data": {
      "text/plain": [
       "<keras.callbacks.History at 0x756ecca06450>"
      ]
     },
     "execution_count": 19,
     "metadata": {},
     "output_type": "execute_result"
    }
   ],
   "source": [
    "# defines the simple neural network using the simple API of tensorflow.\n",
    "# sequential is used to stack the layers of neural network.\n",
    "# layers.Dense is used tp create a dense layer .\n",
    "# dense layer is that every input node is connected to every the output layer .\n",
    "# using sigmoid function\n",
    "# \n",
    "model = keras.Sequential([\n",
    "    keras.layers.Dense(1000, input_shape = (784,),activation='relu'),\n",
    "    keras.layers.Dense(100,activation='sigmoid')\n",
    "])\n",
    "# we are configuring the model here \n",
    "# with loss function as \"sparse_categorical_cossentropy\"\n",
    "# and optimizer = \"adam\"\n",
    "# mertices as = \"accuracy\".\n",
    "# \n",
    "\n",
    "\n",
    "# tensorboard callback.\n",
    "# logs of the model will stored specified by the log_dir .\n",
    "# \n",
    "tb_callback = tf.keras.callbacks.TensorBoard(log_dir=\"logs/\",histogram_freq=1)\n",
    "\n",
    "\n",
    "# \n",
    "model.compile(\n",
    "    optimizer = 'adam',\n",
    "    loss = 'sparse_categorical_crossentropy',\n",
    "    metrics = ['accuracy']\n",
    ")\n",
    "# fit() is used to train data set with a definite number of epochs.\n",
    "# in our case here epochs = 5 .\n",
    "model.fit(x_train_flatten, y_train , epochs = 5, callbacks =[tb_callback])\n",
    "# one of the methods to improve accuracy is to scale up the training data set .\n"
   ]
  },
  {
   "cell_type": "code",
   "execution_count": 20,
   "id": "592c947e",
   "metadata": {
    "execution": {
     "iopub.execute_input": "2023-04-30T18:08:05.582122Z",
     "iopub.status.busy": "2023-04-30T18:08:05.581574Z",
     "iopub.status.idle": "2023-04-30T18:08:05.599527Z",
     "shell.execute_reply": "2023-04-30T18:08:05.598005Z"
    },
    "papermill": {
     "duration": 0.160468,
     "end_time": "2023-04-30T18:08:05.602663",
     "exception": false,
     "start_time": "2023-04-30T18:08:05.442195",
     "status": "completed"
    },
    "tags": []
   },
   "outputs": [],
   "source": [
    "# To connect the kaggle notebook to the tensorflow seervices.\n",
    "%load_ext tensorboard"
   ]
  },
  {
   "cell_type": "code",
   "execution_count": 21,
   "id": "b15675b3",
   "metadata": {
    "execution": {
     "iopub.execute_input": "2023-04-30T18:08:05.877405Z",
     "iopub.status.busy": "2023-04-30T18:08:05.875707Z",
     "iopub.status.idle": "2023-04-30T18:08:05.883099Z",
     "shell.execute_reply": "2023-04-30T18:08:05.881601Z"
    },
    "papermill": {
     "duration": 0.14752,
     "end_time": "2023-04-30T18:08:05.886286",
     "exception": false,
     "start_time": "2023-04-30T18:08:05.738766",
     "status": "completed"
    },
    "tags": []
   },
   "outputs": [],
   "source": [
    "# to locate the destination of the logs .\n",
    "log_dir = '/kaggle/working/logs'"
   ]
  },
  {
   "cell_type": "code",
   "execution_count": 22,
   "id": "8b82d9f9",
   "metadata": {
    "execution": {
     "iopub.execute_input": "2023-04-30T18:08:06.162993Z",
     "iopub.status.busy": "2023-04-30T18:08:06.162478Z",
     "iopub.status.idle": "2023-04-30T18:08:13.731174Z",
     "shell.execute_reply": "2023-04-30T18:08:13.729645Z"
    },
    "papermill": {
     "duration": 7.710794,
     "end_time": "2023-04-30T18:08:13.734585",
     "exception": false,
     "start_time": "2023-04-30T18:08:06.023791",
     "status": "completed"
    },
    "tags": []
   },
   "outputs": [
    {
     "data": {
      "text/html": [
       "\n",
       "      <iframe id=\"tensorboard-frame-a1ec6f6015cf4ba7\" width=\"100%\" height=\"800\" frameborder=\"0\">\n",
       "      </iframe>\n",
       "      <script>\n",
       "        (function() {\n",
       "          const frame = document.getElementById(\"tensorboard-frame-a1ec6f6015cf4ba7\");\n",
       "          const url = new URL(\"/\", window.location);\n",
       "          const port = 6006;\n",
       "          if (port) {\n",
       "            url.port = port;\n",
       "          }\n",
       "          frame.src = url;\n",
       "        })();\n",
       "      </script>\n",
       "    "
      ],
      "text/plain": [
       "<IPython.core.display.HTML object>"
      ]
     },
     "metadata": {},
     "output_type": "display_data"
    }
   ],
   "source": [
    "%tensorboard --logdir={log_dir}"
   ]
  },
  {
   "cell_type": "code",
   "execution_count": 23,
   "id": "d72210b2",
   "metadata": {
    "execution": {
     "iopub.execute_input": "2023-04-30T18:08:14.007250Z",
     "iopub.status.busy": "2023-04-30T18:08:14.006357Z",
     "iopub.status.idle": "2023-04-30T18:08:14.356597Z",
     "shell.execute_reply": "2023-04-30T18:08:14.354782Z"
    },
    "papermill": {
     "duration": 0.489706,
     "end_time": "2023-04-30T18:08:14.359630",
     "exception": false,
     "start_time": "2023-04-30T18:08:13.869924",
     "status": "completed"
    },
    "tags": []
   },
   "outputs": [
    {
     "data": {
      "text/plain": [
       "<matplotlib.image.AxesImage at 0x756ea433f190>"
      ]
     },
     "execution_count": 23,
     "metadata": {},
     "output_type": "execute_result"
    },
    {
     "data": {
      "image/png": "[encoded data removed]",
      "text/plain": [
       "<Figure size 480x480 with 1 Axes>"
      ]
     },
     "metadata": {},
     "output_type": "display_data"
    }
   ],
   "source": [
    "plt.matshow(x_test[2])"
   ]
  },
  {
   "cell_type": "code",
   "execution_count": 24,
   "id": "809f688d",
   "metadata": {
    "execution": {
     "iopub.execute_input": "2023-04-30T18:08:14.660463Z",
     "iopub.status.busy": "2023-04-30T18:08:14.660037Z",
     "iopub.status.idle": "2023-04-30T18:08:16.479501Z",
     "shell.execute_reply": "2023-04-30T18:08:16.478046Z"
    },
    "papermill": {
     "duration": 1.960827,
     "end_time": "2023-04-30T18:08:16.482965",
     "exception": false,
     "start_time": "2023-04-30T18:08:14.522138",
     "status": "completed"
    },
    "tags": []
   },
   "outputs": [
    {
     "name": "stdout",
     "output_type": "stream",
     "text": [
      "313/313 [==============================] - 2s 4ms/step\n"
     ]
    },
    {
     "data": {
      "text/plain": [
       "array([[8.6574751e-04, 3.2880094e-03, 2.9617954e-02, ..., 5.6518363e-09,\n",
       "        6.4299508e-09, 2.7362417e-09],\n",
       "       [8.2997065e-03, 7.3180407e-02, 1.0000000e+00, ..., 6.1487604e-10,\n",
       "        5.2155891e-10, 1.2978401e-09],\n",
       "       [9.7383072e-06, 9.9918026e-01, 6.4666077e-02, ..., 5.1767836e-07,\n",
       "        3.1683126e-07, 4.3843252e-07],\n",
       "       ...,\n",
       "       [1.5051124e-10, 1.8592909e-06, 4.9556638e-06, ..., 1.1379472e-09,\n",
       "        6.5750511e-10, 1.3040037e-09],\n",
       "       [2.5433551e-03, 2.3160790e-06, 4.9327438e-05, ..., 1.8839859e-09,\n",
       "        3.8715471e-09, 3.3768230e-09],\n",
       "       [8.6318422e-03, 4.8154784e-06, 4.2825365e-01, ..., 9.3394066e-09,\n",
       "        4.1102579e-09, 6.8128534e-09]], dtype=float32)"
      ]
     },
     "execution_count": 24,
     "metadata": {},
     "output_type": "execute_result"
    }
   ],
   "source": [
    "model.predict(x_test_flatten)"
   ]
  },
  {
   "cell_type": "code",
   "execution_count": 25,
   "id": "0d287220",
   "metadata": {
    "execution": {
     "iopub.execute_input": "2023-04-30T18:08:16.836960Z",
     "iopub.status.busy": "2023-04-30T18:08:16.836001Z",
     "iopub.status.idle": "2023-04-30T18:08:19.549737Z",
     "shell.execute_reply": "2023-04-30T18:08:19.548232Z"
    },
    "papermill": {
     "duration": 2.932678,
     "end_time": "2023-04-30T18:08:19.553017",
     "exception": false,
     "start_time": "2023-04-30T18:08:16.620339",
     "status": "completed"
    },
    "tags": []
   },
   "outputs": [
    {
     "name": "stdout",
     "output_type": "stream",
     "text": [
      "313/313 [==============================] - 1s 4ms/step\n"
     ]
    },
    {
     "data": {
      "text/plain": [
       "array([8.29970650e-03, 7.31804073e-02, 1.00000000e+00, 2.42494851e-01,\n",
       "       2.67060159e-11, 4.18426795e-03, 9.28172449e-05, 1.50259840e-08,\n",
       "       2.76844632e-02, 3.57585392e-08, 7.91917476e-10, 1.79516257e-09,\n",
       "       1.44313339e-09, 1.02312265e-08, 2.97501412e-10, 3.36095651e-10,\n",
       "       4.80342655e-09, 2.47895748e-09, 2.96731395e-09, 1.20976151e-09,\n",
       "       4.69603856e-10, 1.20755994e-09, 1.07301246e-09, 1.43273604e-09,\n",
       "       2.73644507e-09, 6.96891989e-10, 4.19502832e-09, 5.10328002e-10,\n",
       "       5.34842615e-10, 1.21254802e-08, 5.47255885e-09, 9.38713884e-10,\n",
       "       8.40168213e-10, 8.75840733e-10, 3.67200048e-09, 5.33712519e-10,\n",
       "       8.56912263e-10, 2.21759569e-10, 5.36297284e-10, 1.33885403e-09,\n",
       "       2.55564736e-10, 2.38992992e-10, 3.81387089e-10, 8.63692451e-10,\n",
       "       4.22398644e-10, 4.19589835e-10, 4.03065609e-10, 4.74453865e-10,\n",
       "       1.38832967e-09, 3.38922335e-10, 9.30059474e-10, 3.94154626e-10,\n",
       "       3.50183466e-10, 6.06914696e-09, 1.93687311e-09, 3.97993055e-10,\n",
       "       3.91599184e-11, 2.89942781e-09, 6.44844400e-10, 1.55282531e-09,\n",
       "       3.88922644e-10, 9.86247417e-10, 9.34444411e-10, 2.65901440e-10,\n",
       "       1.16299470e-09, 9.19097742e-10, 5.80394566e-10, 1.46996115e-09,\n",
       "       1.34500966e-09, 6.84397761e-10, 8.56395954e-10, 3.98322653e-10,\n",
       "       1.67469949e-09, 1.08552833e-09, 1.11483323e-09, 1.53034685e-09,\n",
       "       6.07418471e-09, 1.12767329e-09, 4.74931927e-10, 5.49829460e-10,\n",
       "       1.93948566e-10, 2.03622258e-10, 8.79973316e-10, 6.02715378e-10,\n",
       "       3.43563594e-10, 2.00817962e-09, 1.29545596e-09, 4.26449487e-10,\n",
       "       3.96632782e-10, 5.30038125e-10, 7.15054460e-10, 1.11651000e-09,\n",
       "       8.68398575e-10, 4.88572516e-10, 3.64450720e-10, 1.58306857e-09,\n",
       "       1.67444322e-10, 6.14876039e-10, 5.21558907e-10, 1.29784006e-09],\n",
       "      dtype=float32)"
      ]
     },
     "execution_count": 25,
     "metadata": {},
     "output_type": "execute_result"
    }
   ],
   "source": [
    "y_pred = model.predict(x_test_flatten)\n",
    "y_pred[1]"
   ]
  },
  {
   "cell_type": "code",
   "execution_count": 26,
   "id": "729d3778",
   "metadata": {
    "execution": {
     "iopub.execute_input": "2023-04-30T18:08:19.847853Z",
     "iopub.status.busy": "2023-04-30T18:08:19.847284Z",
     "iopub.status.idle": "2023-04-30T18:08:19.857592Z",
     "shell.execute_reply": "2023-04-30T18:08:19.855979Z"
    },
    "papermill": {
     "duration": 0.164203,
     "end_time": "2023-04-30T18:08:19.861208",
     "exception": false,
     "start_time": "2023-04-30T18:08:19.697005",
     "status": "completed"
    },
    "tags": []
   },
   "outputs": [
    {
     "data": {
      "text/plain": [
       "1"
      ]
     },
     "execution_count": 26,
     "metadata": {},
     "output_type": "execute_result"
    }
   ],
   "source": [
    "np.argmax(y_pred[2])"
   ]
  },
  {
   "cell_type": "code",
   "execution_count": 27,
   "id": "1c1ed6ef",
   "metadata": {
    "execution": {
     "iopub.execute_input": "2023-04-30T18:08:20.145814Z",
     "iopub.status.busy": "2023-04-30T18:08:20.145267Z",
     "iopub.status.idle": "2023-04-30T18:08:20.176258Z",
     "shell.execute_reply": "2023-04-30T18:08:20.174905Z"
    },
    "papermill": {
     "duration": 0.173738,
     "end_time": "2023-04-30T18:08:20.179111",
     "exception": false,
     "start_time": "2023-04-30T18:08:20.005373",
     "status": "completed"
    },
    "tags": []
   },
   "outputs": [
    {
     "data": {
      "text/plain": [
       "[7, 2, 1, 0, 4]"
      ]
     },
     "execution_count": 27,
     "metadata": {},
     "output_type": "execute_result"
    }
   ],
   "source": [
    "y_pred_label= [np.argmax(i) for i in y_pred]\n",
    "y_pred_label[:5]"
   ]
  },
  {
   "cell_type": "code",
   "execution_count": 28,
   "id": "e8d5cb4f",
   "metadata": {
    "execution": {
     "iopub.execute_input": "2023-04-30T18:08:20.466273Z",
     "iopub.status.busy": "2023-04-30T18:08:20.464530Z",
     "iopub.status.idle": "2023-04-30T18:08:20.475289Z",
     "shell.execute_reply": "2023-04-30T18:08:20.473342Z"
    },
    "papermill": {
     "duration": 0.157998,
     "end_time": "2023-04-30T18:08:20.478138",
     "exception": false,
     "start_time": "2023-04-30T18:08:20.320140",
     "status": "completed"
    },
    "tags": []
   },
   "outputs": [
    {
     "data": {
      "text/plain": [
       "array([7, 2, 1, 0, 4], dtype=uint8)"
      ]
     },
     "execution_count": 28,
     "metadata": {},
     "output_type": "execute_result"
    }
   ],
   "source": [
    "y_test[:5]"
   ]
  },
  {
   "cell_type": "code",
   "execution_count": 29,
   "id": "3678197f",
   "metadata": {
    "execution": {
     "iopub.execute_input": "2023-04-30T18:08:20.757124Z",
     "iopub.status.busy": "2023-04-30T18:08:20.756641Z",
     "iopub.status.idle": "2023-04-30T18:08:20.797477Z",
     "shell.execute_reply": "2023-04-30T18:08:20.795844Z"
    },
    "papermill": {
     "duration": 0.184419,
     "end_time": "2023-04-30T18:08:20.800495",
     "exception": false,
     "start_time": "2023-04-30T18:08:20.616076",
     "status": "completed"
    },
    "tags": []
   },
   "outputs": [
    {
     "data": {
      "text/plain": [
       "<tf.Tensor: shape=(10, 10), dtype=int32, numpy=\n",
       "array([[ 972,    1,    0,    0,    0,    0,    2,    1,    3,    1],\n",
       "       [   0, 1122,    9,    1,    0,    2,    1,    0,    0,    0],\n",
       "       [   3,    0, 1024,    0,    0,    0,    0,    4,    1,    0],\n",
       "       [   0,    0,   10,  986,    0,    2,    0,    3,    3,    6],\n",
       "       [   1,    0,    7,    0,  960,    0,    2,    2,    1,    9],\n",
       "       [   1,    0,    0,   10,    1,  873,    3,    1,    3,    0],\n",
       "       [   5,    2,    5,    1,    4,    4,  937,    0,    0,    0],\n",
       "       [   1,    0,   11,    1,    0,    0,    0, 1012,    2,    1],\n",
       "       [   1,    0,   35,    5,    2,    3,    1,    5,  918,    4],\n",
       "       [   3,    3,    1,    4,    7,    2,    0,    6,    0,  983]],\n",
       "      dtype=int32)>"
      ]
     },
     "execution_count": 29,
     "metadata": {},
     "output_type": "execute_result"
    }
   ],
   "source": [
    "# creating the confusion matrix \n",
    "# This function is the one to create an confusion matrix with \n",
    "# label == Y_test >>> that is the test data .\n",
    "# predictions is the actual predicted value .\n",
    "cm = tf.math.confusion_matrix(labels = y_test, predictions = y_pred_label)\n",
    "cm"
   ]
  },
  {
   "cell_type": "code",
   "execution_count": 30,
   "id": "37677fcd",
   "metadata": {
    "execution": {
     "iopub.execute_input": "2023-04-30T18:08:21.142480Z",
     "iopub.status.busy": "2023-04-30T18:08:21.141647Z",
     "iopub.status.idle": "2023-04-30T18:08:22.904215Z",
     "shell.execute_reply": "2023-04-30T18:08:22.902959Z"
    },
    "papermill": {
     "duration": 1.96686,
     "end_time": "2023-04-30T18:08:22.907054",
     "exception": false,
     "start_time": "2023-04-30T18:08:20.940194",
     "status": "completed"
    },
    "tags": []
   },
   "outputs": [
    {
     "data": {
      "text/plain": [
       "<AxesSubplot:>"
      ]
     },
     "execution_count": 30,
     "metadata": {},
     "output_type": "execute_result"
    },
    {
     "data": {
      "image/png": "[encoded data removed]",
      "text/plain": [
       "<Figure size 1000x700 with 2 Axes>"
      ]
     },
     "metadata": {},
     "output_type": "display_data"
    }
   ],
   "source": [
    "import seaborn as sn \n",
    "# creates an figure wit\n",
    "plt.figure(figsize = (10,7))\n",
    "sn.heatmap(cm, annot = True ,fmt = 'd')"
   ]
  }
 ],
 "metadata": {
  "kernelspec": {
   "display_name": "Python 3",
   "language": "python",
   "name": "python3"
  },
  "language_info": {
   "codemirror_mode": {
    "name": "ipython",
    "version": 3
   },
   "file_extension": ".py",
   "mimetype": "text/x-python",
   "name": "python",
   "nbconvert_exporter": "python",
   "pygments_lexer": "ipython3",
   "version": "3.7.12"
  },
  "papermill": {
   "default_parameters": {},
   "duration": 159.401581,
   "end_time": "2023-04-30T18:08:25.671439",
   "environment_variables": {},
   "exception": null,
   "input_path": "__notebook__.ipynb",
   "output_path": "__notebook__.ipynb",
   "parameters": {},
   "start_time": "2023-04-30T18:05:46.269858",
   "version": "2.4.0"
  }
 },
 "nbformat": 4,
 "nbformat_minor": 5
}
